{
 "cells": [
  {
   "cell_type": "code",
   "execution_count": null,
   "metadata": {},
   "outputs": [],
   "source": [
    "import os\n",
    "pwd = os.getcwd()\n",
    "\n",
    "pwd"
   ]
  },
  {
   "cell_type": "code",
   "execution_count": null,
   "metadata": {},
   "outputs": [],
   "source": [
    "import pandas as pd\n",
    "import numpy as np\n",
    "import sys\n",
    "\n",
    "if \"/home/\" in pwd:\n",
    "    sys.path.insert(0, \"./utils\")\n",
    "    sys.path.insert(0, \"/mnt/d/cloud/unizg/OneDrive - Faculty of Graphic Arts of University of Zagreb/poligon/Pocket ML/utils\")\n",
    "elif \"\\\\cloud\\\\\" in pwd:\n",
    "    sys.path.insert(0, \"../utils\")\n",
    "\n",
    "\n",
    "from workbench import Stats"
   ]
  },
  {
   "cell_type": "markdown",
   "metadata": {},
   "source": [
    "### Učitavanje podataka iz triju baza\n",
    "\n",
    "Sve tri baze su unaprijed pripremljene preko `wikiart-setup.py`, `wikiart-emotions-setup.py` i moćnih ručno izrađenih alata za baratanje ovim bazama smještenih u `../../utils` direktoriju.\n",
    "\n",
    "WikiArt baza je ta koja je pripremljena s već kategoriziranim stilovima. Ta kategorizacija nije nužno idealna i vjerojatno će ju trebati ponoviti, ali na probranom uzorku izložaka jer, čini mi se, nema razloga teretiti cijelu bazu već samo uzorak za trening i testiranje."
   ]
  },
  {
   "cell_type": "code",
   "execution_count": null,
   "metadata": {},
   "outputs": [],
   "source": [
    "wikiart = Stats(data_url=\"./data/wikiart_paintings.parquet\", title=\"Wikiart\")\n",
    "emotions = Stats(data_url=\"./data/Wikiart-Emotions-All-t.parquet\", title=\"Wikiart-emotions\")\n",
    "artemis = Stats(data_url=\"./data/artemis_dataset_release_v0-t2.parquet\", title=\"ArtEmis\")"
   ]
  },
  {
   "cell_type": "markdown",
   "metadata": {},
   "source": [
    "### Spajanje WikiArt baze s Artemis bazom"
   ]
  },
  {
   "cell_type": "code",
   "execution_count": null,
   "metadata": {},
   "outputs": [],
   "source": [
    "mappings = wikiart.raw_data.merge(artemis.raw_data.rename(columns={\"emotion\":\"artemis\", \"Artist\": \"artistName\", \"Title\": \"title\"})[[\"artistName\", \"title\", \"artemis\"]], on=[\"artistName\", \"title\"], how=\"left\")\n",
    "mappings.dropna(subset=[\"artemis\"]).shape, artemis.raw_data.shape"
   ]
  },
  {
   "cell_type": "markdown",
   "metadata": {},
   "source": [
    "### Spajanje WikiArt-Artemis baze s WikiArt_emotions bazom"
   ]
  },
  {
   "cell_type": "code",
   "execution_count": null,
   "metadata": {},
   "outputs": [],
   "source": [
    "emotions_cols = emotions.raw_data[['emotion', 'Is painting', 'Face/body', 'Rating', \"Title\", \"Artist\", \"Year\", 'webUrl']].rename(columns={\"emotion\": \"emotions\", \"Title\": \"title\", \"Artist\": \"artistName\", \"webUrl\": \"webUrl2\"})\n",
    "mappings_em = mappings.merge(emotions_cols, on=[\"artistName\", \"title\"], how=\"left\")\n",
    "\n",
    "mappings_em.dropna(subset=[\"emotions\"]).shape, emotions_cols.shape"
   ]
  },
  {
   "cell_type": "markdown",
   "metadata": {},
   "source": [
    "### Čišćenje i optimiziranje"
   ]
  },
  {
   "cell_type": "code",
   "execution_count": null,
   "metadata": {},
   "outputs": [],
   "source": [
    "# from styles import style_categories as styles\n",
    "int_columns = ['Icon', 'Realism', 'Romanticism', 'Impressionism', 'Expressionism', 'Surrealism', 'Naive Art', 'Fauvism', 'Brutalism', 'Dada', 'Cubism',\n",
    "    'Abstract Order', 'Abstract Chaos', 'Applied Art', 'Oriental Illustration', 'Photography', 'abstract', 'painting', 'drawing', 'composit', 'applied art', 'photography']\n",
    "large_int_columns = [ 'contentId', 'artistContentId' ]\n",
    "mappings_em[ int_columns ] = mappings_em[ int_columns ].astype(np.int8)\n",
    "mappings_em[ large_int_columns ] = mappings_em[ large_int_columns ].astype(np.int64)"
   ]
  },
  {
   "cell_type": "code",
   "execution_count": null,
   "metadata": {},
   "outputs": [],
   "source": [
    "mappings_em.year = mappings_em.year.apply(pd.to_numeric).astype(\"Int64\")\n",
    "mappings_em.sample(5)"
   ]
  },
  {
   "cell_type": "code",
   "execution_count": null,
   "metadata": {},
   "outputs": [],
   "source": [
    "mappings_em = mappings_em.set_index(\"contentId\")"
   ]
  },
  {
   "cell_type": "code",
   "execution_count": null,
   "metadata": {},
   "outputs": [],
   "source": [
    "cat_columns = [ \"style\", \"genre\", \"Is painting\", \"Face/body\"]\n",
    "mappings_em[ cat_columns ] = mappings_em[ cat_columns ].astype(\"category\")\n",
    "mappings_em.sample(5)"
   ]
  },
  {
   "cell_type": "markdown",
   "metadata": {},
   "source": [
    "### Pohranjivanje kompozitne baze"
   ]
  },
  {
   "cell_type": "code",
   "execution_count": null,
   "metadata": {},
   "outputs": [],
   "source": [
    "mappings_em.shape"
   ]
  },
  {
   "cell_type": "code",
   "execution_count": null,
   "metadata": {},
   "outputs": [],
   "source": [
    "mappings_em[['artistName', 'title', 'year', 'style', 'genre', 'photography', 'artemis', 'emotions',\n",
    "       'Is painting', 'Face/body', 'Rating', 'artistContentId',\n",
    "       'artistUrl', 'url', 'localUrl', 'webUrl', 'webUrl2']].rename(columns={\"url\": \"paintingUrl\"}).to_parquet(\"./data/wikiart_composed.parquet\")"
   ]
  },
  {
   "cell_type": "markdown",
   "metadata": {},
   "source": [
    "## Učitavanje baze, skidanje slikovnog materijala, treniranje i testiranje"
   ]
  },
  {
   "cell_type": "code",
   "execution_count": null,
   "metadata": {},
   "outputs": [],
   "source": [
    "# provjera postavki\n",
    "import torch\n",
    "print(f\"CUDA is available: {torch.cuda.is_available()}.\", f\"Activated version of CUDA is {torch.version.cuda}.\", torch.cuda.device(0))\n",
    "print(f\"Volta's gencode (sm_86) for RTX 3050 and 3070 is in arch_list: {'sm_86' in torch.cuda.get_arch_list()}.\")"
   ]
  },
  {
   "cell_type": "code",
   "execution_count": null,
   "metadata": {},
   "outputs": [],
   "source": [
    "import pandas as pd\n",
    "from fastai.vision.all import Path\n",
    "from utils.downloader import image_downloader\n",
    "\n",
    "\n",
    "root = Path(\"./\")\n",
    "# from utils.previewer import preview_image_grid\n",
    "\n",
    "categories = {\n",
    "            \"breadth\": {\n",
    "                    \"abstract\": ['Hard Edge Painting', \"Concretism\", \"Suprematism\", \"Abstract Art\", \"Abstract Expressionism\", \"Action painting\"], # \"Constructivism\", \n",
    "                    \"concrete\": [\"Northern Renaissance\", \"Hyper-Realism\", \"Tenebrism\", \"Academicism\", \"Classical Realism\", \"Naturalism\", \"Baroque\" ] # \"Rococo\"\n",
    "                },\n",
    "            \"depth\": {\n",
    "                    \"symbolic\": [\"International Gothic\", \"Byzantine\", \"Pop Art\", \"High Renaissance\", \"Classicism\", \"Mannerism \\(Late Renaissance\\)\", \"Romanesque\" ], \n",
    "                    \"iconic\": [\"Color Field Painting\", \"Abstract Expressionism\", \"Action painting\", \"Lyrical Abstraction\", \"Post-Impressionism\", \"Analytical Realism\", \"Academicism\", \"Rococo\", \"Pointillism\"] # \"Art Deco\", \"Art Nouveau \\(Modern\\)\"\n",
    "                }\n",
    "        }\n",
    "\n",
    "# preview_image_grid(df=pd.read_parquet(\"./data/wikiart_composed.parquet\"), taste=\"Naturalism\" ) # categories[\"depth\"][\"iconic\"][4]"
   ]
  },
  {
   "cell_type": "markdown",
   "metadata": {},
   "source": [
    "#### Skidanje slika po kategorijama"
   ]
  },
  {
   "cell_type": "code",
   "execution_count": null,
   "metadata": {},
   "outputs": [],
   "source": [
    "container, categories = image_downloader(root, base=\"wikiart_composed\", categories=categories, sample_size=500, image_size=224, skip_downloads=True)"
   ]
  },
  {
   "cell_type": "markdown",
   "metadata": {},
   "source": [
    "#### Priprema DataLoaders-a za modele"
   ]
  },
  {
   "cell_type": "code",
   "execution_count": null,
   "metadata": {},
   "outputs": [],
   "source": [
    "from utils.learners import create_dataloaders\n",
    "\n",
    "dls = create_dataloaders(container, categories)"
   ]
  },
  {
   "cell_type": "code",
   "execution_count": null,
   "metadata": {},
   "outputs": [],
   "source": [
    "from fastai.vision import models\n",
    "# models.xresnet.xresnet18_deeper"
   ]
  },
  {
   "cell_type": "code",
   "execution_count": null,
   "metadata": {},
   "outputs": [],
   "source": [
    "from utils.learners import create_learners\n",
    "\n",
    "model_pick = \"xresnet34_deeper\" # \"resnet34\", \"xresnet34\", \"resnet50\", \"xresnet50\", \"convnext_tiny\"\n",
    "\n",
    "# (v. https://github.com/fastai/fastai/tree/master/fastai/vision/models)\n",
    "\n",
    "if model_pick.__contains__(\"xresnet\"):\n",
    "    model = getattr(models.xresnet, model_pick )    \n",
    "elif model_pick.__contains__(\"unet\"):\n",
    "    model = getattr(models.unet, model_pick ) \n",
    "elif model_pick.__contains__(\"tvm\"):\n",
    "    model = getattr(models.tvm, model_pick ) \n",
    "else:\n",
    "    model = getattr(models, model_pick ) \n",
    "\n",
    "learners = create_learners(dls, model=model)"
   ]
  },
  {
   "cell_type": "code",
   "execution_count": null,
   "metadata": {},
   "outputs": [],
   "source": [
    "from utils.learners import train_learners\n",
    "\n",
    "train_learners(learners, iters=5, lr=None)\n"
   ]
  },
  {
   "cell_type": "code",
   "execution_count": null,
   "metadata": {},
   "outputs": [],
   "source": [
    "garage = Path(f\"./models/{model_pick}\")\n",
    "\n",
    "if not garage.exists():\n",
    "    garage.mkdir()\n",
    "\n",
    "learners[\"breadth\"].export(garage/\"breadth.pkl\")\n",
    "learners[\"depth\"].export(garage/\"depth.pkl\")"
   ]
  },
  {
   "cell_type": "markdown",
   "metadata": {},
   "source": [
    "## Testiranje modela"
   ]
  },
  {
   "cell_type": "code",
   "execution_count": null,
   "metadata": {},
   "outputs": [],
   "source": [
    "from utils.tester import test_learners\n",
    "from utils.downloader import page_scraper\n",
    "from fastai.vision.all import Path, load_learner\n",
    "\n",
    "root = Path(\"./\")\n",
    "garage = Path(\"./models/resnet34\")\n",
    "try: \n",
    "    if model_pick:\n",
    "        garage = Path(f\"./models/{model_pick}\") \n",
    "except NameError:\n",
    "    print(\"model_pick was not defined. Going with resnet34.\")\n",
    "\n",
    "\n",
    "testees = {\n",
    "    \"breadth\": load_learner(garage/\"breadth.pkl\"),\n",
    "    \"depth\": load_learner(garage/\"depth.pkl\")\n",
    "}\n",
    "\n",
    "# \"https://aiartists.org/generative-art-design\"\n",
    "# \"https://unsplash.com\"\n",
    "# \"https://www.metmuseum.org/art/collection/search?showOnly=openAccess\"\n",
    "# \"https://www.gettyimages.com\"\n",
    "\n",
    "internet = [\n",
    "    *page_scraper(\"https://www.gettyimages.com\"),\n",
    "]\n",
    "\n",
    "# \"https://tse2.mm.bing.net/th?id=OIP.UPZ1-G8gpc5FkNIC2RCWSgHaFj&pid=Api\",\n",
    "# \"https://tse2.mm.bing.net/th?id=OIP.if_cidFAKZ49wY7BLA3feQHaGE&pid=Api\",\n",
    "# \"https://tse4.mm.bing.net/th?id=OIP.Px4ySbgcqEgFJOhOq8k5mAHaEo&pid=Api\",\n",
    "# \"https://tse4.mm.bing.net/th?id=OIP.eNfpYf9Oqyh0u3_b1Eu20wHaGL&pid=Api\",\n",
    "# \"https://tse3.mm.bing.net/th?id=OIP.NEkbbYyu56hdqekgPKxmoQAAAA&pid=Api\",\n",
    "# \"https://tse3.mm.bing.net/th?id=OIF.jw1Qziy4XGJbDtTYtrBY3Q&pid=Api\",\n",
    "# \"https://tse2.mm.bing.net/th?id=OIP.pJwVOqij6rPFrOjcHc1jbAHaKj&pid=Api\",\n",
    "# \"https://tse1.mm.bing.net/th?id=OIP.-Hy08hdnnfvCwor0Y_fyGAHaLA&pid=Api\",\n",
    "# \"https://tse4.mm.bing.net/th?id=OIP.mUVhO-Zld2qEJKe_r9tJaAHaHn&pid=Api\",\n",
    "# \"https://tse2.mm.bing.net/th?id=OIP.DqjuCxnocoFQ0hvIH_Cm8wHaEK&pid=Api\",\n",
    "# \"https://tse1.mm.bing.net/th?id=OIP.EFoByYTKu1KbZgoVfocCDAHaFU&pid=Api\",\n",
    "# \"https://tse2.mm.bing.net/th?id=OIP.BFRcQqZ5Bpw1a-6u_XoBrwHaFj&pid=Api\",\n",
    "# \"https://tse2.mm.bing.net/th?id=OIP.2qqjQQ0wW37Lbvkx50zPxgHaEB&pid=Api\"\n",
    "\n",
    "test_learners(testees, test_set=internet, root=root/\"artefacts\", preview=False)"
   ]
  },
  {
   "cell_type": "code",
   "execution_count": 16,
   "metadata": {},
   "outputs": [
    {
     "data": {
      "text/plain": [
       "(['https://images.squarespace-cdn.com/content/v1/5c77350965a707ed1710a1bc/1588698548907-RADZYUVD1S7R2R7I0JMM/Generative+Software+Design+Example+-+Procedural+Modeling.jpeg',\n",
       "  'https://pili?ćsss3245i.png',\n",
       "  'https://images.squarespace-cdn.com/content/v1/5c77350965a707ed1710a1bc/1588703003192-B8US29YF5NDQZQK6WPUN/Silk+Interactive+Generative+Art.jpg'],\n",
       " ['http://vilinkonjic.jpeg'])"
      ]
     },
     "execution_count": 16,
     "metadata": {},
     "output_type": "execute_result"
    }
   ],
   "source": [
    "import re \n",
    "\n",
    "html = 'aaa a ad <img image=\"tupo-_&$banana.jpeg 300w, milica0087Pilica.png 120w\" /> safdsaf saf\\\n",
    "    \\safdafa <img asf afasf srcset=\"data:image/bmp jJAJBDADHHANDKNDKAKNNDDMNANDMND\" src=\"345a\"/> \\\n",
    "    saf sa<img data-stretch=\"false\" data-src=\"https://images.squarespace-cdn.com/content/v1/5c77350965a707ed1710a1bc/1588698548907-RADZYUVD1S7R2R7I0JMM/Generative+Software+Design+Example+-+Procedural+Modeling.jpeg\" data-image=\"https://images.squarespace-cdn.com/content/v1/5c77350965a707ed1710a1bc/1588698548907-RADZYUVD1S7R2R7I0JMM/Generative+Software+Design+Example+-+Procedural+Modeling.jpeg\" data-image-dimensions=\"1500x842\" data-image-focal-point=\"0.5,0.5\" alt=\"Generative Software Design Example - Procedural Modeling.jpeg\" data-load=\"false\" src=\"https://images.squarespace-cdn.com/content/v1/5c77350965a707ed1710a1bc/1588698548907-RADZYUVD1S7R2R7I0JMM/Generative+Software+Design+Example+-+Procedural+Modeling.jpeg\" width=\"1500\" height=\"842\" alt=\"\" sizes=\"100vw\" style=\"display:block;object-fit: cover; width: 100%; height: 100%; object-position: 50% 50%\" srcset=\"https://images.squarespace-cdn.com/content/v1/5c77350965a707ed1710a1bc/1588698548907-RADZYUVD1S7R2R7I0JMM/Generative+Software+Design+Example+-+Procedural+Modeling.jpeg?format=100w 100w, https://images.squarespace-cdn.com/content/v1/5c77350965a707ed1710a1bc/1588698548907-RADZYUVD1S7R2R7I0JMM/Generative+Software+Design+Example+-+Procedural+Modeling.jpeg?format=300w 300w, https://images.squarespace-cdn.com/content/v1/5c77350965a707ed1710a1bc/1588698548907-RADZYUVD1S7R2R7I0JMM/Generative+Software+Design+Example+-+Procedural+Modeling.jpeg?format=500w 500w, https://images.squarespace-cdn.com/content/v1/5c77350965a707ed1710a1bc/1588698548907-RADZYUVD1S7R2R7I0JMM/Generative+Software+Design+Example+-+Procedural+Modeling.jpeg?format=750w 750w, https://images.squarespace-cdn.com/content/v1/5c77350965a707ed1710a1bc/1588698548907-RADZYUVD1S7R2R7I0JMM/Generative+Software+Design+Example+-+Procedural+Modeling.jpeg?format=1000w 1000w, https://images.squarespace-cdn.com/content/v1/5c77350965a707ed1710a1bc/1588698548907-RADZYUVD1S7R2R7I0JMM/Generative+Software+Design+Example+-+Procedural+Modeling.jpeg?format=1500w 1500w, https://images.squarespace-cdn.com/content/v1/5c77350965a707ed1710a1bc/1588698548907-RADZYUVD1S7R2R7I0JMM/Generative+Software+Design+Example+-+Procedural+Modeling.jpeg?format=2500w 2500w\" loading=\"lazy\" decoding=\"async\" data-loader=\"sqs\">\\\n",
    "     ffasf asf asf <figure srcset= \"https://pili?ćsss3245i.png\" =src=><div style=\"background-image: url(http://vilinkonjic.jpeg )\" >saf </div> \\\n",
    "        <img data-stretch=\"false\" data-src=\"https://images.squarespace-cdn.com/content/v1/5c77350965a707ed1710a1bc/1588703003192-B8US29YF5NDQZQK6WPUN/Silk+Interactive+Generative+Art.jpg\" data-image=\"https://images.squarespace-cdn.com/content/v1/5c77350965a707ed1710a1bc/1588703003192-B8US29YF5NDQZQK6WPUN/Silk+Interactive+Generative+Art.jpg\" data-image-dimensions=\"1958x720\" data-image-focal-point=\"0.5,0.5\" alt=\"Silk Interactive Generative Art.jpg\" data-load=\"false\" src=\"https://images.squarespace-cdn.com/content/v1/5c77350965a707ed1710a1bc/1588703003192-B8US29YF5NDQZQK6WPUN/Silk+Interactive+Generative+Art.jpg\" width=\"1958\" height=\"720\" alt=\"\" sizes=\"100vw\" style=\"display:block;object-fit: cover; width: 100%; height: 100%; object-position: 50% 50%\" srcset=\"https://images.squarespace-cdn.com/content/v1/5c77350965a707ed1710a1bc/1588703003192-B8US29YF5NDQZQK6WPUN/Silk+Interactive+Generative+Art.jpg?format=100w 100w, https://images.squarespace-cdn.com/content/v1/5c77350965a707ed1710a1bc/1588703003192-B8US29YF5NDQZQK6WPUN/Silk+Interactive+Generative+Art.jpg?format=300w 300w, https://images.squarespace-cdn.com/content/v1/5c77350965a707ed1710a1bc/1588703003192-B8US29YF5NDQZQK6WPUN/Silk+Interactive+Generative+Art.jpg?format=500w 500w, https://images.squarespace-cdn.com/content/v1/5c77350965a707ed1710a1bc/1588703003192-B8US29YF5NDQZQK6WPUN/Silk+Interactive+Generative+Art.jpg?format=750w 750w, https://images.squarespace-cdn.com/content/v1/5c77350965a707ed1710a1bc/1588703003192-B8US29YF5NDQZQK6WPUN/Silk+Interactive+Generative+Art.jpg?format=1000w 1000w, https://images.squarespace-cdn.com/content/v1/5c77350965a707ed1710a1bc/1588703003192-B8US29YF5NDQZQK6WPUN/Silk+Interactive+Generative+Art.jpg?format=1500w 1500w, https://images.squarespace-cdn.com/content/v1/5c77350965a707ed1710a1bc/1588703003192-B8US29YF5NDQZQK6WPUN/Silk+Interactive+Generative+Art.jpg?format=2500w 2500w\" loading=\"lazy\" decoding=\"async\" data-loader=\"sqs\">'\n",
    "\n",
    "src = \"<(?:img|figure)[\\s]*.*?(?:src|image)(?:set)?=[\\\"'\\s]+((?:http)[^'\\\"\\s]+(?:.jpg|.jpeg|.png|.gif|,))[^'\\\"]*?[\\\"']+.*?>\"\n",
    "bgurl = \"url\\([\\s]*?((?:http)[^\\\"'\\s]+(?:.jpg|.jpeg|.png))[^\\\"']*?\\)\"\n",
    "\n",
    "\n",
    "re.findall(src, html, re.IGNORECASE), re.findall(bgurl, html, re.IGNORECASE)"
   ]
  }
 ],
 "metadata": {
  "kernelspec": {
   "display_name": "Python 3.10.5 ('pocketML')",
   "language": "python",
   "name": "python3"
  },
  "language_info": {
   "codemirror_mode": {
    "name": "ipython",
    "version": 3
   },
   "file_extension": ".py",
   "mimetype": "text/x-python",
   "name": "python",
   "nbconvert_exporter": "python",
   "pygments_lexer": "ipython3",
   "version": "3.11.6"
  },
  "orig_nbformat": 4,
  "vscode": {
   "interpreter": {
    "hash": "79bdb235ea39c1e0b56600040d545dcad8bcd5909d80e4e354528af4d6535505"
   }
  }
 },
 "nbformat": 4,
 "nbformat_minor": 2
}
