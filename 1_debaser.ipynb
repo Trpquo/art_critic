{
 "cells": [
  {
   "cell_type": "code",
   "execution_count": 1,
   "metadata": {},
   "outputs": [
    {
     "data": {
      "text/plain": [
       "'/home/trpquo/projekti/data/art'"
      ]
     },
     "execution_count": 1,
     "metadata": {},
     "output_type": "execute_result"
    }
   ],
   "source": [
    "import os\n",
    "pwd = os.getcwd()\n",
    "\n",
    "pwd"
   ]
  },
  {
   "cell_type": "code",
   "execution_count": 2,
   "metadata": {},
   "outputs": [],
   "source": [
    "import pandas as pd\n",
    "import numpy as np\n",
    "import sys\n",
    "from utils.secrets import cloud\n",
    "\n",
    "if \"/home/\" in pwd:\n",
    "    sys.path.insert(0, \"./utils\")\n",
    "    sys.path.insert(0, cloud/\"../\")\n",
    "elif \"\\\\cloud\\\\\" in pwd:\n",
    "    sys.path.insert(0, \"../utils\")\n",
    "\n",
    "\n",
    "from utils.pipe_tools.workbench import Stats"
   ]
  },
  {
   "cell_type": "markdown",
   "metadata": {},
   "source": [
    "### Učitavanje podataka iz triju baza\n",
    "\n",
    "Sve tri baze su unaprijed pripremljene preko `wikiart-setup.py`, `wikiart-emotions-setup.py` i moćnih ručno izrađenih alata za baratanje ovim bazama smještenih u `../../utils` direktoriju.\n",
    "\n",
    "WikiArt baza je ta koja je pripremljena s već kategoriziranim stilovima. Ta kategorizacija nije nužno idealna i vjerojatno će ju trebati ponoviti, ali na probranom uzorku izložaka jer, čini mi se, nema razloga teretiti cijelu bazu već samo uzorak za trening i testiranje.\n"
   ]
  },
  {
   "cell_type": "code",
   "execution_count": 3,
   "metadata": {},
   "outputs": [],
   "source": [
    "wikiart = Stats(data_url=\"./data/wikiart_paintings.parquet\", title=\"Wikiart\")\n",
    "emotions = Stats(data_url=\"./data/Wikiart-Emotions-All-t.parquet\", title=\"Wikiart-emotions\")\n",
    "artemis = Stats(data_url=\"./data/artemis_dataset_release_v0-t2.parquet\", title=\"ArtEmis\")"
   ]
  },
  {
   "cell_type": "code",
   "execution_count": 14,
   "metadata": {},
   "outputs": [
    {
     "data": {
      "text/plain": [
       "((215967, 6), (5292, 10), (160850, 33))"
      ]
     },
     "execution_count": 14,
     "metadata": {},
     "output_type": "execute_result"
    }
   ],
   "source": [
    "from utils.secrets import cloud\n",
    "\n",
    "wikiart_artworks = pd.read_csv(cloud/\"wikiart/wikidata/wikiart.data\")\n",
    "wikiart_artists = pd.read_csv(cloud/\"wikiart/wikidata/labels.data\")\n",
    "wikiart_full.shape, wikiart_artists.shape, wikiart.raw_data.shape"
   ]
  },
  {
   "cell_type": "code",
   "execution_count": 15,
   "metadata": {},
   "outputs": [
    {
     "data": {
      "text/html": [
       "<div>\n",
       "<style scoped>\n",
       "    .dataframe tbody tr th:only-of-type {\n",
       "        vertical-align: middle;\n",
       "    }\n",
       "\n",
       "    .dataframe tbody tr th {\n",
       "        vertical-align: top;\n",
       "    }\n",
       "\n",
       "    .dataframe thead th {\n",
       "        text-align: right;\n",
       "    }\n",
       "</style>\n",
       "<table border=\"1\" class=\"dataframe\">\n",
       "  <thead>\n",
       "    <tr style=\"text-align: right;\">\n",
       "      <th></th>\n",
       "      <th>contentId</th>\n",
       "      <th>url</th>\n",
       "      <th>style</th>\n",
       "      <th>genre</th>\n",
       "      <th>artistContentId</th>\n",
       "      <th>artistUrl</th>\n",
       "    </tr>\n",
       "  </thead>\n",
       "  <tbody>\n",
       "    <tr>\n",
       "      <th>0</th>\n",
       "      <td>337208</td>\n",
       "      <td>no-great-crime-1983</td>\n",
       "      <td>Street art</td>\n",
       "      <td>graffiti</td>\n",
       "      <td>335710</td>\n",
       "      <td>3d</td>\n",
       "    </tr>\n",
       "    <tr>\n",
       "      <th>1</th>\n",
       "      <td>337204</td>\n",
       "      <td>3d-1984</td>\n",
       "      <td>Street art</td>\n",
       "      <td>graffiti</td>\n",
       "      <td>335710</td>\n",
       "      <td>3d</td>\n",
       "    </tr>\n",
       "    <tr>\n",
       "      <th>2</th>\n",
       "      <td>337213</td>\n",
       "      <td>wild-bunch-1984</td>\n",
       "      <td>Street art</td>\n",
       "      <td>graffiti</td>\n",
       "      <td>335710</td>\n",
       "      <td>3d</td>\n",
       "    </tr>\n",
       "    <tr>\n",
       "      <th>3</th>\n",
       "      <td>337210</td>\n",
       "      <td>serious-art-1986</td>\n",
       "      <td>Street art</td>\n",
       "      <td>graffiti</td>\n",
       "      <td>335710</td>\n",
       "      <td>3d</td>\n",
       "    </tr>\n",
       "    <tr>\n",
       "      <th>4</th>\n",
       "      <td>337209</td>\n",
       "      <td>robert-de-niro-taxi-driver-1988</td>\n",
       "      <td>Street art</td>\n",
       "      <td>graffiti</td>\n",
       "      <td>335710</td>\n",
       "      <td>3d</td>\n",
       "    </tr>\n",
       "  </tbody>\n",
       "</table>\n",
       "</div>"
      ],
      "text/plain": [
       "   contentId                              url       style     genre  \\\n",
       "0     337208              no-great-crime-1983  Street art  graffiti   \n",
       "1     337204                          3d-1984  Street art  graffiti   \n",
       "2     337213                  wild-bunch-1984  Street art  graffiti   \n",
       "3     337210                 serious-art-1986  Street art  graffiti   \n",
       "4     337209  robert-de-niro-taxi-driver-1988  Street art  graffiti   \n",
       "\n",
       "   artistContentId artistUrl  \n",
       "0           335710        3d  \n",
       "1           335710        3d  \n",
       "2           335710        3d  \n",
       "3           335710        3d  \n",
       "4           335710        3d  "
      ]
     },
     "execution_count": 15,
     "metadata": {},
     "output_type": "execute_result"
    }
   ],
   "source": [
    "wikiart_artworks.head()"
   ]
  },
  {
   "cell_type": "code",
   "execution_count": 19,
   "metadata": {},
   "outputs": [
    {
     "data": {
      "text/plain": [
       "(1552, 726)"
      ]
     },
     "execution_count": 19,
     "metadata": {},
     "output_type": "execute_result"
    }
   ],
   "source": [
    "len( wikiart_artworks[\"style\"].unique() ), len( wikiart_artworks[\"genre\"].unique() ), "
   ]
  },
  {
   "cell_type": "code",
   "execution_count": 29,
   "metadata": {},
   "outputs": [
    {
     "data": {
      "text/plain": [
       "68"
      ]
     },
     "execution_count": 29,
     "metadata": {},
     "output_type": "execute_result"
    }
   ],
   "source": [
    "from utils.styles import all_styles, genre_categories\n",
    "\n",
    "all_genres = []\n",
    "for cat in genre_categories.values():\n",
    "    all_genres += cat\n",
    "\n",
    "len(all_genres)"
   ]
  },
  {
   "cell_type": "code",
   "execution_count": 13,
   "metadata": {},
   "outputs": [
    {
     "data": {
      "text/html": [
       "<div>\n",
       "<style scoped>\n",
       "    .dataframe tbody tr th:only-of-type {\n",
       "        vertical-align: middle;\n",
       "    }\n",
       "\n",
       "    .dataframe tbody tr th {\n",
       "        vertical-align: top;\n",
       "    }\n",
       "\n",
       "    .dataframe thead th {\n",
       "        text-align: right;\n",
       "    }\n",
       "</style>\n",
       "<table border=\"1\" class=\"dataframe\">\n",
       "  <thead>\n",
       "    <tr style=\"text-align: right;\">\n",
       "      <th></th>\n",
       "      <th>contentId</th>\n",
       "      <th>url</th>\n",
       "      <th>artistName</th>\n",
       "      <th>lastNameFirst</th>\n",
       "      <th>image</th>\n",
       "      <th>wikipediaUrl</th>\n",
       "      <th>birthDay</th>\n",
       "      <th>deathDay</th>\n",
       "      <th>birthDayAsString</th>\n",
       "      <th>deathDayAsString</th>\n",
       "    </tr>\n",
       "  </thead>\n",
       "  <tbody>\n",
       "    <tr>\n",
       "      <th>0</th>\n",
       "      <td>335710</td>\n",
       "      <td>3d</td>\n",
       "      <td>3D</td>\n",
       "      <td>3D</td>\n",
       "      <td>https://uploads3.wikiart.org/images/3d.jpg!Por...</td>\n",
       "      <td>http://en.wikipedia.org/wiki/Robert_Del_Naja</td>\n",
       "      <td>/Date(-124502400000)/</td>\n",
       "      <td>/Date(253402300799999)/</td>\n",
       "      <td>January 21, 1966</td>\n",
       "      <td>NaN</td>\n",
       "    </tr>\n",
       "    <tr>\n",
       "      <th>1</th>\n",
       "      <td>9223372032559846617</td>\n",
       "      <td>a-r-valgorth</td>\n",
       "      <td>A. R. Valgorth</td>\n",
       "      <td>NaN</td>\n",
       "      <td>https://uploads3.wikiart.org/00273/images//ava...</td>\n",
       "      <td>NaN</td>\n",
       "      <td>/Date(252460800000)/</td>\n",
       "      <td>/Date(253402300799999)/</td>\n",
       "      <td>1978</td>\n",
       "      <td>NaN</td>\n",
       "    </tr>\n",
       "    <tr>\n",
       "      <th>2</th>\n",
       "      <td>314332</td>\n",
       "      <td>hans-von-aachen</td>\n",
       "      <td>Hans von Aachen</td>\n",
       "      <td>Aachen Hans von</td>\n",
       "      <td>https://uploads8.wikiart.org/temp/e4d609cf-bbc...</td>\n",
       "      <td>http://en.wikipedia.org/wiki/Hans_von_Aachen</td>\n",
       "      <td>/Date(-13190860800000)/</td>\n",
       "      <td>/Date(-11197353600000)/</td>\n",
       "      <td>1552</td>\n",
       "      <td>March 4, 1615</td>\n",
       "    </tr>\n",
       "    <tr>\n",
       "      <th>3</th>\n",
       "      <td>9223372032559872115</td>\n",
       "      <td>alvar-aalto</td>\n",
       "      <td>Alvar Aalto</td>\n",
       "      <td>Aalto Alvar</td>\n",
       "      <td>https://uploads1.wikiart.org/00335/images//454...</td>\n",
       "      <td>https://en.wikipedia.org/wiki/Alvar_Aalto</td>\n",
       "      <td>/Date(-2269209600000)/</td>\n",
       "      <td>/Date(200620800000)/</td>\n",
       "      <td>February 3, 1898</td>\n",
       "      <td>May 11, 1976</td>\n",
       "    </tr>\n",
       "    <tr>\n",
       "      <th>4</th>\n",
       "      <td>316166</td>\n",
       "      <td>vilmos-aba-novak</td>\n",
       "      <td>Vilmos Aba-Novak</td>\n",
       "      <td>Aba-Novak Vilmos</td>\n",
       "      <td>https://uploads8.wikiart.org/images/vilmos-aba...</td>\n",
       "      <td>http://en.wikipedia.org/wiki/Vilmos_Aba-Nov%C3...</td>\n",
       "      <td>/Date(-2391984000000)/</td>\n",
       "      <td>/Date(-891734400000)/</td>\n",
       "      <td>March 15, 1894</td>\n",
       "      <td>September 29, 1941</td>\n",
       "    </tr>\n",
       "  </tbody>\n",
       "</table>\n",
       "</div>"
      ],
      "text/plain": [
       "             contentId               url        artistName     lastNameFirst  \\\n",
       "0               335710                3d                3D                3D   \n",
       "1  9223372032559846617      a-r-valgorth    A. R. Valgorth               NaN   \n",
       "2               314332   hans-von-aachen   Hans von Aachen   Aachen Hans von   \n",
       "3  9223372032559872115       alvar-aalto       Alvar Aalto       Aalto Alvar   \n",
       "4               316166  vilmos-aba-novak  Vilmos Aba-Novak  Aba-Novak Vilmos   \n",
       "\n",
       "                                               image  \\\n",
       "0  https://uploads3.wikiart.org/images/3d.jpg!Por...   \n",
       "1  https://uploads3.wikiart.org/00273/images//ava...   \n",
       "2  https://uploads8.wikiart.org/temp/e4d609cf-bbc...   \n",
       "3  https://uploads1.wikiart.org/00335/images//454...   \n",
       "4  https://uploads8.wikiart.org/images/vilmos-aba...   \n",
       "\n",
       "                                        wikipediaUrl                 birthDay  \\\n",
       "0       http://en.wikipedia.org/wiki/Robert_Del_Naja    /Date(-124502400000)/   \n",
       "1                                                NaN     /Date(252460800000)/   \n",
       "2       http://en.wikipedia.org/wiki/Hans_von_Aachen  /Date(-13190860800000)/   \n",
       "3          https://en.wikipedia.org/wiki/Alvar_Aalto   /Date(-2269209600000)/   \n",
       "4  http://en.wikipedia.org/wiki/Vilmos_Aba-Nov%C3...   /Date(-2391984000000)/   \n",
       "\n",
       "                  deathDay  birthDayAsString    deathDayAsString  \n",
       "0  /Date(253402300799999)/  January 21, 1966                 NaN  \n",
       "1  /Date(253402300799999)/              1978                 NaN  \n",
       "2  /Date(-11197353600000)/              1552       March 4, 1615  \n",
       "3     /Date(200620800000)/  February 3, 1898        May 11, 1976  \n",
       "4    /Date(-891734400000)/    March 15, 1894  September 29, 1941  "
      ]
     },
     "execution_count": 13,
     "metadata": {},
     "output_type": "execute_result"
    }
   ],
   "source": [
    "wikiart_labels.head()"
   ]
  },
  {
   "cell_type": "markdown",
   "metadata": {},
   "source": [
    "### Spajanje WikiArt baze s Artemis bazom\n"
   ]
  },
  {
   "cell_type": "code",
   "execution_count": null,
   "metadata": {},
   "outputs": [],
   "source": [
    "mappings = wikiart.raw_data.merge(artemis.raw_data.rename(columns={\"emotion\":\"artemis\", \"Artist\": \"artistName\", \"Title\": \"title\"})[[\"artistName\", \"title\", \"artemis\"]], on=[\"artistName\", \"title\"], how=\"left\")\n",
    "mappings.dropna(subset=[\"artemis\"]).shape, artemis.raw_data.shape"
   ]
  },
  {
   "cell_type": "markdown",
   "metadata": {},
   "source": [
    "### Spajanje WikiArt-Artemis baze s WikiArt_emotions bazom\n"
   ]
  },
  {
   "cell_type": "code",
   "execution_count": null,
   "metadata": {},
   "outputs": [],
   "source": [
    "emotions_cols = emotions.raw_data[['emotion', 'Is painting', 'Face/body', 'Rating', \"Title\", \"Artist\", \"Year\", 'webUrl']].rename(columns={\"emotion\": \"emotions\", \"Title\": \"title\", \"Artist\": \"artistName\", \"webUrl\": \"webUrl2\"})\n",
    "mappings_em = mappings.merge(emotions_cols, on=[\"artistName\", \"title\"], how=\"left\")\n",
    "\n",
    "mappings_em.dropna(subset=[\"emotions\"]).shape, emotions_cols.shape"
   ]
  },
  {
   "cell_type": "markdown",
   "metadata": {},
   "source": [
    "### Čišćenje i optimiziranje\n"
   ]
  },
  {
   "cell_type": "code",
   "execution_count": null,
   "metadata": {},
   "outputs": [],
   "source": [
    "# from styles import style_categories as styles\n",
    "int_columns = ['Icon', 'Realism', 'Romanticism', 'Impressionism', 'Expressionism', 'Surrealism', 'Naive Art', 'Fauvism', 'Brutalism', 'Dada', 'Cubism',\n",
    "    'Abstract Order', 'Abstract Chaos', 'Applied Art', 'Oriental Illustration', 'Photography', 'abstract', 'painting', 'drawing', 'composit', 'applied art', 'photography']\n",
    "large_int_columns = [ 'contentId', 'artistContentId' ]\n",
    "mappings_em[ int_columns ] = mappings_em[ int_columns ].astype(np.int8)\n",
    "mappings_em[ large_int_columns ] = mappings_em[ large_int_columns ].astype(np.int64)"
   ]
  },
  {
   "cell_type": "code",
   "execution_count": null,
   "metadata": {},
   "outputs": [],
   "source": [
    "mappings_em.year = mappings_em.year.apply(pd.to_numeric).astype(\"Int64\")\n",
    "mappings_em.sample(5)"
   ]
  },
  {
   "cell_type": "code",
   "execution_count": null,
   "metadata": {},
   "outputs": [],
   "source": [
    "mappings_em = mappings_em.set_index(\"contentId\")"
   ]
  },
  {
   "cell_type": "code",
   "execution_count": null,
   "metadata": {},
   "outputs": [],
   "source": [
    "cat_columns = [ \"style\", \"genre\", \"Is painting\", \"Face/body\"]\n",
    "mappings_em[ cat_columns ] = mappings_em[ cat_columns ].astype(\"category\")\n",
    "mappings_em.sample(5)"
   ]
  },
  {
   "cell_type": "markdown",
   "metadata": {},
   "source": [
    "### Pohranjivanje kompozitne baze\n"
   ]
  },
  {
   "cell_type": "code",
   "execution_count": null,
   "metadata": {},
   "outputs": [],
   "source": [
    "mappings_em.shape"
   ]
  },
  {
   "cell_type": "code",
   "execution_count": null,
   "metadata": {},
   "outputs": [],
   "source": [
    "mappings_em[['artistName', 'title', 'year', 'style', 'genre', 'photography', 'artemis', 'emotions',\n",
    "       'Is painting', 'Face/body', 'Rating', 'artistContentId',\n",
    "       'artistUrl', 'url', 'localUrl', 'webUrl', 'webUrl2']].rename(columns={\"url\": \"paintingUrl\"}).to_parquet(\"./data/wikiart_composed.parquet\")"
   ]
  }
 ],
 "metadata": {
  "kernelspec": {
   "display_name": "Python 3 (ipykernel)",
   "language": "python",
   "name": "python3"
  },
  "language_info": {
   "codemirror_mode": {
    "name": "ipython",
    "version": 3
   },
   "file_extension": ".py",
   "mimetype": "text/x-python",
   "name": "python",
   "nbconvert_exporter": "python",
   "pygments_lexer": "ipython3",
   "version": "3.11.6"
  },
  "toc": {
   "base_numbering": 1,
   "nav_menu": {
    "height": "401px",
    "width": "513px"
   },
   "number_sections": true,
   "sideBar": true,
   "skip_h1_title": false,
   "title_cell": "Table of Contents",
   "title_sidebar": "Contents",
   "toc_cell": false,
   "toc_position": {},
   "toc_section_display": true,
   "toc_window_display": false
  },
  "vscode": {
   "interpreter": {
    "hash": "79bdb235ea39c1e0b56600040d545dcad8bcd5909d80e4e354528af4d6535505"
   }
  }
 },
 "nbformat": 4,
 "nbformat_minor": 2
}
