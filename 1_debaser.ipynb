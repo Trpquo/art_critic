{
 "cells": [
  {
   "cell_type": "code",
   "execution_count": null,
   "metadata": {},
   "outputs": [],
   "source": [
    "import os\n",
    "pwd = os.getcwd()\n",
    "\n",
    "pwd"
   ]
  },
  {
   "cell_type": "code",
   "execution_count": null,
   "metadata": {},
   "outputs": [],
   "source": [
    "import pandas as pd\n",
    "import numpy as np\n",
    "import sys\n",
    "\n",
    "if \"/home/\" in pwd:\n",
    "    sys.path.insert(0, \"./utils\")\n",
    "    sys.path.insert(0, \"/mnt/d/cloud/unizg/OneDrive - Faculty of Graphic Arts of University of Zagreb/poligon/Pocket ML/utils\")\n",
    "elif \"\\\\cloud\\\\\" in pwd:\n",
    "    sys.path.insert(0, \"../utils\")\n",
    "\n",
    "\n",
    "from workbench import Stats"
   ]
  },
  {
   "cell_type": "markdown",
   "metadata": {},
   "source": [
    "### Učitavanje podataka iz triju baza\n",
    "\n",
    "Sve tri baze su unaprijed pripremljene preko `wikiart-setup.py`, `wikiart-emotions-setup.py` i moćnih ručno izrađenih alata za baratanje ovim bazama smještenih u `../../utils` direktoriju.\n",
    "\n",
    "WikiArt baza je ta koja je pripremljena s već kategoriziranim stilovima. Ta kategorizacija nije nužno idealna i vjerojatno će ju trebati ponoviti, ali na probranom uzorku izložaka jer, čini mi se, nema razloga teretiti cijelu bazu već samo uzorak za trening i testiranje.\n"
   ]
  },
  {
   "cell_type": "code",
   "execution_count": null,
   "metadata": {},
   "outputs": [],
   "source": [
    "wikiart = Stats(data_url=\"./data/wikiart_paintings.parquet\", title=\"Wikiart\")\n",
    "emotions = Stats(data_url=\"./data/Wikiart-Emotions-All-t.parquet\", title=\"Wikiart-emotions\")\n",
    "artemis = Stats(data_url=\"./data/artemis_dataset_release_v0-t2.parquet\", title=\"ArtEmis\")"
   ]
  },
  {
   "cell_type": "markdown",
   "metadata": {},
   "source": [
    "### Spajanje WikiArt baze s Artemis bazom\n"
   ]
  },
  {
   "cell_type": "code",
   "execution_count": null,
   "metadata": {},
   "outputs": [],
   "source": [
    "mappings = wikiart.raw_data.merge(artemis.raw_data.rename(columns={\"emotion\":\"artemis\", \"Artist\": \"artistName\", \"Title\": \"title\"})[[\"artistName\", \"title\", \"artemis\"]], on=[\"artistName\", \"title\"], how=\"left\")\n",
    "mappings.dropna(subset=[\"artemis\"]).shape, artemis.raw_data.shape"
   ]
  },
  {
   "cell_type": "markdown",
   "metadata": {},
   "source": [
    "### Spajanje WikiArt-Artemis baze s WikiArt_emotions bazom\n"
   ]
  },
  {
   "cell_type": "code",
   "execution_count": null,
   "metadata": {},
   "outputs": [],
   "source": [
    "emotions_cols = emotions.raw_data[['emotion', 'Is painting', 'Face/body', 'Rating', \"Title\", \"Artist\", \"Year\", 'webUrl']].rename(columns={\"emotion\": \"emotions\", \"Title\": \"title\", \"Artist\": \"artistName\", \"webUrl\": \"webUrl2\"})\n",
    "mappings_em = mappings.merge(emotions_cols, on=[\"artistName\", \"title\"], how=\"left\")\n",
    "\n",
    "mappings_em.dropna(subset=[\"emotions\"]).shape, emotions_cols.shape"
   ]
  },
  {
   "cell_type": "markdown",
   "metadata": {},
   "source": [
    "### Čišćenje i optimiziranje\n"
   ]
  },
  {
   "cell_type": "code",
   "execution_count": null,
   "metadata": {},
   "outputs": [],
   "source": [
    "# from styles import style_categories as styles\n",
    "int_columns = ['Icon', 'Realism', 'Romanticism', 'Impressionism', 'Expressionism', 'Surrealism', 'Naive Art', 'Fauvism', 'Brutalism', 'Dada', 'Cubism',\n",
    "    'Abstract Order', 'Abstract Chaos', 'Applied Art', 'Oriental Illustration', 'Photography', 'abstract', 'painting', 'drawing', 'composit', 'applied art', 'photography']\n",
    "large_int_columns = [ 'contentId', 'artistContentId' ]\n",
    "mappings_em[ int_columns ] = mappings_em[ int_columns ].astype(np.int8)\n",
    "mappings_em[ large_int_columns ] = mappings_em[ large_int_columns ].astype(np.int64)"
   ]
  },
  {
   "cell_type": "code",
   "execution_count": null,
   "metadata": {},
   "outputs": [],
   "source": [
    "mappings_em.year = mappings_em.year.apply(pd.to_numeric).astype(\"Int64\")\n",
    "mappings_em.sample(5)"
   ]
  },
  {
   "cell_type": "code",
   "execution_count": null,
   "metadata": {},
   "outputs": [],
   "source": [
    "mappings_em = mappings_em.set_index(\"contentId\")"
   ]
  },
  {
   "cell_type": "code",
   "execution_count": null,
   "metadata": {},
   "outputs": [],
   "source": [
    "cat_columns = [ \"style\", \"genre\", \"Is painting\", \"Face/body\"]\n",
    "mappings_em[ cat_columns ] = mappings_em[ cat_columns ].astype(\"category\")\n",
    "mappings_em.sample(5)"
   ]
  },
  {
   "cell_type": "markdown",
   "metadata": {},
   "source": [
    "### Pohranjivanje kompozitne baze\n"
   ]
  },
  {
   "cell_type": "code",
   "execution_count": null,
   "metadata": {},
   "outputs": [],
   "source": [
    "mappings_em.shape"
   ]
  },
  {
   "cell_type": "code",
   "execution_count": null,
   "metadata": {},
   "outputs": [],
   "source": [
    "mappings_em[['artistName', 'title', 'year', 'style', 'genre', 'photography', 'artemis', 'emotions',\n",
    "       'Is painting', 'Face/body', 'Rating', 'artistContentId',\n",
    "       'artistUrl', 'url', 'localUrl', 'webUrl', 'webUrl2']].rename(columns={\"url\": \"paintingUrl\"}).to_parquet(\"./data/wikiart_composed.parquet\")"
   ]
  }
 ],
 "metadata": {
  "kernelspec": {
   "display_name": "Python 3 (ipykernel)",
   "language": "python",
   "name": "python3"
  },
  "language_info": {
   "codemirror_mode": {
    "name": "ipython",
    "version": 3
   },
   "file_extension": ".py",
   "mimetype": "text/x-python",
   "name": "python",
   "nbconvert_exporter": "python",
   "pygments_lexer": "ipython3",
   "version": "3.11.6"
  },
  "toc": {
   "base_numbering": 1,
   "nav_menu": {
    "height": "401px",
    "width": "513px"
   },
   "number_sections": true,
   "sideBar": true,
   "skip_h1_title": false,
   "title_cell": "Table of Contents",
   "title_sidebar": "Contents",
   "toc_cell": false,
   "toc_position": {},
   "toc_section_display": true,
   "toc_window_display": false
  },
  "vscode": {
   "interpreter": {
    "hash": "79bdb235ea39c1e0b56600040d545dcad8bcd5909d80e4e354528af4d6535505"
   }
  }
 },
 "nbformat": 4,
 "nbformat_minor": 2
}
