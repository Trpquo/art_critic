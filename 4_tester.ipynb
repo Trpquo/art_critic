{
 "cells": [
  {
   "cell_type": "markdown",
   "metadata": {},
   "source": [
    "## Testiranje modela\n"
   ]
  },
  {
   "cell_type": "code",
   "execution_count": 2,
   "metadata": {},
   "outputs": [
    {
     "name": "stdout",
     "output_type": "stream",
     "text": [
      "models/googlenet_10x\n",
      "models/googlenet_1x\n",
      "models/googlenet_3x\n"
     ]
    },
    {
     "data": {
      "text/plain": [
       "{'googlenet_10x': {'breath': <fastai.learner.Learner at 0x7febf165dcd0>,\n",
       "  'depth': <fastai.learner.Learner at 0x7febf0e6ae50>},\n",
       " 'googlenet_1x': {'breath': <fastai.learner.Learner at 0x7febf0e928d0>,\n",
       "  'depth': <fastai.learner.Learner at 0x7febf1691110>},\n",
       " 'googlenet_3x': {'breath': <fastai.learner.Learner at 0x7febf0d20410>,\n",
       "  'depth': <fastai.learner.Learner at 0x7febf0d4f410>}}"
      ]
     },
     "execution_count": 2,
     "metadata": {},
     "output_type": "execute_result"
    }
   ],
   "source": [
    "from settings import *\n",
    "from pprint import pformat\n",
    "from fastai.vision.all import load_learner\n",
    "import os\n",
    "\n",
    "\n",
    "model_picks = next(os.walk(\"./models\"))[1]\n",
    "seen = set()\n",
    "testees = {}\n",
    "\n",
    "\n",
    "for model in model_picks:\n",
    "    spot = Path(garage / model_picks[0])\n",
    "    try: \n",
    "        spot = Path(garage / model)\n",
    "        print(spot)\n",
    "    except NameError:\n",
    "        print(f\"model was not defined. Going with {model_picks[0]}.\")\n",
    "    signature = pformat(spot)\n",
    "    if signature not in seen:\n",
    "        seen.add(signature)\n",
    "        try:\n",
    "            testees[model] = {\n",
    "                \"breath\": load_learner(spot/\"breath.pkl\"),\n",
    "                \"depth\": load_learner(spot/\"depth.pkl\")\n",
    "            }\n",
    "        except Exception as ex:\n",
    "            print(f\"Model {model} is not trained yet!\")\n",
    "            print(ex)\n",
    "\n",
    "testees"
   ]
  },
  {
   "cell_type": "markdown",
   "metadata": {},
   "source": [
    "### Testiranje na bazi\n"
   ]
  },
  {
   "cell_type": "code",
   "execution_count": 4,
   "metadata": {},
   "outputs": [
    {
     "data": {
      "text/html": [
       "<div>\n",
       "<style scoped>\n",
       "    .dataframe tbody tr th:only-of-type {\n",
       "        vertical-align: middle;\n",
       "    }\n",
       "\n",
       "    .dataframe tbody tr th {\n",
       "        vertical-align: top;\n",
       "    }\n",
       "\n",
       "    .dataframe thead th {\n",
       "        text-align: right;\n",
       "    }\n",
       "</style>\n",
       "<table border=\"1\" class=\"dataframe\">\n",
       "  <thead>\n",
       "    <tr style=\"text-align: right;\">\n",
       "      <th></th>\n",
       "      <th>artistName</th>\n",
       "      <th>title</th>\n",
       "      <th>year</th>\n",
       "      <th>style</th>\n",
       "      <th>genre</th>\n",
       "      <th>photography</th>\n",
       "      <th>artemis</th>\n",
       "      <th>emotions</th>\n",
       "      <th>Is painting</th>\n",
       "      <th>Face/body</th>\n",
       "      <th>Rating</th>\n",
       "      <th>artistContentId</th>\n",
       "      <th>artistUrl</th>\n",
       "      <th>paintingUrl</th>\n",
       "      <th>localUrl</th>\n",
       "      <th>webUrl</th>\n",
       "      <th>webUrl2</th>\n",
       "    </tr>\n",
       "    <tr>\n",
       "      <th>contentId</th>\n",
       "      <th></th>\n",
       "      <th></th>\n",
       "      <th></th>\n",
       "      <th></th>\n",
       "      <th></th>\n",
       "      <th></th>\n",
       "      <th></th>\n",
       "      <th></th>\n",
       "      <th></th>\n",
       "      <th></th>\n",
       "      <th></th>\n",
       "      <th></th>\n",
       "      <th></th>\n",
       "      <th></th>\n",
       "      <th></th>\n",
       "      <th></th>\n",
       "      <th></th>\n",
       "    </tr>\n",
       "  </thead>\n",
       "  <tbody>\n",
       "    <tr>\n",
       "      <th>314345</th>\n",
       "      <td>Hans von Aachen</td>\n",
       "      <td>Augustus and the Tiburtine Sibyl</td>\n",
       "      <td>1580</td>\n",
       "      <td>Mannerism (Late Renaissance)</td>\n",
       "      <td>mythological painting</td>\n",
       "      <td>0</td>\n",
       "      <td>None</td>\n",
       "      <td>None</td>\n",
       "      <td>NaN</td>\n",
       "      <td>NaN</td>\n",
       "      <td>NaN</td>\n",
       "      <td>314332</td>\n",
       "      <td>hans-von-aachen</td>\n",
       "      <td>augustus-and-the-tiburtine-sibyl-1580</td>\n",
       "      <td>./wikiart/wikidata/images/hans-von-aachen/1580/314345.jpg</td>\n",
       "      <td>https://uploads6.wikiart.org/images/hans-von-aachen/augustus-and-the-tiburtine-sibyl-1580.jpg!Large.jpg</td>\n",
       "      <td>None</td>\n",
       "    </tr>\n",
       "    <tr>\n",
       "      <th>314363</th>\n",
       "      <td>Hans von Aachen</td>\n",
       "      <td>Portrait of Jacopo Biliverti</td>\n",
       "      <td>1585</td>\n",
       "      <td>Mannerism (Late Renaissance)</td>\n",
       "      <td>portrait</td>\n",
       "      <td>0</td>\n",
       "      <td>None</td>\n",
       "      <td>None</td>\n",
       "      <td>NaN</td>\n",
       "      <td>NaN</td>\n",
       "      <td>NaN</td>\n",
       "      <td>314332</td>\n",
       "      <td>hans-von-aachen</td>\n",
       "      <td>portrait-of-jacopo-biliverti-1585</td>\n",
       "      <td>./wikiart/wikidata/images/hans-von-aachen/1585/314363.jpg</td>\n",
       "      <td>https://uploads2.wikiart.org/images/hans-von-aachen/portrait-of-jacopo-biliverti-1585.jpg!Large.jpg</td>\n",
       "      <td>None</td>\n",
       "    </tr>\n",
       "    <tr>\n",
       "      <th>314364</th>\n",
       "      <td>Hans von Aachen</td>\n",
       "      <td>Portrait of Joseph Heintz</td>\n",
       "      <td>1585</td>\n",
       "      <td>Mannerism (Late Renaissance)</td>\n",
       "      <td>portrait</td>\n",
       "      <td>0</td>\n",
       "      <td>None</td>\n",
       "      <td>None</td>\n",
       "      <td>NaN</td>\n",
       "      <td>NaN</td>\n",
       "      <td>NaN</td>\n",
       "      <td>314332</td>\n",
       "      <td>hans-von-aachen</td>\n",
       "      <td>portrait-of-joseph-heintz-1585</td>\n",
       "      <td>./wikiart/wikidata/images/hans-von-aachen/1585/314364.jpg</td>\n",
       "      <td>https://uploads8.wikiart.org/images/hans-von-aachen/portrait-of-joseph-heintz-1585.jpg!Large.jpg</td>\n",
       "      <td>None</td>\n",
       "    </tr>\n",
       "    <tr>\n",
       "      <th>314371</th>\n",
       "      <td>Hans von Aachen</td>\n",
       "      <td>The rape of Proserpine</td>\n",
       "      <td>1587</td>\n",
       "      <td>Mannerism (Late Renaissance)</td>\n",
       "      <td>mythological painting</td>\n",
       "      <td>0</td>\n",
       "      <td>None</td>\n",
       "      <td>None</td>\n",
       "      <td>NaN</td>\n",
       "      <td>NaN</td>\n",
       "      <td>NaN</td>\n",
       "      <td>314332</td>\n",
       "      <td>hans-von-aachen</td>\n",
       "      <td>the-rape-of-proserpine-1587</td>\n",
       "      <td>./wikiart/wikidata/images/hans-von-aachen/1587/314371.jpg</td>\n",
       "      <td>https://uploads5.wikiart.org/images/hans-von-aachen/the-rape-of-proserpine-1587.jpg!Large.jpg</td>\n",
       "      <td>None</td>\n",
       "    </tr>\n",
       "    <tr>\n",
       "      <th>314369</th>\n",
       "      <td>Hans von Aachen</td>\n",
       "      <td>The judgment of Paris</td>\n",
       "      <td>1588</td>\n",
       "      <td>Mannerism (Late Renaissance)</td>\n",
       "      <td>mythological painting</td>\n",
       "      <td>0</td>\n",
       "      <td>None</td>\n",
       "      <td>None</td>\n",
       "      <td>NaN</td>\n",
       "      <td>NaN</td>\n",
       "      <td>NaN</td>\n",
       "      <td>314332</td>\n",
       "      <td>hans-von-aachen</td>\n",
       "      <td>the-judgment-of-paris-1588</td>\n",
       "      <td>./wikiart/wikidata/images/hans-von-aachen/1588/314369.jpg</td>\n",
       "      <td>https://uploads4.wikiart.org/images/hans-von-aachen/the-judgment-of-paris-1588.jpg!Large.jpg</td>\n",
       "      <td>None</td>\n",
       "    </tr>\n",
       "  </tbody>\n",
       "</table>\n",
       "</div>"
      ],
      "text/plain": [
       "                artistName                             title  year  \\\n",
       "contentId                                                            \n",
       "314345     Hans von Aachen  Augustus and the Tiburtine Sibyl  1580   \n",
       "314363     Hans von Aachen      Portrait of Jacopo Biliverti  1585   \n",
       "314364     Hans von Aachen         Portrait of Joseph Heintz  1585   \n",
       "314371     Hans von Aachen            The rape of Proserpine  1587   \n",
       "314369     Hans von Aachen             The judgment of Paris  1588   \n",
       "\n",
       "                                  style                  genre  photography  \\\n",
       "contentId                                                                     \n",
       "314345     Mannerism (Late Renaissance)  mythological painting            0   \n",
       "314363     Mannerism (Late Renaissance)               portrait            0   \n",
       "314364     Mannerism (Late Renaissance)               portrait            0   \n",
       "314371     Mannerism (Late Renaissance)  mythological painting            0   \n",
       "314369     Mannerism (Late Renaissance)  mythological painting            0   \n",
       "\n",
       "          artemis emotions Is painting Face/body  Rating  artistContentId  \\\n",
       "contentId                                                                   \n",
       "314345       None     None         NaN       NaN     NaN           314332   \n",
       "314363       None     None         NaN       NaN     NaN           314332   \n",
       "314364       None     None         NaN       NaN     NaN           314332   \n",
       "314371       None     None         NaN       NaN     NaN           314332   \n",
       "314369       None     None         NaN       NaN     NaN           314332   \n",
       "\n",
       "                 artistUrl                            paintingUrl  \\\n",
       "contentId                                                           \n",
       "314345     hans-von-aachen  augustus-and-the-tiburtine-sibyl-1580   \n",
       "314363     hans-von-aachen      portrait-of-jacopo-biliverti-1585   \n",
       "314364     hans-von-aachen         portrait-of-joseph-heintz-1585   \n",
       "314371     hans-von-aachen            the-rape-of-proserpine-1587   \n",
       "314369     hans-von-aachen             the-judgment-of-paris-1588   \n",
       "\n",
       "                                                            localUrl  \\\n",
       "contentId                                                              \n",
       "314345     ./wikiart/wikidata/images/hans-von-aachen/1580/314345.jpg   \n",
       "314363     ./wikiart/wikidata/images/hans-von-aachen/1585/314363.jpg   \n",
       "314364     ./wikiart/wikidata/images/hans-von-aachen/1585/314364.jpg   \n",
       "314371     ./wikiart/wikidata/images/hans-von-aachen/1587/314371.jpg   \n",
       "314369     ./wikiart/wikidata/images/hans-von-aachen/1588/314369.jpg   \n",
       "\n",
       "                                                                                                            webUrl  \\\n",
       "contentId                                                                                                            \n",
       "314345     https://uploads6.wikiart.org/images/hans-von-aachen/augustus-and-the-tiburtine-sibyl-1580.jpg!Large.jpg   \n",
       "314363         https://uploads2.wikiart.org/images/hans-von-aachen/portrait-of-jacopo-biliverti-1585.jpg!Large.jpg   \n",
       "314364            https://uploads8.wikiart.org/images/hans-von-aachen/portrait-of-joseph-heintz-1585.jpg!Large.jpg   \n",
       "314371               https://uploads5.wikiart.org/images/hans-von-aachen/the-rape-of-proserpine-1587.jpg!Large.jpg   \n",
       "314369                https://uploads4.wikiart.org/images/hans-von-aachen/the-judgment-of-paris-1588.jpg!Large.jpg   \n",
       "\n",
       "          webUrl2  \n",
       "contentId          \n",
       "314345       None  \n",
       "314363       None  \n",
       "314364       None  \n",
       "314371       None  \n",
       "314369       None  "
      ]
     },
     "execution_count": 4,
     "metadata": {},
     "output_type": "execute_result"
    }
   ],
   "source": [
    "import pandas as pd\n",
    "\n",
    "df = pd.read_parquet(\"data/wikiart_composed.parquet\")\n",
    "df.head()"
   ]
  },
  {
   "cell_type": "code",
   "execution_count": 5,
   "metadata": {},
   "outputs": [
    {
     "name": "stderr",
     "output_type": "stream",
     "text": [
      "UsageError: Line magic function `%%capture` not found.\n"
     ]
    }
   ],
   "source": [
    "from utils.tester import predict_columns\n",
    "\n",
    "# prođi kroz bazu u malim batchevima i spremi u datoteke\n",
    "dataset = df.loc[~df[\"artemis\"].isna() | ~df[\"emotions\"].isna()].sample(1000)\n",
    "datafiles = {}\n",
    "for model_name, testee in testees.items(): \n",
    "    datafiles[model_name] = predict_columns(testee, dataset, model_name, root);"
   ]
  },
  {
   "cell_type": "code",
   "execution_count": null,
   "metadata": {},
   "outputs": [],
   "source": [
    "# spoji kreirane batch datoteke u jednu (ako je gore uzeti uzorak bio do 1000 jedinica, onda se ova čelija može preskočiti)\n",
    "for model_name, addresses in datafiles.items():\n",
    "    result = pd.DataFrame()\n",
    "    for adress in addresses:\n",
    "        data = pd.read_parquet(adress)\n",
    "        result = pd.concat((result, data))\n",
    "\n",
    "    result[[\"artistName\", \"title\", \"year\", \"style\", \"breath\", \"breath_probs\", \"depth\", \"depth_probs\", \"genre\", \"artemis\", \"emotions\", \"webUrl\"]].to_parquet(f\"data/{model_name}/critic_full.parquet\")"
   ]
  },
  {
   "cell_type": "code",
   "execution_count": 5,
   "metadata": {},
   "outputs": [
    {
     "data": {
      "text/html": [
       "<div>\n",
       "<style scoped>\n",
       "    .dataframe tbody tr th:only-of-type {\n",
       "        vertical-align: middle;\n",
       "    }\n",
       "\n",
       "    .dataframe tbody tr th {\n",
       "        vertical-align: top;\n",
       "    }\n",
       "\n",
       "    .dataframe thead th {\n",
       "        text-align: right;\n",
       "    }\n",
       "</style>\n",
       "<table border=\"1\" class=\"dataframe\">\n",
       "  <thead>\n",
       "    <tr style=\"text-align: right;\">\n",
       "      <th></th>\n",
       "      <th>artistName</th>\n",
       "      <th>title</th>\n",
       "      <th>year</th>\n",
       "      <th>style</th>\n",
       "      <th>breath</th>\n",
       "      <th>breath_probs</th>\n",
       "      <th>depth</th>\n",
       "      <th>depth_probs</th>\n",
       "      <th>genre</th>\n",
       "      <th>artemis</th>\n",
       "      <th>emotions</th>\n",
       "      <th>webUrl</th>\n",
       "    </tr>\n",
       "  </thead>\n",
       "  <tbody>\n",
       "    <tr>\n",
       "      <th>242169</th>\n",
       "      <td>Mark Rothko</td>\n",
       "      <td>Untitled</td>\n",
       "      <td>1952.0</td>\n",
       "      <td>Color Field Painting</td>\n",
       "      <td>abstract</td>\n",
       "      <td>1.000000</td>\n",
       "      <td>iconic</td>\n",
       "      <td>1.000000</td>\n",
       "      <td>abstract</td>\n",
       "      <td>disgust, fear, excitement</td>\n",
       "      <td></td>\n",
       "      <td>https://uploads5.wikiart.org/images/mark-rothko/untitled-6(1).jpg</td>\n",
       "    </tr>\n",
       "    <tr>\n",
       "      <th>224004</th>\n",
       "      <td>Pablo Picasso</td>\n",
       "      <td>Head of a man</td>\n",
       "      <td>1908.0</td>\n",
       "      <td>Cubism</td>\n",
       "      <td>abstract</td>\n",
       "      <td>0.998729</td>\n",
       "      <td>iconic</td>\n",
       "      <td>0.766468</td>\n",
       "      <td>portrait</td>\n",
       "      <td>disgust, fear, something else</td>\n",
       "      <td>None</td>\n",
       "      <td>https://uploads5.wikiart.org/images/pablo-picasso/head-of-a-man-1908-1.jpg</td>\n",
       "    </tr>\n",
       "    <tr>\n",
       "      <th>291887</th>\n",
       "      <td>Horia Bernea</td>\n",
       "      <td>Simeze</td>\n",
       "      <td>NaN</td>\n",
       "      <td>Abstract Expressionism</td>\n",
       "      <td>abstract</td>\n",
       "      <td>0.996395</td>\n",
       "      <td>iconic</td>\n",
       "      <td>0.829505</td>\n",
       "      <td>abstract</td>\n",
       "      <td>awe, contentment, something else, amusement</td>\n",
       "      <td>None</td>\n",
       "      <td>https://uploads8.wikiart.org/images/horia-bernea/simeze.jpg</td>\n",
       "    </tr>\n",
       "  </tbody>\n",
       "</table>\n",
       "</div>"
      ],
      "text/plain": [
       "           artistName          title    year                   style  \\\n",
       "242169    Mark Rothko       Untitled  1952.0    Color Field Painting   \n",
       "224004  Pablo Picasso  Head of a man  1908.0                  Cubism   \n",
       "291887   Horia Bernea         Simeze     NaN  Abstract Expressionism   \n",
       "\n",
       "          breath  breath_probs   depth  depth_probs     genre  \\\n",
       "242169  abstract      1.000000  iconic     1.000000  abstract   \n",
       "224004  abstract      0.998729  iconic     0.766468  portrait   \n",
       "291887  abstract      0.996395  iconic     0.829505  abstract   \n",
       "\n",
       "                                            artemis emotions  \\\n",
       "242169                    disgust, fear, excitement            \n",
       "224004                disgust, fear, something else     None   \n",
       "291887  awe, contentment, something else, amusement     None   \n",
       "\n",
       "                                                                            webUrl  \n",
       "242169           https://uploads5.wikiart.org/images/mark-rothko/untitled-6(1).jpg  \n",
       "224004  https://uploads5.wikiart.org/images/pablo-picasso/head-of-a-man-1908-1.jpg  \n",
       "291887                 https://uploads8.wikiart.org/images/horia-bernea/simeze.jpg  "
      ]
     },
     "execution_count": 5,
     "metadata": {},
     "output_type": "execute_result"
    }
   ],
   "source": [
    "# import pandas as pd\n",
    "\n",
    "model_predictions = {}\n",
    "for model in model_picks:\n",
    "    model_predictions[model] = pd.read_parquet(Path(\"./data\")/model/\"critic_output1.parquet\")\n",
    "model_predictions[list(model_predictions.keys())[0]].sample(3)"
   ]
  },
  {
   "cell_type": "markdown",
   "metadata": {},
   "source": [
    "### Testiranje na web stranicama\n"
   ]
  },
  {
   "cell_type": "code",
   "execution_count": 6,
   "metadata": {},
   "outputs": [
    {
     "name": "stdout",
     "output_type": "stream",
     "text": [
      "['https://static.gettyimages.com/display-sets/creative-landing/images/GettyImages-2131911406.jpg', 'https://static.gettyimages.com/display-sets/creative-landing/images/GettyImages-1995304390.jpg', 'https://static.gettyimages.com/display-sets/creative-landing/images/GettyImages-2086233684.jpg', 'https://static.gettyimages.com/display-sets/creative-landing/images/GettyImages-1820574038.jpg', 'https://static.gettyimages.com/display-sets/creative-landing/images/GettyImages-2112002315.jpg', 'https://static.gettyimages.com/display-sets/creative-landing/images/GettyImages-1939317654.jpg', 'https://static.gettyimages.com/display-sets/creative-landing/images/GettyImages-2116292040.jpg', 'https://static.gettyimages.com/display-sets/creative-landing/images/GettyImages-1859049658.jpg', 'https://static.gettyimages.com/display-sets/creative-landing/images/GettyImages-2043042354.jpg', 'https://static.gettyimages.com/display-sets/creative-landing/images/GettyImages-2039536981.jpg', 'https://static.gettyimages.com/display-sets/creative-landing/images/GettyImages-1850113646.jpg', 'https://static.gettyimages.com/display-sets/creative-landing/images/GettyImages-2009624301.jpg', 'https://static.gettyimages.com/display-sets/creative-landing/images/GettyImages-2101683364.jpg', 'https://static.gettyimages.com/display-sets/creative-landing/images/GettyImages-1992890382.jpg', 'https://static.gettyimages.com/display-sets/creative-landing/images/GettyImages-1679740778.jpg', 'https://static.gettyimages.com/display-sets/creative-landing/images/GettyImages-1860589317.jpg', 'https://static.gettyimages.com/display-sets/creative-landing/images/GettyImages-1304783400.jpg', 'https://static.gettyimages.com/display-sets/creative-landing/images/GettyImages-1393755062.jpg', 'https://static.gettyimages.com/display-sets/creative-landing/images/GettyImages-1960914287.jpg', 'https://static.gettyimages.com/display-sets/creative-landing/images/GettyImages-2031835947.jpg', 'https://static.gettyimages.com/display-sets/creative-landing/images/GettyImages-2050786702.jpg', 'https://static.gettyimages.com/display-sets/creative-landing/images/GettyImages-1694035096.jpg', 'https://static.gettyimages.com/display-sets/creative-landing/images/GettyImages-1711839971.jpg', 'https://static.gettyimages.com/display-sets/creative-landing/images/GettyImages-1988636956.jpg', 'https://static.gettyimages.com/display-sets/creative-landing/images/GettyImages-2015585487.jpg', 'https://static.gettyimages.com/display-sets/creative-landing/images/GettyImages-1448734171.jpg', 'https://static.gettyimages.com/display-sets/creative-landing/images/GettyImages-1369119153.jpg', 'https://static.gettyimages.com/display-sets/creative-landing/images/GettyImages-2022350754.jpg', 'https://static.gettyimages.com/display-sets/creative-landing/images/GettyImages-1941901326.jpg', 'https://static.gettyimages.com/display-sets/creative-landing/images/GettyImages-1907862843.jpg', 'https://static.gettyimages.com/display-sets/creative-landing/images/GettyImages-1960868890.jpg', 'https://static.gettyimages.com/display-sets/creative-landing/images/GettyImages-1757252335.jpg', 'https://static.gettyimages.com/display-sets/creative-landing/images/GettyImages-1887887112.jpg', 'https://static.gettyimages.com/display-sets/creative-landing/images/GettyImages-1411160666.jpg', 'https://static.gettyimages.com/display-sets/creative-landing/images/GettyImages-1434721875.jpg', 'https://static.gettyimages.com/display-sets/creative-landing/images/GettyImages-1948262747.jpg', 'https://static.gettyimages.com/display-sets/creative-landing/images/GettyImages-1769797142.jpg', 'https://static.gettyimages.com/display-sets/creative-landing/images/GettyImages-1590916844.jpg', 'https://static.gettyimages.com/display-sets/creative-landing/images/GettyImages-1768691458.jpg', 'https://static.gettyimages.com/display-sets/creative-landing/images/GettyImages-1305309578.jpg', 'https://static.gettyimages.com/display-sets/creative-landing/images/GettyImages-1955240006.jpg', 'https://static.gettyimages.com/display-sets/creative-landing/images/GettyImages-1833644650.jpg', 'https://static.gettyimages.com/display-sets/creative-landing/images/GettyImages-1441548860.jpg', 'https://static.gettyimages.com/display-sets/creative-landing/images/GettyImages-1453636602.jpg', 'https://static.gettyimages.com/display-sets/creative-landing/images/GettyImages-1939203504.jpg', 'https://static.gettyimages.com/display-sets/creative-landing/images/GettyImages-1498694392.jpg', 'https://static.gettyimages.com/display-sets/creative-landing/images/GettyImages-1562926350.jpg', 'https://static.gettyimages.com/display-sets/creative-landing/images/GettyImages-1926074362.jpg', 'https://static.gettyimages.com/display-sets/creative-landing/images/GettyImages-1902476555.jpg', 'https://static.gettyimages.com/display-sets/creative-landing/images/GettyImages-1468223506.jpg', 'https://static.gettyimages.com/display-sets/creative-landing/images/GettyImages-1724600113.jpg', 'https://static.gettyimages.com/display-sets/creative-landing/images/GettyImages-1807510851.jpg', 'https://static.gettyimages.com/display-sets/creative-landing/images/GettyImages-1812244974.jpg', 'https://static.gettyimages.com/display-sets/creative-landing/images/GettyImages-1710200569.jpg', 'https://static.gettyimages.com/display-sets/creative-landing/images/GettyImages-1942933509.jpg', 'https://static.gettyimages.com/display-sets/creative-landing/images/GettyImages-1978616599.jpg', 'https://static.gettyimages.com/display-sets/creative-landing/images/GettyImages-1916864037.jpg', 'https://static.gettyimages.com/display-sets/creative-landing/carousel/HPCarousel_VisGPSReportGTM-desktop.jpg', 'https://static.gettyimages.com/display-sets/creative-landing/carousel/86dt5r77a_HPCarousel_April-desktop.jpg', 'https://static.gettyimages.com/display-sets/creative-landing/carousel/86dragr76-HPCarousel-GenAI-desktop.jpg', 'https://static.gettyimages.com/display-sets/creative-landing/carousel/HPCarousel_VisGPSReportGTM-desktop.jpg', 'https://static.gettyimages.com/display-sets/creative-landing/carousel/86dt5r77a_HPCarousel_April-desktop.jpg', 'https://static.gettyimages.com/display-sets/creative-landing/carousel/86dragr76-HPCarousel-GenAI-desktop.jpg', 'https://static.gettyimages.com/display-sets/creative-landing/carousel/HPCarousel_VisGPSReportGTM-desktop.jpg', 'https://static.gettyimages.com/display-sets/creative-landing/carousel/86dt5r77a_HPCarousel_April-desktop.jpg', 'https://static.gettyimages.com/display-sets/creative-landing/carousel/86dragr76-HPCarousel-GenAI-desktop.jpg']\n",
      "ajmo00oooooo!\n",
      "//////////////// GOOGLENET_10X ////////////////\n",
      "\n",
      "\n",
      "#%&%##%&%##%&%##%&%##%&%##%&%##%&%##%&%##%&%##%&%##%&%##%&%##%&%##%&%##%&%#\n",
      "- 1 - 1 - 1 - 1 - 1 - 1 - 1 - 1 - 1 - 1 - 1 - 1 - 1 - 1 - 1 - \n"
     ]
    },
    {
     "data": {
      "text/html": [
       "\n",
       "<style>\n",
       "    /* Turns off some styling */\n",
       "    progress {\n",
       "        /* gets rid of default border in Firefox and Opera. */\n",
       "        border: none;\n",
       "        /* Needs to be in here for Safari polyfill so background images work as expected. */\n",
       "        background-size: auto;\n",
       "    }\n",
       "    progress:not([value]), progress:not([value])::-webkit-progress-bar {\n",
       "        background: repeating-linear-gradient(45deg, #7e7e7e, #7e7e7e 10px, #5c5c5c 10px, #5c5c5c 20px);\n",
       "    }\n",
       "    .progress-bar-interrupted, .progress-bar-interrupted::-webkit-progress-bar {\n",
       "        background: #F44336;\n",
       "    }\n",
       "</style>\n"
      ],
      "text/plain": [
       "<IPython.core.display.HTML object>"
      ]
     },
     "metadata": {},
     "output_type": "display_data"
    },
    {
     "data": {
      "text/html": [],
      "text/plain": [
       "<IPython.core.display.HTML object>"
      ]
     },
     "metadata": {},
     "output_type": "display_data"
    },
    {
     "name": "stdout",
     "output_type": "stream",
     "text": [
      "Image test1.jpg is concrete.\n",
      "('abstract', 2.1008367e-05) ('concrete', 0.999979)\n"
     ]
    },
    {
     "data": {
      "text/html": [
       "\n",
       "<style>\n",
       "    /* Turns off some styling */\n",
       "    progress {\n",
       "        /* gets rid of default border in Firefox and Opera. */\n",
       "        border: none;\n",
       "        /* Needs to be in here for Safari polyfill so background images work as expected. */\n",
       "        background-size: auto;\n",
       "    }\n",
       "    progress:not([value]), progress:not([value])::-webkit-progress-bar {\n",
       "        background: repeating-linear-gradient(45deg, #7e7e7e, #7e7e7e 10px, #5c5c5c 10px, #5c5c5c 20px);\n",
       "    }\n",
       "    .progress-bar-interrupted, .progress-bar-interrupted::-webkit-progress-bar {\n",
       "        background: #F44336;\n",
       "    }\n",
       "</style>\n"
      ],
      "text/plain": [
       "<IPython.core.display.HTML object>"
      ]
     },
     "metadata": {},
     "output_type": "display_data"
    },
    {
     "data": {
      "text/html": [],
      "text/plain": [
       "<IPython.core.display.HTML object>"
      ]
     },
     "metadata": {},
     "output_type": "display_data"
    },
    {
     "name": "stdout",
     "output_type": "stream",
     "text": [
      "Image test1.jpg is iconic.\n",
      "('iconic', 0.96346426) ('symbolic', 0.03653571)\n",
      "\n",
      "\n",
      "#%&%##%&%##%&%##%&%##%&%##%&%##%&%##%&%##%&%##%&%##%&%##%&%##%&%##%&%##%&%#\n",
      "- 2 - 2 - 2 - 2 - 2 - 2 - 2 - 2 - 2 - 2 - 2 - 2 - 2 - 2 - 2 - \n"
     ]
    },
    {
     "data": {
      "text/html": [
       "\n",
       "<style>\n",
       "    /* Turns off some styling */\n",
       "    progress {\n",
       "        /* gets rid of default border in Firefox and Opera. */\n",
       "        border: none;\n",
       "        /* Needs to be in here for Safari polyfill so background images work as expected. */\n",
       "        background-size: auto;\n",
       "    }\n",
       "    progress:not([value]), progress:not([value])::-webkit-progress-bar {\n",
       "        background: repeating-linear-gradient(45deg, #7e7e7e, #7e7e7e 10px, #5c5c5c 10px, #5c5c5c 20px);\n",
       "    }\n",
       "    .progress-bar-interrupted, .progress-bar-interrupted::-webkit-progress-bar {\n",
       "        background: #F44336;\n",
       "    }\n",
       "</style>\n"
      ],
      "text/plain": [
       "<IPython.core.display.HTML object>"
      ]
     },
     "metadata": {},
     "output_type": "display_data"
    },
    {
     "data": {
      "text/html": [],
      "text/plain": [
       "<IPython.core.display.HTML object>"
      ]
     },
     "metadata": {},
     "output_type": "display_data"
    },
    {
     "name": "stdout",
     "output_type": "stream",
     "text": [
      "Image test2.jpg is concrete.\n",
      "('abstract', 0.0002301997) ('concrete', 0.99976987)\n"
     ]
    },
    {
     "data": {
      "text/html": [
       "\n",
       "<style>\n",
       "    /* Turns off some styling */\n",
       "    progress {\n",
       "        /* gets rid of default border in Firefox and Opera. */\n",
       "        border: none;\n",
       "        /* Needs to be in here for Safari polyfill so background images work as expected. */\n",
       "        background-size: auto;\n",
       "    }\n",
       "    progress:not([value]), progress:not([value])::-webkit-progress-bar {\n",
       "        background: repeating-linear-gradient(45deg, #7e7e7e, #7e7e7e 10px, #5c5c5c 10px, #5c5c5c 20px);\n",
       "    }\n",
       "    .progress-bar-interrupted, .progress-bar-interrupted::-webkit-progress-bar {\n",
       "        background: #F44336;\n",
       "    }\n",
       "</style>\n"
      ],
      "text/plain": [
       "<IPython.core.display.HTML object>"
      ]
     },
     "metadata": {},
     "output_type": "display_data"
    },
    {
     "data": {
      "text/html": [],
      "text/plain": [
       "<IPython.core.display.HTML object>"
      ]
     },
     "metadata": {},
     "output_type": "display_data"
    },
    {
     "name": "stdout",
     "output_type": "stream",
     "text": [
      "Image test2.jpg is iconic.\n",
      "('iconic', 0.99278766) ('symbolic', 0.007212331)\n",
      "\n",
      "\n",
      "#%&%##%&%##%&%##%&%##%&%##%&%##%&%##%&%##%&%##%&%##%&%##%&%##%&%##%&%##%&%#\n",
      "- 3 - 3 - 3 - 3 - 3 - 3 - 3 - 3 - 3 - 3 - 3 - 3 - 3 - 3 - 3 - \n"
     ]
    },
    {
     "data": {
      "text/html": [
       "\n",
       "<style>\n",
       "    /* Turns off some styling */\n",
       "    progress {\n",
       "        /* gets rid of default border in Firefox and Opera. */\n",
       "        border: none;\n",
       "        /* Needs to be in here for Safari polyfill so background images work as expected. */\n",
       "        background-size: auto;\n",
       "    }\n",
       "    progress:not([value]), progress:not([value])::-webkit-progress-bar {\n",
       "        background: repeating-linear-gradient(45deg, #7e7e7e, #7e7e7e 10px, #5c5c5c 10px, #5c5c5c 20px);\n",
       "    }\n",
       "    .progress-bar-interrupted, .progress-bar-interrupted::-webkit-progress-bar {\n",
       "        background: #F44336;\n",
       "    }\n",
       "</style>\n"
      ],
      "text/plain": [
       "<IPython.core.display.HTML object>"
      ]
     },
     "metadata": {},
     "output_type": "display_data"
    },
    {
     "data": {
      "text/html": [],
      "text/plain": [
       "<IPython.core.display.HTML object>"
      ]
     },
     "metadata": {},
     "output_type": "display_data"
    },
    {
     "name": "stdout",
     "output_type": "stream",
     "text": [
      "Image test3.jpg is concrete.\n",
      "('abstract', 1.4888881e-06) ('concrete', 0.99999857)\n"
     ]
    },
    {
     "data": {
      "text/html": [
       "\n",
       "<style>\n",
       "    /* Turns off some styling */\n",
       "    progress {\n",
       "        /* gets rid of default border in Firefox and Opera. */\n",
       "        border: none;\n",
       "        /* Needs to be in here for Safari polyfill so background images work as expected. */\n",
       "        background-size: auto;\n",
       "    }\n",
       "    progress:not([value]), progress:not([value])::-webkit-progress-bar {\n",
       "        background: repeating-linear-gradient(45deg, #7e7e7e, #7e7e7e 10px, #5c5c5c 10px, #5c5c5c 20px);\n",
       "    }\n",
       "    .progress-bar-interrupted, .progress-bar-interrupted::-webkit-progress-bar {\n",
       "        background: #F44336;\n",
       "    }\n",
       "</style>\n"
      ],
      "text/plain": [
       "<IPython.core.display.HTML object>"
      ]
     },
     "metadata": {},
     "output_type": "display_data"
    },
    {
     "data": {
      "text/html": [],
      "text/plain": [
       "<IPython.core.display.HTML object>"
      ]
     },
     "metadata": {},
     "output_type": "display_data"
    },
    {
     "name": "stdout",
     "output_type": "stream",
     "text": [
      "Image test3.jpg is symbolic.\n",
      "('iconic', 0.012214287) ('symbolic', 0.9877857)\n",
      "\n",
      "\n",
      "#%&%##%&%##%&%##%&%##%&%##%&%##%&%##%&%##%&%##%&%##%&%##%&%##%&%##%&%##%&%#\n",
      "- 4 - 4 - 4 - 4 - 4 - 4 - 4 - 4 - 4 - 4 - 4 - 4 - 4 - 4 - 4 - \n"
     ]
    },
    {
     "data": {
      "text/html": [
       "\n",
       "<style>\n",
       "    /* Turns off some styling */\n",
       "    progress {\n",
       "        /* gets rid of default border in Firefox and Opera. */\n",
       "        border: none;\n",
       "        /* Needs to be in here for Safari polyfill so background images work as expected. */\n",
       "        background-size: auto;\n",
       "    }\n",
       "    progress:not([value]), progress:not([value])::-webkit-progress-bar {\n",
       "        background: repeating-linear-gradient(45deg, #7e7e7e, #7e7e7e 10px, #5c5c5c 10px, #5c5c5c 20px);\n",
       "    }\n",
       "    .progress-bar-interrupted, .progress-bar-interrupted::-webkit-progress-bar {\n",
       "        background: #F44336;\n",
       "    }\n",
       "</style>\n"
      ],
      "text/plain": [
       "<IPython.core.display.HTML object>"
      ]
     },
     "metadata": {},
     "output_type": "display_data"
    },
    {
     "data": {
      "text/html": [],
      "text/plain": [
       "<IPython.core.display.HTML object>"
      ]
     },
     "metadata": {},
     "output_type": "display_data"
    },
    {
     "name": "stdout",
     "output_type": "stream",
     "text": [
      "Image test4.jpg is concrete.\n",
      "('abstract', 0.00018606124) ('concrete', 0.999814)\n"
     ]
    },
    {
     "data": {
      "text/html": [
       "\n",
       "<style>\n",
       "    /* Turns off some styling */\n",
       "    progress {\n",
       "        /* gets rid of default border in Firefox and Opera. */\n",
       "        border: none;\n",
       "        /* Needs to be in here for Safari polyfill so background images work as expected. */\n",
       "        background-size: auto;\n",
       "    }\n",
       "    progress:not([value]), progress:not([value])::-webkit-progress-bar {\n",
       "        background: repeating-linear-gradient(45deg, #7e7e7e, #7e7e7e 10px, #5c5c5c 10px, #5c5c5c 20px);\n",
       "    }\n",
       "    .progress-bar-interrupted, .progress-bar-interrupted::-webkit-progress-bar {\n",
       "        background: #F44336;\n",
       "    }\n",
       "</style>\n"
      ],
      "text/plain": [
       "<IPython.core.display.HTML object>"
      ]
     },
     "metadata": {},
     "output_type": "display_data"
    },
    {
     "data": {
      "text/html": [],
      "text/plain": [
       "<IPython.core.display.HTML object>"
      ]
     },
     "metadata": {},
     "output_type": "display_data"
    },
    {
     "name": "stdout",
     "output_type": "stream",
     "text": [
      "Image test4.jpg is symbolic.\n",
      "('iconic', 0.45009008) ('symbolic', 0.5499099)\n",
      "\n",
      "\n",
      "#%&%##%&%##%&%##%&%##%&%##%&%##%&%##%&%##%&%##%&%##%&%##%&%##%&%##%&%##%&%#\n",
      "- 5 - 5 - 5 - 5 - 5 - 5 - 5 - 5 - 5 - 5 - 5 - 5 - 5 - 5 - 5 - \n"
     ]
    },
    {
     "data": {
      "text/html": [
       "\n",
       "<style>\n",
       "    /* Turns off some styling */\n",
       "    progress {\n",
       "        /* gets rid of default border in Firefox and Opera. */\n",
       "        border: none;\n",
       "        /* Needs to be in here for Safari polyfill so background images work as expected. */\n",
       "        background-size: auto;\n",
       "    }\n",
       "    progress:not([value]), progress:not([value])::-webkit-progress-bar {\n",
       "        background: repeating-linear-gradient(45deg, #7e7e7e, #7e7e7e 10px, #5c5c5c 10px, #5c5c5c 20px);\n",
       "    }\n",
       "    .progress-bar-interrupted, .progress-bar-interrupted::-webkit-progress-bar {\n",
       "        background: #F44336;\n",
       "    }\n",
       "</style>\n"
      ],
      "text/plain": [
       "<IPython.core.display.HTML object>"
      ]
     },
     "metadata": {},
     "output_type": "display_data"
    },
    {
     "data": {
      "text/html": [],
      "text/plain": [
       "<IPython.core.display.HTML object>"
      ]
     },
     "metadata": {},
     "output_type": "display_data"
    },
    {
     "name": "stdout",
     "output_type": "stream",
     "text": [
      "Image test5.jpg is concrete.\n",
      "('abstract', 0.04180129) ('concrete', 0.9581987)\n"
     ]
    },
    {
     "data": {
      "text/html": [
       "\n",
       "<style>\n",
       "    /* Turns off some styling */\n",
       "    progress {\n",
       "        /* gets rid of default border in Firefox and Opera. */\n",
       "        border: none;\n",
       "        /* Needs to be in here for Safari polyfill so background images work as expected. */\n",
       "        background-size: auto;\n",
       "    }\n",
       "    progress:not([value]), progress:not([value])::-webkit-progress-bar {\n",
       "        background: repeating-linear-gradient(45deg, #7e7e7e, #7e7e7e 10px, #5c5c5c 10px, #5c5c5c 20px);\n",
       "    }\n",
       "    .progress-bar-interrupted, .progress-bar-interrupted::-webkit-progress-bar {\n",
       "        background: #F44336;\n",
       "    }\n",
       "</style>\n"
      ],
      "text/plain": [
       "<IPython.core.display.HTML object>"
      ]
     },
     "metadata": {},
     "output_type": "display_data"
    },
    {
     "data": {
      "text/html": [],
      "text/plain": [
       "<IPython.core.display.HTML object>"
      ]
     },
     "metadata": {},
     "output_type": "display_data"
    },
    {
     "name": "stdout",
     "output_type": "stream",
     "text": [
      "Image test5.jpg is iconic.\n",
      "('iconic', 0.8883416) ('symbolic', 0.111658424)\n",
      "\n",
      "\n",
      "#%&%##%&%##%&%##%&%##%&%##%&%##%&%##%&%##%&%##%&%##%&%##%&%##%&%##%&%##%&%#\n",
      "- 6 - 6 - 6 - 6 - 6 - 6 - 6 - 6 - 6 - 6 - 6 - 6 - 6 - 6 - 6 - \n"
     ]
    },
    {
     "data": {
      "text/html": [
       "\n",
       "<style>\n",
       "    /* Turns off some styling */\n",
       "    progress {\n",
       "        /* gets rid of default border in Firefox and Opera. */\n",
       "        border: none;\n",
       "        /* Needs to be in here for Safari polyfill so background images work as expected. */\n",
       "        background-size: auto;\n",
       "    }\n",
       "    progress:not([value]), progress:not([value])::-webkit-progress-bar {\n",
       "        background: repeating-linear-gradient(45deg, #7e7e7e, #7e7e7e 10px, #5c5c5c 10px, #5c5c5c 20px);\n",
       "    }\n",
       "    .progress-bar-interrupted, .progress-bar-interrupted::-webkit-progress-bar {\n",
       "        background: #F44336;\n",
       "    }\n",
       "</style>\n"
      ],
      "text/plain": [
       "<IPython.core.display.HTML object>"
      ]
     },
     "metadata": {},
     "output_type": "display_data"
    },
    {
     "data": {
      "text/html": [],
      "text/plain": [
       "<IPython.core.display.HTML object>"
      ]
     },
     "metadata": {},
     "output_type": "display_data"
    },
    {
     "name": "stdout",
     "output_type": "stream",
     "text": [
      "Image test6.jpg is abstract.\n",
      "('abstract', 0.9987445) ('concrete', 0.001255446)\n"
     ]
    },
    {
     "data": {
      "text/html": [
       "\n",
       "<style>\n",
       "    /* Turns off some styling */\n",
       "    progress {\n",
       "        /* gets rid of default border in Firefox and Opera. */\n",
       "        border: none;\n",
       "        /* Needs to be in here for Safari polyfill so background images work as expected. */\n",
       "        background-size: auto;\n",
       "    }\n",
       "    progress:not([value]), progress:not([value])::-webkit-progress-bar {\n",
       "        background: repeating-linear-gradient(45deg, #7e7e7e, #7e7e7e 10px, #5c5c5c 10px, #5c5c5c 20px);\n",
       "    }\n",
       "    .progress-bar-interrupted, .progress-bar-interrupted::-webkit-progress-bar {\n",
       "        background: #F44336;\n",
       "    }\n",
       "</style>\n"
      ],
      "text/plain": [
       "<IPython.core.display.HTML object>"
      ]
     },
     "metadata": {},
     "output_type": "display_data"
    },
    {
     "data": {
      "text/html": [],
      "text/plain": [
       "<IPython.core.display.HTML object>"
      ]
     },
     "metadata": {},
     "output_type": "display_data"
    },
    {
     "name": "stdout",
     "output_type": "stream",
     "text": [
      "Image test6.jpg is symbolic.\n",
      "('iconic', 0.40084475) ('symbolic', 0.5991553)\n",
      "\n",
      "\n",
      "#%&%##%&%##%&%##%&%##%&%##%&%##%&%##%&%##%&%##%&%##%&%##%&%##%&%##%&%##%&%#\n",
      "- 7 - 7 - 7 - 7 - 7 - 7 - 7 - 7 - 7 - 7 - 7 - 7 - 7 - 7 - 7 - \n"
     ]
    },
    {
     "data": {
      "text/html": [
       "\n",
       "<style>\n",
       "    /* Turns off some styling */\n",
       "    progress {\n",
       "        /* gets rid of default border in Firefox and Opera. */\n",
       "        border: none;\n",
       "        /* Needs to be in here for Safari polyfill so background images work as expected. */\n",
       "        background-size: auto;\n",
       "    }\n",
       "    progress:not([value]), progress:not([value])::-webkit-progress-bar {\n",
       "        background: repeating-linear-gradient(45deg, #7e7e7e, #7e7e7e 10px, #5c5c5c 10px, #5c5c5c 20px);\n",
       "    }\n",
       "    .progress-bar-interrupted, .progress-bar-interrupted::-webkit-progress-bar {\n",
       "        background: #F44336;\n",
       "    }\n",
       "</style>\n"
      ],
      "text/plain": [
       "<IPython.core.display.HTML object>"
      ]
     },
     "metadata": {},
     "output_type": "display_data"
    },
    {
     "data": {
      "text/html": [],
      "text/plain": [
       "<IPython.core.display.HTML object>"
      ]
     },
     "metadata": {},
     "output_type": "display_data"
    },
    {
     "name": "stdout",
     "output_type": "stream",
     "text": [
      "Image test7.jpg is concrete.\n",
      "('abstract', 7.7833147e-07) ('concrete', 0.99999917)\n"
     ]
    },
    {
     "data": {
      "text/html": [
       "\n",
       "<style>\n",
       "    /* Turns off some styling */\n",
       "    progress {\n",
       "        /* gets rid of default border in Firefox and Opera. */\n",
       "        border: none;\n",
       "        /* Needs to be in here for Safari polyfill so background images work as expected. */\n",
       "        background-size: auto;\n",
       "    }\n",
       "    progress:not([value]), progress:not([value])::-webkit-progress-bar {\n",
       "        background: repeating-linear-gradient(45deg, #7e7e7e, #7e7e7e 10px, #5c5c5c 10px, #5c5c5c 20px);\n",
       "    }\n",
       "    .progress-bar-interrupted, .progress-bar-interrupted::-webkit-progress-bar {\n",
       "        background: #F44336;\n",
       "    }\n",
       "</style>\n"
      ],
      "text/plain": [
       "<IPython.core.display.HTML object>"
      ]
     },
     "metadata": {},
     "output_type": "display_data"
    },
    {
     "data": {
      "text/html": [],
      "text/plain": [
       "<IPython.core.display.HTML object>"
      ]
     },
     "metadata": {},
     "output_type": "display_data"
    },
    {
     "name": "stdout",
     "output_type": "stream",
     "text": [
      "Image test7.jpg is iconic.\n",
      "('iconic', 0.96536136) ('symbolic', 0.03463862)\n",
      "\n",
      "\n",
      "#%&%##%&%##%&%##%&%##%&%##%&%##%&%##%&%##%&%##%&%##%&%##%&%##%&%##%&%##%&%#\n",
      "- 8 - 8 - 8 - 8 - 8 - 8 - 8 - 8 - 8 - 8 - 8 - 8 - 8 - 8 - 8 - \n"
     ]
    },
    {
     "data": {
      "text/html": [
       "\n",
       "<style>\n",
       "    /* Turns off some styling */\n",
       "    progress {\n",
       "        /* gets rid of default border in Firefox and Opera. */\n",
       "        border: none;\n",
       "        /* Needs to be in here for Safari polyfill so background images work as expected. */\n",
       "        background-size: auto;\n",
       "    }\n",
       "    progress:not([value]), progress:not([value])::-webkit-progress-bar {\n",
       "        background: repeating-linear-gradient(45deg, #7e7e7e, #7e7e7e 10px, #5c5c5c 10px, #5c5c5c 20px);\n",
       "    }\n",
       "    .progress-bar-interrupted, .progress-bar-interrupted::-webkit-progress-bar {\n",
       "        background: #F44336;\n",
       "    }\n",
       "</style>\n"
      ],
      "text/plain": [
       "<IPython.core.display.HTML object>"
      ]
     },
     "metadata": {},
     "output_type": "display_data"
    },
    {
     "data": {
      "text/html": [],
      "text/plain": [
       "<IPython.core.display.HTML object>"
      ]
     },
     "metadata": {},
     "output_type": "display_data"
    },
    {
     "name": "stdout",
     "output_type": "stream",
     "text": [
      "Image test8.jpg is abstract.\n",
      "('abstract', 1.0) ('concrete', 3.2958098e-11)\n"
     ]
    },
    {
     "data": {
      "text/html": [
       "\n",
       "<style>\n",
       "    /* Turns off some styling */\n",
       "    progress {\n",
       "        /* gets rid of default border in Firefox and Opera. */\n",
       "        border: none;\n",
       "        /* Needs to be in here for Safari polyfill so background images work as expected. */\n",
       "        background-size: auto;\n",
       "    }\n",
       "    progress:not([value]), progress:not([value])::-webkit-progress-bar {\n",
       "        background: repeating-linear-gradient(45deg, #7e7e7e, #7e7e7e 10px, #5c5c5c 10px, #5c5c5c 20px);\n",
       "    }\n",
       "    .progress-bar-interrupted, .progress-bar-interrupted::-webkit-progress-bar {\n",
       "        background: #F44336;\n",
       "    }\n",
       "</style>\n"
      ],
      "text/plain": [
       "<IPython.core.display.HTML object>"
      ]
     },
     "metadata": {},
     "output_type": "display_data"
    },
    {
     "data": {
      "text/html": [],
      "text/plain": [
       "<IPython.core.display.HTML object>"
      ]
     },
     "metadata": {},
     "output_type": "display_data"
    },
    {
     "name": "stdout",
     "output_type": "stream",
     "text": [
      "Image test8.jpg is symbolic.\n",
      "('iconic', 0.0019548053) ('symbolic', 0.9980452)\n",
      "\n",
      "\n",
      "#%&%##%&%##%&%##%&%##%&%##%&%##%&%##%&%##%&%##%&%##%&%##%&%##%&%##%&%##%&%#\n",
      "- 9 - 9 - 9 - 9 - 9 - 9 - 9 - 9 - 9 - 9 - 9 - 9 - 9 - 9 - 9 - \n"
     ]
    },
    {
     "data": {
      "text/html": [
       "\n",
       "<style>\n",
       "    /* Turns off some styling */\n",
       "    progress {\n",
       "        /* gets rid of default border in Firefox and Opera. */\n",
       "        border: none;\n",
       "        /* Needs to be in here for Safari polyfill so background images work as expected. */\n",
       "        background-size: auto;\n",
       "    }\n",
       "    progress:not([value]), progress:not([value])::-webkit-progress-bar {\n",
       "        background: repeating-linear-gradient(45deg, #7e7e7e, #7e7e7e 10px, #5c5c5c 10px, #5c5c5c 20px);\n",
       "    }\n",
       "    .progress-bar-interrupted, .progress-bar-interrupted::-webkit-progress-bar {\n",
       "        background: #F44336;\n",
       "    }\n",
       "</style>\n"
      ],
      "text/plain": [
       "<IPython.core.display.HTML object>"
      ]
     },
     "metadata": {},
     "output_type": "display_data"
    },
    {
     "data": {
      "text/html": [],
      "text/plain": [
       "<IPython.core.display.HTML object>"
      ]
     },
     "metadata": {},
     "output_type": "display_data"
    },
    {
     "name": "stdout",
     "output_type": "stream",
     "text": [
      "Image test9.jpg is concrete.\n",
      "('abstract', 1.7850414e-05) ('concrete', 0.9999821)\n"
     ]
    },
    {
     "data": {
      "text/html": [
       "\n",
       "<style>\n",
       "    /* Turns off some styling */\n",
       "    progress {\n",
       "        /* gets rid of default border in Firefox and Opera. */\n",
       "        border: none;\n",
       "        /* Needs to be in here for Safari polyfill so background images work as expected. */\n",
       "        background-size: auto;\n",
       "    }\n",
       "    progress:not([value]), progress:not([value])::-webkit-progress-bar {\n",
       "        background: repeating-linear-gradient(45deg, #7e7e7e, #7e7e7e 10px, #5c5c5c 10px, #5c5c5c 20px);\n",
       "    }\n",
       "    .progress-bar-interrupted, .progress-bar-interrupted::-webkit-progress-bar {\n",
       "        background: #F44336;\n",
       "    }\n",
       "</style>\n"
      ],
      "text/plain": [
       "<IPython.core.display.HTML object>"
      ]
     },
     "metadata": {},
     "output_type": "display_data"
    },
    {
     "data": {
      "text/html": [],
      "text/plain": [
       "<IPython.core.display.HTML object>"
      ]
     },
     "metadata": {},
     "output_type": "display_data"
    },
    {
     "name": "stdout",
     "output_type": "stream",
     "text": [
      "Image test9.jpg is iconic.\n",
      "('iconic', 0.8142356) ('symbolic', 0.1857644)\n",
      "['https://static.gettyimages.com/display-sets/creative-landing/images/GettyImages-2131911406.jpg', 'https://static.gettyimages.com/display-sets/creative-landing/images/GettyImages-1995304390.jpg', 'https://static.gettyimages.com/display-sets/creative-landing/images/GettyImages-2086233684.jpg', 'https://static.gettyimages.com/display-sets/creative-landing/images/GettyImages-1820574038.jpg', 'https://static.gettyimages.com/display-sets/creative-landing/images/GettyImages-2112002315.jpg', 'https://static.gettyimages.com/display-sets/creative-landing/images/GettyImages-1939317654.jpg', 'https://static.gettyimages.com/display-sets/creative-landing/images/GettyImages-2116292040.jpg', 'https://static.gettyimages.com/display-sets/creative-landing/images/GettyImages-1859049658.jpg', 'https://static.gettyimages.com/display-sets/creative-landing/images/GettyImages-2043042354.jpg', 'https://static.gettyimages.com/display-sets/creative-landing/images/GettyImages-2039536981.jpg', 'https://static.gettyimages.com/display-sets/creative-landing/images/GettyImages-1850113646.jpg', 'https://static.gettyimages.com/display-sets/creative-landing/images/GettyImages-2009624301.jpg', 'https://static.gettyimages.com/display-sets/creative-landing/images/GettyImages-2101683364.jpg', 'https://static.gettyimages.com/display-sets/creative-landing/images/GettyImages-1992890382.jpg', 'https://static.gettyimages.com/display-sets/creative-landing/images/GettyImages-1679740778.jpg', 'https://static.gettyimages.com/display-sets/creative-landing/images/GettyImages-1860589317.jpg', 'https://static.gettyimages.com/display-sets/creative-landing/images/GettyImages-1304783400.jpg', 'https://static.gettyimages.com/display-sets/creative-landing/images/GettyImages-1393755062.jpg', 'https://static.gettyimages.com/display-sets/creative-landing/images/GettyImages-1960914287.jpg', 'https://static.gettyimages.com/display-sets/creative-landing/images/GettyImages-2031835947.jpg', 'https://static.gettyimages.com/display-sets/creative-landing/images/GettyImages-2050786702.jpg', 'https://static.gettyimages.com/display-sets/creative-landing/images/GettyImages-1694035096.jpg', 'https://static.gettyimages.com/display-sets/creative-landing/images/GettyImages-1711839971.jpg', 'https://static.gettyimages.com/display-sets/creative-landing/images/GettyImages-1988636956.jpg', 'https://static.gettyimages.com/display-sets/creative-landing/images/GettyImages-2015585487.jpg', 'https://static.gettyimages.com/display-sets/creative-landing/images/GettyImages-1448734171.jpg', 'https://static.gettyimages.com/display-sets/creative-landing/images/GettyImages-1369119153.jpg', 'https://static.gettyimages.com/display-sets/creative-landing/images/GettyImages-2022350754.jpg', 'https://static.gettyimages.com/display-sets/creative-landing/images/GettyImages-1941901326.jpg', 'https://static.gettyimages.com/display-sets/creative-landing/images/GettyImages-1907862843.jpg', 'https://static.gettyimages.com/display-sets/creative-landing/images/GettyImages-1960868890.jpg', 'https://static.gettyimages.com/display-sets/creative-landing/images/GettyImages-1757252335.jpg', 'https://static.gettyimages.com/display-sets/creative-landing/images/GettyImages-1887887112.jpg', 'https://static.gettyimages.com/display-sets/creative-landing/images/GettyImages-1411160666.jpg', 'https://static.gettyimages.com/display-sets/creative-landing/images/GettyImages-1434721875.jpg', 'https://static.gettyimages.com/display-sets/creative-landing/images/GettyImages-1948262747.jpg', 'https://static.gettyimages.com/display-sets/creative-landing/images/GettyImages-1769797142.jpg', 'https://static.gettyimages.com/display-sets/creative-landing/images/GettyImages-1590916844.jpg', 'https://static.gettyimages.com/display-sets/creative-landing/images/GettyImages-1768691458.jpg', 'https://static.gettyimages.com/display-sets/creative-landing/images/GettyImages-1305309578.jpg', 'https://static.gettyimages.com/display-sets/creative-landing/images/GettyImages-1955240006.jpg', 'https://static.gettyimages.com/display-sets/creative-landing/images/GettyImages-1833644650.jpg', 'https://static.gettyimages.com/display-sets/creative-landing/images/GettyImages-1441548860.jpg', 'https://static.gettyimages.com/display-sets/creative-landing/images/GettyImages-1453636602.jpg', 'https://static.gettyimages.com/display-sets/creative-landing/images/GettyImages-1939203504.jpg', 'https://static.gettyimages.com/display-sets/creative-landing/images/GettyImages-1498694392.jpg', 'https://static.gettyimages.com/display-sets/creative-landing/images/GettyImages-1562926350.jpg', 'https://static.gettyimages.com/display-sets/creative-landing/images/GettyImages-1926074362.jpg', 'https://static.gettyimages.com/display-sets/creative-landing/images/GettyImages-1902476555.jpg', 'https://static.gettyimages.com/display-sets/creative-landing/images/GettyImages-1468223506.jpg', 'https://static.gettyimages.com/display-sets/creative-landing/images/GettyImages-1724600113.jpg', 'https://static.gettyimages.com/display-sets/creative-landing/images/GettyImages-1807510851.jpg', 'https://static.gettyimages.com/display-sets/creative-landing/images/GettyImages-1812244974.jpg', 'https://static.gettyimages.com/display-sets/creative-landing/images/GettyImages-1710200569.jpg', 'https://static.gettyimages.com/display-sets/creative-landing/images/GettyImages-1942933509.jpg', 'https://static.gettyimages.com/display-sets/creative-landing/images/GettyImages-1978616599.jpg', 'https://static.gettyimages.com/display-sets/creative-landing/images/GettyImages-1916864037.jpg', 'https://static.gettyimages.com/display-sets/creative-landing/carousel/HPCarousel_VisGPSReportGTM-desktop.jpg', 'https://static.gettyimages.com/display-sets/creative-landing/carousel/86dt5r77a_HPCarousel_April-desktop.jpg', 'https://static.gettyimages.com/display-sets/creative-landing/carousel/86dragr76-HPCarousel-GenAI-desktop.jpg', 'https://static.gettyimages.com/display-sets/creative-landing/carousel/HPCarousel_VisGPSReportGTM-desktop.jpg', 'https://static.gettyimages.com/display-sets/creative-landing/carousel/86dt5r77a_HPCarousel_April-desktop.jpg', 'https://static.gettyimages.com/display-sets/creative-landing/carousel/86dragr76-HPCarousel-GenAI-desktop.jpg', 'https://static.gettyimages.com/display-sets/creative-landing/carousel/HPCarousel_VisGPSReportGTM-desktop.jpg', 'https://static.gettyimages.com/display-sets/creative-landing/carousel/86dt5r77a_HPCarousel_April-desktop.jpg', 'https://static.gettyimages.com/display-sets/creative-landing/carousel/86dragr76-HPCarousel-GenAI-desktop.jpg']\n",
      "ajmo00oooooo!\n",
      "//////////////// GOOGLENET_1X ////////////////\n",
      "\n",
      "\n",
      "#%&%##%&%##%&%##%&%##%&%##%&%##%&%##%&%##%&%##%&%##%&%##%&%##%&%##%&%##%&%#\n",
      "- 1 - 1 - 1 - 1 - 1 - 1 - 1 - 1 - 1 - 1 - 1 - 1 - 1 - 1 - 1 - \n"
     ]
    },
    {
     "data": {
      "text/html": [
       "\n",
       "<style>\n",
       "    /* Turns off some styling */\n",
       "    progress {\n",
       "        /* gets rid of default border in Firefox and Opera. */\n",
       "        border: none;\n",
       "        /* Needs to be in here for Safari polyfill so background images work as expected. */\n",
       "        background-size: auto;\n",
       "    }\n",
       "    progress:not([value]), progress:not([value])::-webkit-progress-bar {\n",
       "        background: repeating-linear-gradient(45deg, #7e7e7e, #7e7e7e 10px, #5c5c5c 10px, #5c5c5c 20px);\n",
       "    }\n",
       "    .progress-bar-interrupted, .progress-bar-interrupted::-webkit-progress-bar {\n",
       "        background: #F44336;\n",
       "    }\n",
       "</style>\n"
      ],
      "text/plain": [
       "<IPython.core.display.HTML object>"
      ]
     },
     "metadata": {},
     "output_type": "display_data"
    },
    {
     "data": {
      "text/html": [],
      "text/plain": [
       "<IPython.core.display.HTML object>"
      ]
     },
     "metadata": {},
     "output_type": "display_data"
    },
    {
     "name": "stdout",
     "output_type": "stream",
     "text": [
      "Image test1.jpg is concrete.\n",
      "('abstract', 4.3929405e-05) ('concrete', 0.999956)\n"
     ]
    },
    {
     "data": {
      "text/html": [
       "\n",
       "<style>\n",
       "    /* Turns off some styling */\n",
       "    progress {\n",
       "        /* gets rid of default border in Firefox and Opera. */\n",
       "        border: none;\n",
       "        /* Needs to be in here for Safari polyfill so background images work as expected. */\n",
       "        background-size: auto;\n",
       "    }\n",
       "    progress:not([value]), progress:not([value])::-webkit-progress-bar {\n",
       "        background: repeating-linear-gradient(45deg, #7e7e7e, #7e7e7e 10px, #5c5c5c 10px, #5c5c5c 20px);\n",
       "    }\n",
       "    .progress-bar-interrupted, .progress-bar-interrupted::-webkit-progress-bar {\n",
       "        background: #F44336;\n",
       "    }\n",
       "</style>\n"
      ],
      "text/plain": [
       "<IPython.core.display.HTML object>"
      ]
     },
     "metadata": {},
     "output_type": "display_data"
    },
    {
     "data": {
      "text/html": [],
      "text/plain": [
       "<IPython.core.display.HTML object>"
      ]
     },
     "metadata": {},
     "output_type": "display_data"
    },
    {
     "name": "stdout",
     "output_type": "stream",
     "text": [
      "Image test1.jpg is iconic.\n",
      "('iconic', 0.64321244) ('symbolic', 0.35678753)\n",
      "\n",
      "\n",
      "#%&%##%&%##%&%##%&%##%&%##%&%##%&%##%&%##%&%##%&%##%&%##%&%##%&%##%&%##%&%#\n",
      "- 2 - 2 - 2 - 2 - 2 - 2 - 2 - 2 - 2 - 2 - 2 - 2 - 2 - 2 - 2 - \n"
     ]
    },
    {
     "data": {
      "text/html": [
       "\n",
       "<style>\n",
       "    /* Turns off some styling */\n",
       "    progress {\n",
       "        /* gets rid of default border in Firefox and Opera. */\n",
       "        border: none;\n",
       "        /* Needs to be in here for Safari polyfill so background images work as expected. */\n",
       "        background-size: auto;\n",
       "    }\n",
       "    progress:not([value]), progress:not([value])::-webkit-progress-bar {\n",
       "        background: repeating-linear-gradient(45deg, #7e7e7e, #7e7e7e 10px, #5c5c5c 10px, #5c5c5c 20px);\n",
       "    }\n",
       "    .progress-bar-interrupted, .progress-bar-interrupted::-webkit-progress-bar {\n",
       "        background: #F44336;\n",
       "    }\n",
       "</style>\n"
      ],
      "text/plain": [
       "<IPython.core.display.HTML object>"
      ]
     },
     "metadata": {},
     "output_type": "display_data"
    },
    {
     "data": {
      "text/html": [],
      "text/plain": [
       "<IPython.core.display.HTML object>"
      ]
     },
     "metadata": {},
     "output_type": "display_data"
    },
    {
     "name": "stdout",
     "output_type": "stream",
     "text": [
      "Image test2.jpg is concrete.\n",
      "('abstract', 0.14594051) ('concrete', 0.85405946)\n"
     ]
    },
    {
     "data": {
      "text/html": [
       "\n",
       "<style>\n",
       "    /* Turns off some styling */\n",
       "    progress {\n",
       "        /* gets rid of default border in Firefox and Opera. */\n",
       "        border: none;\n",
       "        /* Needs to be in here for Safari polyfill so background images work as expected. */\n",
       "        background-size: auto;\n",
       "    }\n",
       "    progress:not([value]), progress:not([value])::-webkit-progress-bar {\n",
       "        background: repeating-linear-gradient(45deg, #7e7e7e, #7e7e7e 10px, #5c5c5c 10px, #5c5c5c 20px);\n",
       "    }\n",
       "    .progress-bar-interrupted, .progress-bar-interrupted::-webkit-progress-bar {\n",
       "        background: #F44336;\n",
       "    }\n",
       "</style>\n"
      ],
      "text/plain": [
       "<IPython.core.display.HTML object>"
      ]
     },
     "metadata": {},
     "output_type": "display_data"
    },
    {
     "data": {
      "text/html": [],
      "text/plain": [
       "<IPython.core.display.HTML object>"
      ]
     },
     "metadata": {},
     "output_type": "display_data"
    },
    {
     "name": "stdout",
     "output_type": "stream",
     "text": [
      "Image test2.jpg is iconic.\n",
      "('iconic', 0.88025486) ('symbolic', 0.119745135)\n",
      "\n",
      "\n",
      "#%&%##%&%##%&%##%&%##%&%##%&%##%&%##%&%##%&%##%&%##%&%##%&%##%&%##%&%##%&%#\n",
      "- 3 - 3 - 3 - 3 - 3 - 3 - 3 - 3 - 3 - 3 - 3 - 3 - 3 - 3 - 3 - \n"
     ]
    },
    {
     "data": {
      "text/html": [
       "\n",
       "<style>\n",
       "    /* Turns off some styling */\n",
       "    progress {\n",
       "        /* gets rid of default border in Firefox and Opera. */\n",
       "        border: none;\n",
       "        /* Needs to be in here for Safari polyfill so background images work as expected. */\n",
       "        background-size: auto;\n",
       "    }\n",
       "    progress:not([value]), progress:not([value])::-webkit-progress-bar {\n",
       "        background: repeating-linear-gradient(45deg, #7e7e7e, #7e7e7e 10px, #5c5c5c 10px, #5c5c5c 20px);\n",
       "    }\n",
       "    .progress-bar-interrupted, .progress-bar-interrupted::-webkit-progress-bar {\n",
       "        background: #F44336;\n",
       "    }\n",
       "</style>\n"
      ],
      "text/plain": [
       "<IPython.core.display.HTML object>"
      ]
     },
     "metadata": {},
     "output_type": "display_data"
    },
    {
     "data": {
      "text/html": [],
      "text/plain": [
       "<IPython.core.display.HTML object>"
      ]
     },
     "metadata": {},
     "output_type": "display_data"
    },
    {
     "name": "stdout",
     "output_type": "stream",
     "text": [
      "Image test3.jpg is concrete.\n",
      "('abstract', 0.00016451173) ('concrete', 0.9998355)\n"
     ]
    },
    {
     "data": {
      "text/html": [
       "\n",
       "<style>\n",
       "    /* Turns off some styling */\n",
       "    progress {\n",
       "        /* gets rid of default border in Firefox and Opera. */\n",
       "        border: none;\n",
       "        /* Needs to be in here for Safari polyfill so background images work as expected. */\n",
       "        background-size: auto;\n",
       "    }\n",
       "    progress:not([value]), progress:not([value])::-webkit-progress-bar {\n",
       "        background: repeating-linear-gradient(45deg, #7e7e7e, #7e7e7e 10px, #5c5c5c 10px, #5c5c5c 20px);\n",
       "    }\n",
       "    .progress-bar-interrupted, .progress-bar-interrupted::-webkit-progress-bar {\n",
       "        background: #F44336;\n",
       "    }\n",
       "</style>\n"
      ],
      "text/plain": [
       "<IPython.core.display.HTML object>"
      ]
     },
     "metadata": {},
     "output_type": "display_data"
    },
    {
     "data": {
      "text/html": [],
      "text/plain": [
       "<IPython.core.display.HTML object>"
      ]
     },
     "metadata": {},
     "output_type": "display_data"
    },
    {
     "name": "stdout",
     "output_type": "stream",
     "text": [
      "Image test3.jpg is symbolic.\n",
      "('iconic', 0.37612414) ('symbolic', 0.62387586)\n",
      "\n",
      "\n",
      "#%&%##%&%##%&%##%&%##%&%##%&%##%&%##%&%##%&%##%&%##%&%##%&%##%&%##%&%##%&%#\n",
      "- 4 - 4 - 4 - 4 - 4 - 4 - 4 - 4 - 4 - 4 - 4 - 4 - 4 - 4 - 4 - \n"
     ]
    },
    {
     "data": {
      "text/html": [
       "\n",
       "<style>\n",
       "    /* Turns off some styling */\n",
       "    progress {\n",
       "        /* gets rid of default border in Firefox and Opera. */\n",
       "        border: none;\n",
       "        /* Needs to be in here for Safari polyfill so background images work as expected. */\n",
       "        background-size: auto;\n",
       "    }\n",
       "    progress:not([value]), progress:not([value])::-webkit-progress-bar {\n",
       "        background: repeating-linear-gradient(45deg, #7e7e7e, #7e7e7e 10px, #5c5c5c 10px, #5c5c5c 20px);\n",
       "    }\n",
       "    .progress-bar-interrupted, .progress-bar-interrupted::-webkit-progress-bar {\n",
       "        background: #F44336;\n",
       "    }\n",
       "</style>\n"
      ],
      "text/plain": [
       "<IPython.core.display.HTML object>"
      ]
     },
     "metadata": {},
     "output_type": "display_data"
    },
    {
     "data": {
      "text/html": [],
      "text/plain": [
       "<IPython.core.display.HTML object>"
      ]
     },
     "metadata": {},
     "output_type": "display_data"
    },
    {
     "name": "stdout",
     "output_type": "stream",
     "text": [
      "Image test4.jpg is abstract.\n",
      "('abstract', 0.99549735) ('concrete', 0.0045026504)\n"
     ]
    },
    {
     "data": {
      "text/html": [
       "\n",
       "<style>\n",
       "    /* Turns off some styling */\n",
       "    progress {\n",
       "        /* gets rid of default border in Firefox and Opera. */\n",
       "        border: none;\n",
       "        /* Needs to be in here for Safari polyfill so background images work as expected. */\n",
       "        background-size: auto;\n",
       "    }\n",
       "    progress:not([value]), progress:not([value])::-webkit-progress-bar {\n",
       "        background: repeating-linear-gradient(45deg, #7e7e7e, #7e7e7e 10px, #5c5c5c 10px, #5c5c5c 20px);\n",
       "    }\n",
       "    .progress-bar-interrupted, .progress-bar-interrupted::-webkit-progress-bar {\n",
       "        background: #F44336;\n",
       "    }\n",
       "</style>\n"
      ],
      "text/plain": [
       "<IPython.core.display.HTML object>"
      ]
     },
     "metadata": {},
     "output_type": "display_data"
    },
    {
     "data": {
      "text/html": [],
      "text/plain": [
       "<IPython.core.display.HTML object>"
      ]
     },
     "metadata": {},
     "output_type": "display_data"
    },
    {
     "name": "stdout",
     "output_type": "stream",
     "text": [
      "Image test4.jpg is iconic.\n",
      "('iconic', 0.98848826) ('symbolic', 0.011511697)\n",
      "\n",
      "\n",
      "#%&%##%&%##%&%##%&%##%&%##%&%##%&%##%&%##%&%##%&%##%&%##%&%##%&%##%&%##%&%#\n",
      "- 5 - 5 - 5 - 5 - 5 - 5 - 5 - 5 - 5 - 5 - 5 - 5 - 5 - 5 - 5 - \n"
     ]
    },
    {
     "data": {
      "text/html": [
       "\n",
       "<style>\n",
       "    /* Turns off some styling */\n",
       "    progress {\n",
       "        /* gets rid of default border in Firefox and Opera. */\n",
       "        border: none;\n",
       "        /* Needs to be in here for Safari polyfill so background images work as expected. */\n",
       "        background-size: auto;\n",
       "    }\n",
       "    progress:not([value]), progress:not([value])::-webkit-progress-bar {\n",
       "        background: repeating-linear-gradient(45deg, #7e7e7e, #7e7e7e 10px, #5c5c5c 10px, #5c5c5c 20px);\n",
       "    }\n",
       "    .progress-bar-interrupted, .progress-bar-interrupted::-webkit-progress-bar {\n",
       "        background: #F44336;\n",
       "    }\n",
       "</style>\n"
      ],
      "text/plain": [
       "<IPython.core.display.HTML object>"
      ]
     },
     "metadata": {},
     "output_type": "display_data"
    },
    {
     "data": {
      "text/html": [],
      "text/plain": [
       "<IPython.core.display.HTML object>"
      ]
     },
     "metadata": {},
     "output_type": "display_data"
    },
    {
     "name": "stdout",
     "output_type": "stream",
     "text": [
      "Image test5.jpg is abstract.\n",
      "('abstract', 1.0) ('concrete', 1.680108e-11)\n"
     ]
    },
    {
     "data": {
      "text/html": [
       "\n",
       "<style>\n",
       "    /* Turns off some styling */\n",
       "    progress {\n",
       "        /* gets rid of default border in Firefox and Opera. */\n",
       "        border: none;\n",
       "        /* Needs to be in here for Safari polyfill so background images work as expected. */\n",
       "        background-size: auto;\n",
       "    }\n",
       "    progress:not([value]), progress:not([value])::-webkit-progress-bar {\n",
       "        background: repeating-linear-gradient(45deg, #7e7e7e, #7e7e7e 10px, #5c5c5c 10px, #5c5c5c 20px);\n",
       "    }\n",
       "    .progress-bar-interrupted, .progress-bar-interrupted::-webkit-progress-bar {\n",
       "        background: #F44336;\n",
       "    }\n",
       "</style>\n"
      ],
      "text/plain": [
       "<IPython.core.display.HTML object>"
      ]
     },
     "metadata": {},
     "output_type": "display_data"
    },
    {
     "data": {
      "text/html": [],
      "text/plain": [
       "<IPython.core.display.HTML object>"
      ]
     },
     "metadata": {},
     "output_type": "display_data"
    },
    {
     "name": "stdout",
     "output_type": "stream",
     "text": [
      "Image test5.jpg is iconic.\n",
      "('iconic', 0.67539966) ('symbolic', 0.32460034)\n",
      "\n",
      "\n",
      "#%&%##%&%##%&%##%&%##%&%##%&%##%&%##%&%##%&%##%&%##%&%##%&%##%&%##%&%##%&%#\n",
      "- 6 - 6 - 6 - 6 - 6 - 6 - 6 - 6 - 6 - 6 - 6 - 6 - 6 - 6 - 6 - \n"
     ]
    },
    {
     "data": {
      "text/html": [
       "\n",
       "<style>\n",
       "    /* Turns off some styling */\n",
       "    progress {\n",
       "        /* gets rid of default border in Firefox and Opera. */\n",
       "        border: none;\n",
       "        /* Needs to be in here for Safari polyfill so background images work as expected. */\n",
       "        background-size: auto;\n",
       "    }\n",
       "    progress:not([value]), progress:not([value])::-webkit-progress-bar {\n",
       "        background: repeating-linear-gradient(45deg, #7e7e7e, #7e7e7e 10px, #5c5c5c 10px, #5c5c5c 20px);\n",
       "    }\n",
       "    .progress-bar-interrupted, .progress-bar-interrupted::-webkit-progress-bar {\n",
       "        background: #F44336;\n",
       "    }\n",
       "</style>\n"
      ],
      "text/plain": [
       "<IPython.core.display.HTML object>"
      ]
     },
     "metadata": {},
     "output_type": "display_data"
    },
    {
     "data": {
      "text/html": [],
      "text/plain": [
       "<IPython.core.display.HTML object>"
      ]
     },
     "metadata": {},
     "output_type": "display_data"
    },
    {
     "name": "stdout",
     "output_type": "stream",
     "text": [
      "Image test6.jpg is concrete.\n",
      "('abstract', 0.07832619) ('concrete', 0.92167383)\n"
     ]
    },
    {
     "data": {
      "text/html": [
       "\n",
       "<style>\n",
       "    /* Turns off some styling */\n",
       "    progress {\n",
       "        /* gets rid of default border in Firefox and Opera. */\n",
       "        border: none;\n",
       "        /* Needs to be in here for Safari polyfill so background images work as expected. */\n",
       "        background-size: auto;\n",
       "    }\n",
       "    progress:not([value]), progress:not([value])::-webkit-progress-bar {\n",
       "        background: repeating-linear-gradient(45deg, #7e7e7e, #7e7e7e 10px, #5c5c5c 10px, #5c5c5c 20px);\n",
       "    }\n",
       "    .progress-bar-interrupted, .progress-bar-interrupted::-webkit-progress-bar {\n",
       "        background: #F44336;\n",
       "    }\n",
       "</style>\n"
      ],
      "text/plain": [
       "<IPython.core.display.HTML object>"
      ]
     },
     "metadata": {},
     "output_type": "display_data"
    },
    {
     "data": {
      "text/html": [],
      "text/plain": [
       "<IPython.core.display.HTML object>"
      ]
     },
     "metadata": {},
     "output_type": "display_data"
    },
    {
     "name": "stdout",
     "output_type": "stream",
     "text": [
      "Image test6.jpg is iconic.\n",
      "('iconic', 0.9449741) ('symbolic', 0.055025905)\n",
      "\n",
      "\n",
      "#%&%##%&%##%&%##%&%##%&%##%&%##%&%##%&%##%&%##%&%##%&%##%&%##%&%##%&%##%&%#\n",
      "- 7 - 7 - 7 - 7 - 7 - 7 - 7 - 7 - 7 - 7 - 7 - 7 - 7 - 7 - 7 - \n"
     ]
    },
    {
     "data": {
      "text/html": [
       "\n",
       "<style>\n",
       "    /* Turns off some styling */\n",
       "    progress {\n",
       "        /* gets rid of default border in Firefox and Opera. */\n",
       "        border: none;\n",
       "        /* Needs to be in here for Safari polyfill so background images work as expected. */\n",
       "        background-size: auto;\n",
       "    }\n",
       "    progress:not([value]), progress:not([value])::-webkit-progress-bar {\n",
       "        background: repeating-linear-gradient(45deg, #7e7e7e, #7e7e7e 10px, #5c5c5c 10px, #5c5c5c 20px);\n",
       "    }\n",
       "    .progress-bar-interrupted, .progress-bar-interrupted::-webkit-progress-bar {\n",
       "        background: #F44336;\n",
       "    }\n",
       "</style>\n"
      ],
      "text/plain": [
       "<IPython.core.display.HTML object>"
      ]
     },
     "metadata": {},
     "output_type": "display_data"
    },
    {
     "data": {
      "text/html": [],
      "text/plain": [
       "<IPython.core.display.HTML object>"
      ]
     },
     "metadata": {},
     "output_type": "display_data"
    },
    {
     "name": "stdout",
     "output_type": "stream",
     "text": [
      "Image test7.jpg is concrete.\n",
      "('abstract', 0.0024090882) ('concrete', 0.9975909)\n"
     ]
    },
    {
     "data": {
      "text/html": [
       "\n",
       "<style>\n",
       "    /* Turns off some styling */\n",
       "    progress {\n",
       "        /* gets rid of default border in Firefox and Opera. */\n",
       "        border: none;\n",
       "        /* Needs to be in here for Safari polyfill so background images work as expected. */\n",
       "        background-size: auto;\n",
       "    }\n",
       "    progress:not([value]), progress:not([value])::-webkit-progress-bar {\n",
       "        background: repeating-linear-gradient(45deg, #7e7e7e, #7e7e7e 10px, #5c5c5c 10px, #5c5c5c 20px);\n",
       "    }\n",
       "    .progress-bar-interrupted, .progress-bar-interrupted::-webkit-progress-bar {\n",
       "        background: #F44336;\n",
       "    }\n",
       "</style>\n"
      ],
      "text/plain": [
       "<IPython.core.display.HTML object>"
      ]
     },
     "metadata": {},
     "output_type": "display_data"
    },
    {
     "data": {
      "text/html": [],
      "text/plain": [
       "<IPython.core.display.HTML object>"
      ]
     },
     "metadata": {},
     "output_type": "display_data"
    },
    {
     "name": "stdout",
     "output_type": "stream",
     "text": [
      "Image test7.jpg is symbolic.\n",
      "('iconic', 0.023070486) ('symbolic', 0.9769295)\n",
      "\n",
      "\n",
      "#%&%##%&%##%&%##%&%##%&%##%&%##%&%##%&%##%&%##%&%##%&%##%&%##%&%##%&%##%&%#\n",
      "- 8 - 8 - 8 - 8 - 8 - 8 - 8 - 8 - 8 - 8 - 8 - 8 - 8 - 8 - 8 - \n"
     ]
    },
    {
     "data": {
      "text/html": [
       "\n",
       "<style>\n",
       "    /* Turns off some styling */\n",
       "    progress {\n",
       "        /* gets rid of default border in Firefox and Opera. */\n",
       "        border: none;\n",
       "        /* Needs to be in here for Safari polyfill so background images work as expected. */\n",
       "        background-size: auto;\n",
       "    }\n",
       "    progress:not([value]), progress:not([value])::-webkit-progress-bar {\n",
       "        background: repeating-linear-gradient(45deg, #7e7e7e, #7e7e7e 10px, #5c5c5c 10px, #5c5c5c 20px);\n",
       "    }\n",
       "    .progress-bar-interrupted, .progress-bar-interrupted::-webkit-progress-bar {\n",
       "        background: #F44336;\n",
       "    }\n",
       "</style>\n"
      ],
      "text/plain": [
       "<IPython.core.display.HTML object>"
      ]
     },
     "metadata": {},
     "output_type": "display_data"
    },
    {
     "data": {
      "text/html": [],
      "text/plain": [
       "<IPython.core.display.HTML object>"
      ]
     },
     "metadata": {},
     "output_type": "display_data"
    },
    {
     "name": "stdout",
     "output_type": "stream",
     "text": [
      "Image test8.jpg is concrete.\n",
      "('abstract', 0.01825274) ('concrete', 0.9817472)\n"
     ]
    },
    {
     "data": {
      "text/html": [
       "\n",
       "<style>\n",
       "    /* Turns off some styling */\n",
       "    progress {\n",
       "        /* gets rid of default border in Firefox and Opera. */\n",
       "        border: none;\n",
       "        /* Needs to be in here for Safari polyfill so background images work as expected. */\n",
       "        background-size: auto;\n",
       "    }\n",
       "    progress:not([value]), progress:not([value])::-webkit-progress-bar {\n",
       "        background: repeating-linear-gradient(45deg, #7e7e7e, #7e7e7e 10px, #5c5c5c 10px, #5c5c5c 20px);\n",
       "    }\n",
       "    .progress-bar-interrupted, .progress-bar-interrupted::-webkit-progress-bar {\n",
       "        background: #F44336;\n",
       "    }\n",
       "</style>\n"
      ],
      "text/plain": [
       "<IPython.core.display.HTML object>"
      ]
     },
     "metadata": {},
     "output_type": "display_data"
    },
    {
     "data": {
      "text/html": [],
      "text/plain": [
       "<IPython.core.display.HTML object>"
      ]
     },
     "metadata": {},
     "output_type": "display_data"
    },
    {
     "name": "stdout",
     "output_type": "stream",
     "text": [
      "Image test8.jpg is iconic.\n",
      "('iconic', 0.86826384) ('symbolic', 0.13173616)\n",
      "\n",
      "\n",
      "#%&%##%&%##%&%##%&%##%&%##%&%##%&%##%&%##%&%##%&%##%&%##%&%##%&%##%&%##%&%#\n",
      "- 9 - 9 - 9 - 9 - 9 - 9 - 9 - 9 - 9 - 9 - 9 - 9 - 9 - 9 - 9 - \n"
     ]
    },
    {
     "data": {
      "text/html": [
       "\n",
       "<style>\n",
       "    /* Turns off some styling */\n",
       "    progress {\n",
       "        /* gets rid of default border in Firefox and Opera. */\n",
       "        border: none;\n",
       "        /* Needs to be in here for Safari polyfill so background images work as expected. */\n",
       "        background-size: auto;\n",
       "    }\n",
       "    progress:not([value]), progress:not([value])::-webkit-progress-bar {\n",
       "        background: repeating-linear-gradient(45deg, #7e7e7e, #7e7e7e 10px, #5c5c5c 10px, #5c5c5c 20px);\n",
       "    }\n",
       "    .progress-bar-interrupted, .progress-bar-interrupted::-webkit-progress-bar {\n",
       "        background: #F44336;\n",
       "    }\n",
       "</style>\n"
      ],
      "text/plain": [
       "<IPython.core.display.HTML object>"
      ]
     },
     "metadata": {},
     "output_type": "display_data"
    },
    {
     "data": {
      "text/html": [],
      "text/plain": [
       "<IPython.core.display.HTML object>"
      ]
     },
     "metadata": {},
     "output_type": "display_data"
    },
    {
     "name": "stdout",
     "output_type": "stream",
     "text": [
      "Image test9.jpg is concrete.\n",
      "('abstract', 9.020844e-05) ('concrete', 0.99990976)\n"
     ]
    },
    {
     "data": {
      "text/html": [
       "\n",
       "<style>\n",
       "    /* Turns off some styling */\n",
       "    progress {\n",
       "        /* gets rid of default border in Firefox and Opera. */\n",
       "        border: none;\n",
       "        /* Needs to be in here for Safari polyfill so background images work as expected. */\n",
       "        background-size: auto;\n",
       "    }\n",
       "    progress:not([value]), progress:not([value])::-webkit-progress-bar {\n",
       "        background: repeating-linear-gradient(45deg, #7e7e7e, #7e7e7e 10px, #5c5c5c 10px, #5c5c5c 20px);\n",
       "    }\n",
       "    .progress-bar-interrupted, .progress-bar-interrupted::-webkit-progress-bar {\n",
       "        background: #F44336;\n",
       "    }\n",
       "</style>\n"
      ],
      "text/plain": [
       "<IPython.core.display.HTML object>"
      ]
     },
     "metadata": {},
     "output_type": "display_data"
    },
    {
     "data": {
      "text/html": [],
      "text/plain": [
       "<IPython.core.display.HTML object>"
      ]
     },
     "metadata": {},
     "output_type": "display_data"
    },
    {
     "name": "stdout",
     "output_type": "stream",
     "text": [
      "Image test9.jpg is iconic.\n",
      "('iconic', 0.9993356) ('symbolic', 0.0006643694)\n",
      "['https://static.gettyimages.com/display-sets/creative-landing/images/GettyImages-2131911406.jpg', 'https://static.gettyimages.com/display-sets/creative-landing/images/GettyImages-1995304390.jpg', 'https://static.gettyimages.com/display-sets/creative-landing/images/GettyImages-2086233684.jpg', 'https://static.gettyimages.com/display-sets/creative-landing/images/GettyImages-1820574038.jpg', 'https://static.gettyimages.com/display-sets/creative-landing/images/GettyImages-2112002315.jpg', 'https://static.gettyimages.com/display-sets/creative-landing/images/GettyImages-1939317654.jpg', 'https://static.gettyimages.com/display-sets/creative-landing/images/GettyImages-2116292040.jpg', 'https://static.gettyimages.com/display-sets/creative-landing/images/GettyImages-1859049658.jpg', 'https://static.gettyimages.com/display-sets/creative-landing/images/GettyImages-2043042354.jpg', 'https://static.gettyimages.com/display-sets/creative-landing/images/GettyImages-2039536981.jpg', 'https://static.gettyimages.com/display-sets/creative-landing/images/GettyImages-1850113646.jpg', 'https://static.gettyimages.com/display-sets/creative-landing/images/GettyImages-2009624301.jpg', 'https://static.gettyimages.com/display-sets/creative-landing/images/GettyImages-2101683364.jpg', 'https://static.gettyimages.com/display-sets/creative-landing/images/GettyImages-1992890382.jpg', 'https://static.gettyimages.com/display-sets/creative-landing/images/GettyImages-1679740778.jpg', 'https://static.gettyimages.com/display-sets/creative-landing/images/GettyImages-1860589317.jpg', 'https://static.gettyimages.com/display-sets/creative-landing/images/GettyImages-1304783400.jpg', 'https://static.gettyimages.com/display-sets/creative-landing/images/GettyImages-1393755062.jpg', 'https://static.gettyimages.com/display-sets/creative-landing/images/GettyImages-1960914287.jpg', 'https://static.gettyimages.com/display-sets/creative-landing/images/GettyImages-2031835947.jpg', 'https://static.gettyimages.com/display-sets/creative-landing/images/GettyImages-2050786702.jpg', 'https://static.gettyimages.com/display-sets/creative-landing/images/GettyImages-1694035096.jpg', 'https://static.gettyimages.com/display-sets/creative-landing/images/GettyImages-1711839971.jpg', 'https://static.gettyimages.com/display-sets/creative-landing/images/GettyImages-1988636956.jpg', 'https://static.gettyimages.com/display-sets/creative-landing/images/GettyImages-2015585487.jpg', 'https://static.gettyimages.com/display-sets/creative-landing/images/GettyImages-1448734171.jpg', 'https://static.gettyimages.com/display-sets/creative-landing/images/GettyImages-1369119153.jpg', 'https://static.gettyimages.com/display-sets/creative-landing/images/GettyImages-2022350754.jpg', 'https://static.gettyimages.com/display-sets/creative-landing/images/GettyImages-1941901326.jpg', 'https://static.gettyimages.com/display-sets/creative-landing/images/GettyImages-1907862843.jpg', 'https://static.gettyimages.com/display-sets/creative-landing/images/GettyImages-1960868890.jpg', 'https://static.gettyimages.com/display-sets/creative-landing/images/GettyImages-1757252335.jpg', 'https://static.gettyimages.com/display-sets/creative-landing/images/GettyImages-1887887112.jpg', 'https://static.gettyimages.com/display-sets/creative-landing/images/GettyImages-1411160666.jpg', 'https://static.gettyimages.com/display-sets/creative-landing/images/GettyImages-1434721875.jpg', 'https://static.gettyimages.com/display-sets/creative-landing/images/GettyImages-1948262747.jpg', 'https://static.gettyimages.com/display-sets/creative-landing/images/GettyImages-1769797142.jpg', 'https://static.gettyimages.com/display-sets/creative-landing/images/GettyImages-1590916844.jpg', 'https://static.gettyimages.com/display-sets/creative-landing/images/GettyImages-1768691458.jpg', 'https://static.gettyimages.com/display-sets/creative-landing/images/GettyImages-1305309578.jpg', 'https://static.gettyimages.com/display-sets/creative-landing/images/GettyImages-1955240006.jpg', 'https://static.gettyimages.com/display-sets/creative-landing/images/GettyImages-1833644650.jpg', 'https://static.gettyimages.com/display-sets/creative-landing/images/GettyImages-1441548860.jpg', 'https://static.gettyimages.com/display-sets/creative-landing/images/GettyImages-1453636602.jpg', 'https://static.gettyimages.com/display-sets/creative-landing/images/GettyImages-1939203504.jpg', 'https://static.gettyimages.com/display-sets/creative-landing/images/GettyImages-1498694392.jpg', 'https://static.gettyimages.com/display-sets/creative-landing/images/GettyImages-1562926350.jpg', 'https://static.gettyimages.com/display-sets/creative-landing/images/GettyImages-1926074362.jpg', 'https://static.gettyimages.com/display-sets/creative-landing/images/GettyImages-1902476555.jpg', 'https://static.gettyimages.com/display-sets/creative-landing/images/GettyImages-1468223506.jpg', 'https://static.gettyimages.com/display-sets/creative-landing/images/GettyImages-1724600113.jpg', 'https://static.gettyimages.com/display-sets/creative-landing/images/GettyImages-1807510851.jpg', 'https://static.gettyimages.com/display-sets/creative-landing/images/GettyImages-1812244974.jpg', 'https://static.gettyimages.com/display-sets/creative-landing/images/GettyImages-1710200569.jpg', 'https://static.gettyimages.com/display-sets/creative-landing/images/GettyImages-1942933509.jpg', 'https://static.gettyimages.com/display-sets/creative-landing/images/GettyImages-1978616599.jpg', 'https://static.gettyimages.com/display-sets/creative-landing/images/GettyImages-1916864037.jpg', 'https://static.gettyimages.com/display-sets/creative-landing/carousel/HPCarousel_VisGPSReportGTM-desktop.jpg', 'https://static.gettyimages.com/display-sets/creative-landing/carousel/86dt5r77a_HPCarousel_April-desktop.jpg', 'https://static.gettyimages.com/display-sets/creative-landing/carousel/86dragr76-HPCarousel-GenAI-desktop.jpg', 'https://static.gettyimages.com/display-sets/creative-landing/carousel/HPCarousel_VisGPSReportGTM-desktop.jpg', 'https://static.gettyimages.com/display-sets/creative-landing/carousel/86dt5r77a_HPCarousel_April-desktop.jpg', 'https://static.gettyimages.com/display-sets/creative-landing/carousel/86dragr76-HPCarousel-GenAI-desktop.jpg', 'https://static.gettyimages.com/display-sets/creative-landing/carousel/HPCarousel_VisGPSReportGTM-desktop.jpg', 'https://static.gettyimages.com/display-sets/creative-landing/carousel/86dt5r77a_HPCarousel_April-desktop.jpg', 'https://static.gettyimages.com/display-sets/creative-landing/carousel/86dragr76-HPCarousel-GenAI-desktop.jpg']\n",
      "ajmo00oooooo!\n",
      "//////////////// GOOGLENET_3X ////////////////\n",
      "\n",
      "\n",
      "#%&%##%&%##%&%##%&%##%&%##%&%##%&%##%&%##%&%##%&%##%&%##%&%##%&%##%&%##%&%#\n",
      "- 1 - 1 - 1 - 1 - 1 - 1 - 1 - 1 - 1 - 1 - 1 - 1 - 1 - 1 - 1 - \n"
     ]
    },
    {
     "data": {
      "text/html": [
       "\n",
       "<style>\n",
       "    /* Turns off some styling */\n",
       "    progress {\n",
       "        /* gets rid of default border in Firefox and Opera. */\n",
       "        border: none;\n",
       "        /* Needs to be in here for Safari polyfill so background images work as expected. */\n",
       "        background-size: auto;\n",
       "    }\n",
       "    progress:not([value]), progress:not([value])::-webkit-progress-bar {\n",
       "        background: repeating-linear-gradient(45deg, #7e7e7e, #7e7e7e 10px, #5c5c5c 10px, #5c5c5c 20px);\n",
       "    }\n",
       "    .progress-bar-interrupted, .progress-bar-interrupted::-webkit-progress-bar {\n",
       "        background: #F44336;\n",
       "    }\n",
       "</style>\n"
      ],
      "text/plain": [
       "<IPython.core.display.HTML object>"
      ]
     },
     "metadata": {},
     "output_type": "display_data"
    },
    {
     "data": {
      "text/html": [],
      "text/plain": [
       "<IPython.core.display.HTML object>"
      ]
     },
     "metadata": {},
     "output_type": "display_data"
    },
    {
     "name": "stdout",
     "output_type": "stream",
     "text": [
      "Image test1.jpg is concrete.\n",
      "('abstract', 0.088895686) ('concrete', 0.91110426)\n"
     ]
    },
    {
     "data": {
      "text/html": [
       "\n",
       "<style>\n",
       "    /* Turns off some styling */\n",
       "    progress {\n",
       "        /* gets rid of default border in Firefox and Opera. */\n",
       "        border: none;\n",
       "        /* Needs to be in here for Safari polyfill so background images work as expected. */\n",
       "        background-size: auto;\n",
       "    }\n",
       "    progress:not([value]), progress:not([value])::-webkit-progress-bar {\n",
       "        background: repeating-linear-gradient(45deg, #7e7e7e, #7e7e7e 10px, #5c5c5c 10px, #5c5c5c 20px);\n",
       "    }\n",
       "    .progress-bar-interrupted, .progress-bar-interrupted::-webkit-progress-bar {\n",
       "        background: #F44336;\n",
       "    }\n",
       "</style>\n"
      ],
      "text/plain": [
       "<IPython.core.display.HTML object>"
      ]
     },
     "metadata": {},
     "output_type": "display_data"
    },
    {
     "data": {
      "text/html": [],
      "text/plain": [
       "<IPython.core.display.HTML object>"
      ]
     },
     "metadata": {},
     "output_type": "display_data"
    },
    {
     "name": "stdout",
     "output_type": "stream",
     "text": [
      "Image test1.jpg is iconic.\n",
      "('iconic', 0.97305876) ('symbolic', 0.026941255)\n",
      "\n",
      "\n",
      "#%&%##%&%##%&%##%&%##%&%##%&%##%&%##%&%##%&%##%&%##%&%##%&%##%&%##%&%##%&%#\n",
      "- 2 - 2 - 2 - 2 - 2 - 2 - 2 - 2 - 2 - 2 - 2 - 2 - 2 - 2 - 2 - \n"
     ]
    },
    {
     "data": {
      "text/html": [
       "\n",
       "<style>\n",
       "    /* Turns off some styling */\n",
       "    progress {\n",
       "        /* gets rid of default border in Firefox and Opera. */\n",
       "        border: none;\n",
       "        /* Needs to be in here for Safari polyfill so background images work as expected. */\n",
       "        background-size: auto;\n",
       "    }\n",
       "    progress:not([value]), progress:not([value])::-webkit-progress-bar {\n",
       "        background: repeating-linear-gradient(45deg, #7e7e7e, #7e7e7e 10px, #5c5c5c 10px, #5c5c5c 20px);\n",
       "    }\n",
       "    .progress-bar-interrupted, .progress-bar-interrupted::-webkit-progress-bar {\n",
       "        background: #F44336;\n",
       "    }\n",
       "</style>\n"
      ],
      "text/plain": [
       "<IPython.core.display.HTML object>"
      ]
     },
     "metadata": {},
     "output_type": "display_data"
    },
    {
     "data": {
      "text/html": [],
      "text/plain": [
       "<IPython.core.display.HTML object>"
      ]
     },
     "metadata": {},
     "output_type": "display_data"
    },
    {
     "name": "stdout",
     "output_type": "stream",
     "text": [
      "Image test2.jpg is concrete.\n",
      "('abstract', 0.0002201485) ('concrete', 0.9997799)\n"
     ]
    },
    {
     "data": {
      "text/html": [
       "\n",
       "<style>\n",
       "    /* Turns off some styling */\n",
       "    progress {\n",
       "        /* gets rid of default border in Firefox and Opera. */\n",
       "        border: none;\n",
       "        /* Needs to be in here for Safari polyfill so background images work as expected. */\n",
       "        background-size: auto;\n",
       "    }\n",
       "    progress:not([value]), progress:not([value])::-webkit-progress-bar {\n",
       "        background: repeating-linear-gradient(45deg, #7e7e7e, #7e7e7e 10px, #5c5c5c 10px, #5c5c5c 20px);\n",
       "    }\n",
       "    .progress-bar-interrupted, .progress-bar-interrupted::-webkit-progress-bar {\n",
       "        background: #F44336;\n",
       "    }\n",
       "</style>\n"
      ],
      "text/plain": [
       "<IPython.core.display.HTML object>"
      ]
     },
     "metadata": {},
     "output_type": "display_data"
    },
    {
     "data": {
      "text/html": [],
      "text/plain": [
       "<IPython.core.display.HTML object>"
      ]
     },
     "metadata": {},
     "output_type": "display_data"
    },
    {
     "name": "stdout",
     "output_type": "stream",
     "text": [
      "Image test2.jpg is symbolic.\n",
      "('iconic', 0.4453152) ('symbolic', 0.5546848)\n",
      "\n",
      "\n",
      "#%&%##%&%##%&%##%&%##%&%##%&%##%&%##%&%##%&%##%&%##%&%##%&%##%&%##%&%##%&%#\n",
      "- 3 - 3 - 3 - 3 - 3 - 3 - 3 - 3 - 3 - 3 - 3 - 3 - 3 - 3 - 3 - \n"
     ]
    },
    {
     "data": {
      "text/html": [
       "\n",
       "<style>\n",
       "    /* Turns off some styling */\n",
       "    progress {\n",
       "        /* gets rid of default border in Firefox and Opera. */\n",
       "        border: none;\n",
       "        /* Needs to be in here for Safari polyfill so background images work as expected. */\n",
       "        background-size: auto;\n",
       "    }\n",
       "    progress:not([value]), progress:not([value])::-webkit-progress-bar {\n",
       "        background: repeating-linear-gradient(45deg, #7e7e7e, #7e7e7e 10px, #5c5c5c 10px, #5c5c5c 20px);\n",
       "    }\n",
       "    .progress-bar-interrupted, .progress-bar-interrupted::-webkit-progress-bar {\n",
       "        background: #F44336;\n",
       "    }\n",
       "</style>\n"
      ],
      "text/plain": [
       "<IPython.core.display.HTML object>"
      ]
     },
     "metadata": {},
     "output_type": "display_data"
    },
    {
     "data": {
      "text/html": [],
      "text/plain": [
       "<IPython.core.display.HTML object>"
      ]
     },
     "metadata": {},
     "output_type": "display_data"
    },
    {
     "name": "stdout",
     "output_type": "stream",
     "text": [
      "Image test3.jpg is concrete.\n",
      "('abstract', 3.4017202e-07) ('concrete', 0.99999964)\n"
     ]
    },
    {
     "data": {
      "text/html": [
       "\n",
       "<style>\n",
       "    /* Turns off some styling */\n",
       "    progress {\n",
       "        /* gets rid of default border in Firefox and Opera. */\n",
       "        border: none;\n",
       "        /* Needs to be in here for Safari polyfill so background images work as expected. */\n",
       "        background-size: auto;\n",
       "    }\n",
       "    progress:not([value]), progress:not([value])::-webkit-progress-bar {\n",
       "        background: repeating-linear-gradient(45deg, #7e7e7e, #7e7e7e 10px, #5c5c5c 10px, #5c5c5c 20px);\n",
       "    }\n",
       "    .progress-bar-interrupted, .progress-bar-interrupted::-webkit-progress-bar {\n",
       "        background: #F44336;\n",
       "    }\n",
       "</style>\n"
      ],
      "text/plain": [
       "<IPython.core.display.HTML object>"
      ]
     },
     "metadata": {},
     "output_type": "display_data"
    },
    {
     "data": {
      "text/html": [],
      "text/plain": [
       "<IPython.core.display.HTML object>"
      ]
     },
     "metadata": {},
     "output_type": "display_data"
    },
    {
     "name": "stdout",
     "output_type": "stream",
     "text": [
      "Image test3.jpg is symbolic.\n",
      "('iconic', 0.044640638) ('symbolic', 0.95535934)\n",
      "\n",
      "\n",
      "#%&%##%&%##%&%##%&%##%&%##%&%##%&%##%&%##%&%##%&%##%&%##%&%##%&%##%&%##%&%#\n",
      "- 4 - 4 - 4 - 4 - 4 - 4 - 4 - 4 - 4 - 4 - 4 - 4 - 4 - 4 - 4 - \n"
     ]
    },
    {
     "data": {
      "text/html": [
       "\n",
       "<style>\n",
       "    /* Turns off some styling */\n",
       "    progress {\n",
       "        /* gets rid of default border in Firefox and Opera. */\n",
       "        border: none;\n",
       "        /* Needs to be in here for Safari polyfill so background images work as expected. */\n",
       "        background-size: auto;\n",
       "    }\n",
       "    progress:not([value]), progress:not([value])::-webkit-progress-bar {\n",
       "        background: repeating-linear-gradient(45deg, #7e7e7e, #7e7e7e 10px, #5c5c5c 10px, #5c5c5c 20px);\n",
       "    }\n",
       "    .progress-bar-interrupted, .progress-bar-interrupted::-webkit-progress-bar {\n",
       "        background: #F44336;\n",
       "    }\n",
       "</style>\n"
      ],
      "text/plain": [
       "<IPython.core.display.HTML object>"
      ]
     },
     "metadata": {},
     "output_type": "display_data"
    },
    {
     "data": {
      "text/html": [],
      "text/plain": [
       "<IPython.core.display.HTML object>"
      ]
     },
     "metadata": {},
     "output_type": "display_data"
    },
    {
     "name": "stdout",
     "output_type": "stream",
     "text": [
      "Image test4.jpg is concrete.\n",
      "('abstract', 0.17176294) ('concrete', 0.828237)\n"
     ]
    },
    {
     "data": {
      "text/html": [
       "\n",
       "<style>\n",
       "    /* Turns off some styling */\n",
       "    progress {\n",
       "        /* gets rid of default border in Firefox and Opera. */\n",
       "        border: none;\n",
       "        /* Needs to be in here for Safari polyfill so background images work as expected. */\n",
       "        background-size: auto;\n",
       "    }\n",
       "    progress:not([value]), progress:not([value])::-webkit-progress-bar {\n",
       "        background: repeating-linear-gradient(45deg, #7e7e7e, #7e7e7e 10px, #5c5c5c 10px, #5c5c5c 20px);\n",
       "    }\n",
       "    .progress-bar-interrupted, .progress-bar-interrupted::-webkit-progress-bar {\n",
       "        background: #F44336;\n",
       "    }\n",
       "</style>\n"
      ],
      "text/plain": [
       "<IPython.core.display.HTML object>"
      ]
     },
     "metadata": {},
     "output_type": "display_data"
    },
    {
     "data": {
      "text/html": [],
      "text/plain": [
       "<IPython.core.display.HTML object>"
      ]
     },
     "metadata": {},
     "output_type": "display_data"
    },
    {
     "name": "stdout",
     "output_type": "stream",
     "text": [
      "Image test4.jpg is symbolic.\n",
      "('iconic', 0.45140982) ('symbolic', 0.5485901)\n",
      "\n",
      "\n",
      "#%&%##%&%##%&%##%&%##%&%##%&%##%&%##%&%##%&%##%&%##%&%##%&%##%&%##%&%##%&%#\n",
      "- 5 - 5 - 5 - 5 - 5 - 5 - 5 - 5 - 5 - 5 - 5 - 5 - 5 - 5 - 5 - \n"
     ]
    },
    {
     "data": {
      "text/html": [
       "\n",
       "<style>\n",
       "    /* Turns off some styling */\n",
       "    progress {\n",
       "        /* gets rid of default border in Firefox and Opera. */\n",
       "        border: none;\n",
       "        /* Needs to be in here for Safari polyfill so background images work as expected. */\n",
       "        background-size: auto;\n",
       "    }\n",
       "    progress:not([value]), progress:not([value])::-webkit-progress-bar {\n",
       "        background: repeating-linear-gradient(45deg, #7e7e7e, #7e7e7e 10px, #5c5c5c 10px, #5c5c5c 20px);\n",
       "    }\n",
       "    .progress-bar-interrupted, .progress-bar-interrupted::-webkit-progress-bar {\n",
       "        background: #F44336;\n",
       "    }\n",
       "</style>\n"
      ],
      "text/plain": [
       "<IPython.core.display.HTML object>"
      ]
     },
     "metadata": {},
     "output_type": "display_data"
    },
    {
     "data": {
      "text/html": [],
      "text/plain": [
       "<IPython.core.display.HTML object>"
      ]
     },
     "metadata": {},
     "output_type": "display_data"
    },
    {
     "name": "stdout",
     "output_type": "stream",
     "text": [
      "Image test5.jpg is abstract.\n",
      "('abstract', 0.99691063) ('concrete', 0.00308936)\n"
     ]
    },
    {
     "data": {
      "text/html": [
       "\n",
       "<style>\n",
       "    /* Turns off some styling */\n",
       "    progress {\n",
       "        /* gets rid of default border in Firefox and Opera. */\n",
       "        border: none;\n",
       "        /* Needs to be in here for Safari polyfill so background images work as expected. */\n",
       "        background-size: auto;\n",
       "    }\n",
       "    progress:not([value]), progress:not([value])::-webkit-progress-bar {\n",
       "        background: repeating-linear-gradient(45deg, #7e7e7e, #7e7e7e 10px, #5c5c5c 10px, #5c5c5c 20px);\n",
       "    }\n",
       "    .progress-bar-interrupted, .progress-bar-interrupted::-webkit-progress-bar {\n",
       "        background: #F44336;\n",
       "    }\n",
       "</style>\n"
      ],
      "text/plain": [
       "<IPython.core.display.HTML object>"
      ]
     },
     "metadata": {},
     "output_type": "display_data"
    },
    {
     "data": {
      "text/html": [],
      "text/plain": [
       "<IPython.core.display.HTML object>"
      ]
     },
     "metadata": {},
     "output_type": "display_data"
    },
    {
     "name": "stdout",
     "output_type": "stream",
     "text": [
      "Image test5.jpg is iconic.\n",
      "('iconic', 0.78885156) ('symbolic', 0.21114844)\n",
      "\n",
      "\n",
      "#%&%##%&%##%&%##%&%##%&%##%&%##%&%##%&%##%&%##%&%##%&%##%&%##%&%##%&%##%&%#\n",
      "- 6 - 6 - 6 - 6 - 6 - 6 - 6 - 6 - 6 - 6 - 6 - 6 - 6 - 6 - 6 - \n"
     ]
    },
    {
     "data": {
      "text/html": [
       "\n",
       "<style>\n",
       "    /* Turns off some styling */\n",
       "    progress {\n",
       "        /* gets rid of default border in Firefox and Opera. */\n",
       "        border: none;\n",
       "        /* Needs to be in here for Safari polyfill so background images work as expected. */\n",
       "        background-size: auto;\n",
       "    }\n",
       "    progress:not([value]), progress:not([value])::-webkit-progress-bar {\n",
       "        background: repeating-linear-gradient(45deg, #7e7e7e, #7e7e7e 10px, #5c5c5c 10px, #5c5c5c 20px);\n",
       "    }\n",
       "    .progress-bar-interrupted, .progress-bar-interrupted::-webkit-progress-bar {\n",
       "        background: #F44336;\n",
       "    }\n",
       "</style>\n"
      ],
      "text/plain": [
       "<IPython.core.display.HTML object>"
      ]
     },
     "metadata": {},
     "output_type": "display_data"
    },
    {
     "data": {
      "text/html": [],
      "text/plain": [
       "<IPython.core.display.HTML object>"
      ]
     },
     "metadata": {},
     "output_type": "display_data"
    },
    {
     "name": "stdout",
     "output_type": "stream",
     "text": [
      "Image test6.jpg is abstract.\n",
      "('abstract', 0.91060597) ('concrete', 0.089393966)\n"
     ]
    },
    {
     "data": {
      "text/html": [
       "\n",
       "<style>\n",
       "    /* Turns off some styling */\n",
       "    progress {\n",
       "        /* gets rid of default border in Firefox and Opera. */\n",
       "        border: none;\n",
       "        /* Needs to be in here for Safari polyfill so background images work as expected. */\n",
       "        background-size: auto;\n",
       "    }\n",
       "    progress:not([value]), progress:not([value])::-webkit-progress-bar {\n",
       "        background: repeating-linear-gradient(45deg, #7e7e7e, #7e7e7e 10px, #5c5c5c 10px, #5c5c5c 20px);\n",
       "    }\n",
       "    .progress-bar-interrupted, .progress-bar-interrupted::-webkit-progress-bar {\n",
       "        background: #F44336;\n",
       "    }\n",
       "</style>\n"
      ],
      "text/plain": [
       "<IPython.core.display.HTML object>"
      ]
     },
     "metadata": {},
     "output_type": "display_data"
    },
    {
     "data": {
      "text/html": [],
      "text/plain": [
       "<IPython.core.display.HTML object>"
      ]
     },
     "metadata": {},
     "output_type": "display_data"
    },
    {
     "name": "stdout",
     "output_type": "stream",
     "text": [
      "Image test6.jpg is iconic.\n",
      "('iconic', 0.8672081) ('symbolic', 0.13279189)\n",
      "\n",
      "\n",
      "#%&%##%&%##%&%##%&%##%&%##%&%##%&%##%&%##%&%##%&%##%&%##%&%##%&%##%&%##%&%#\n",
      "- 7 - 7 - 7 - 7 - 7 - 7 - 7 - 7 - 7 - 7 - 7 - 7 - 7 - 7 - 7 - \n"
     ]
    },
    {
     "data": {
      "text/html": [
       "\n",
       "<style>\n",
       "    /* Turns off some styling */\n",
       "    progress {\n",
       "        /* gets rid of default border in Firefox and Opera. */\n",
       "        border: none;\n",
       "        /* Needs to be in here for Safari polyfill so background images work as expected. */\n",
       "        background-size: auto;\n",
       "    }\n",
       "    progress:not([value]), progress:not([value])::-webkit-progress-bar {\n",
       "        background: repeating-linear-gradient(45deg, #7e7e7e, #7e7e7e 10px, #5c5c5c 10px, #5c5c5c 20px);\n",
       "    }\n",
       "    .progress-bar-interrupted, .progress-bar-interrupted::-webkit-progress-bar {\n",
       "        background: #F44336;\n",
       "    }\n",
       "</style>\n"
      ],
      "text/plain": [
       "<IPython.core.display.HTML object>"
      ]
     },
     "metadata": {},
     "output_type": "display_data"
    },
    {
     "data": {
      "text/html": [],
      "text/plain": [
       "<IPython.core.display.HTML object>"
      ]
     },
     "metadata": {},
     "output_type": "display_data"
    },
    {
     "name": "stdout",
     "output_type": "stream",
     "text": [
      "Image test7.jpg is concrete.\n",
      "('abstract', 0.00094262) ('concrete', 0.99905735)\n"
     ]
    },
    {
     "data": {
      "text/html": [
       "\n",
       "<style>\n",
       "    /* Turns off some styling */\n",
       "    progress {\n",
       "        /* gets rid of default border in Firefox and Opera. */\n",
       "        border: none;\n",
       "        /* Needs to be in here for Safari polyfill so background images work as expected. */\n",
       "        background-size: auto;\n",
       "    }\n",
       "    progress:not([value]), progress:not([value])::-webkit-progress-bar {\n",
       "        background: repeating-linear-gradient(45deg, #7e7e7e, #7e7e7e 10px, #5c5c5c 10px, #5c5c5c 20px);\n",
       "    }\n",
       "    .progress-bar-interrupted, .progress-bar-interrupted::-webkit-progress-bar {\n",
       "        background: #F44336;\n",
       "    }\n",
       "</style>\n"
      ],
      "text/plain": [
       "<IPython.core.display.HTML object>"
      ]
     },
     "metadata": {},
     "output_type": "display_data"
    },
    {
     "data": {
      "text/html": [],
      "text/plain": [
       "<IPython.core.display.HTML object>"
      ]
     },
     "metadata": {},
     "output_type": "display_data"
    },
    {
     "name": "stdout",
     "output_type": "stream",
     "text": [
      "Image test7.jpg is symbolic.\n",
      "('iconic', 0.016993513) ('symbolic', 0.98300654)\n",
      "\n",
      "\n",
      "#%&%##%&%##%&%##%&%##%&%##%&%##%&%##%&%##%&%##%&%##%&%##%&%##%&%##%&%##%&%#\n",
      "- 8 - 8 - 8 - 8 - 8 - 8 - 8 - 8 - 8 - 8 - 8 - 8 - 8 - 8 - 8 - \n"
     ]
    },
    {
     "data": {
      "text/html": [
       "\n",
       "<style>\n",
       "    /* Turns off some styling */\n",
       "    progress {\n",
       "        /* gets rid of default border in Firefox and Opera. */\n",
       "        border: none;\n",
       "        /* Needs to be in here for Safari polyfill so background images work as expected. */\n",
       "        background-size: auto;\n",
       "    }\n",
       "    progress:not([value]), progress:not([value])::-webkit-progress-bar {\n",
       "        background: repeating-linear-gradient(45deg, #7e7e7e, #7e7e7e 10px, #5c5c5c 10px, #5c5c5c 20px);\n",
       "    }\n",
       "    .progress-bar-interrupted, .progress-bar-interrupted::-webkit-progress-bar {\n",
       "        background: #F44336;\n",
       "    }\n",
       "</style>\n"
      ],
      "text/plain": [
       "<IPython.core.display.HTML object>"
      ]
     },
     "metadata": {},
     "output_type": "display_data"
    },
    {
     "data": {
      "text/html": [],
      "text/plain": [
       "<IPython.core.display.HTML object>"
      ]
     },
     "metadata": {},
     "output_type": "display_data"
    },
    {
     "name": "stdout",
     "output_type": "stream",
     "text": [
      "Image test8.jpg is concrete.\n",
      "('abstract', 0.0003690807) ('concrete', 0.9996309)\n"
     ]
    },
    {
     "data": {
      "text/html": [
       "\n",
       "<style>\n",
       "    /* Turns off some styling */\n",
       "    progress {\n",
       "        /* gets rid of default border in Firefox and Opera. */\n",
       "        border: none;\n",
       "        /* Needs to be in here for Safari polyfill so background images work as expected. */\n",
       "        background-size: auto;\n",
       "    }\n",
       "    progress:not([value]), progress:not([value])::-webkit-progress-bar {\n",
       "        background: repeating-linear-gradient(45deg, #7e7e7e, #7e7e7e 10px, #5c5c5c 10px, #5c5c5c 20px);\n",
       "    }\n",
       "    .progress-bar-interrupted, .progress-bar-interrupted::-webkit-progress-bar {\n",
       "        background: #F44336;\n",
       "    }\n",
       "</style>\n"
      ],
      "text/plain": [
       "<IPython.core.display.HTML object>"
      ]
     },
     "metadata": {},
     "output_type": "display_data"
    },
    {
     "data": {
      "text/html": [],
      "text/plain": [
       "<IPython.core.display.HTML object>"
      ]
     },
     "metadata": {},
     "output_type": "display_data"
    },
    {
     "name": "stdout",
     "output_type": "stream",
     "text": [
      "Image test8.jpg is iconic.\n",
      "('iconic', 0.71350574) ('symbolic', 0.28649423)\n",
      "\n",
      "\n",
      "#%&%##%&%##%&%##%&%##%&%##%&%##%&%##%&%##%&%##%&%##%&%##%&%##%&%##%&%##%&%#\n",
      "- 9 - 9 - 9 - 9 - 9 - 9 - 9 - 9 - 9 - 9 - 9 - 9 - 9 - 9 - 9 - \n"
     ]
    },
    {
     "data": {
      "text/html": [
       "\n",
       "<style>\n",
       "    /* Turns off some styling */\n",
       "    progress {\n",
       "        /* gets rid of default border in Firefox and Opera. */\n",
       "        border: none;\n",
       "        /* Needs to be in here for Safari polyfill so background images work as expected. */\n",
       "        background-size: auto;\n",
       "    }\n",
       "    progress:not([value]), progress:not([value])::-webkit-progress-bar {\n",
       "        background: repeating-linear-gradient(45deg, #7e7e7e, #7e7e7e 10px, #5c5c5c 10px, #5c5c5c 20px);\n",
       "    }\n",
       "    .progress-bar-interrupted, .progress-bar-interrupted::-webkit-progress-bar {\n",
       "        background: #F44336;\n",
       "    }\n",
       "</style>\n"
      ],
      "text/plain": [
       "<IPython.core.display.HTML object>"
      ]
     },
     "metadata": {},
     "output_type": "display_data"
    },
    {
     "data": {
      "text/html": [],
      "text/plain": [
       "<IPython.core.display.HTML object>"
      ]
     },
     "metadata": {},
     "output_type": "display_data"
    },
    {
     "name": "stdout",
     "output_type": "stream",
     "text": [
      "Image test9.jpg is abstract.\n",
      "('abstract', 0.999995) ('concrete', 5.060215e-06)\n"
     ]
    },
    {
     "data": {
      "text/html": [
       "\n",
       "<style>\n",
       "    /* Turns off some styling */\n",
       "    progress {\n",
       "        /* gets rid of default border in Firefox and Opera. */\n",
       "        border: none;\n",
       "        /* Needs to be in here for Safari polyfill so background images work as expected. */\n",
       "        background-size: auto;\n",
       "    }\n",
       "    progress:not([value]), progress:not([value])::-webkit-progress-bar {\n",
       "        background: repeating-linear-gradient(45deg, #7e7e7e, #7e7e7e 10px, #5c5c5c 10px, #5c5c5c 20px);\n",
       "    }\n",
       "    .progress-bar-interrupted, .progress-bar-interrupted::-webkit-progress-bar {\n",
       "        background: #F44336;\n",
       "    }\n",
       "</style>\n"
      ],
      "text/plain": [
       "<IPython.core.display.HTML object>"
      ]
     },
     "metadata": {},
     "output_type": "display_data"
    },
    {
     "data": {
      "text/html": [],
      "text/plain": [
       "<IPython.core.display.HTML object>"
      ]
     },
     "metadata": {},
     "output_type": "display_data"
    },
    {
     "name": "stdout",
     "output_type": "stream",
     "text": [
      "Image test9.jpg is symbolic.\n",
      "('iconic', 0.23651478) ('symbolic', 0.76348525)\n"
     ]
    }
   ],
   "source": [
    "from utils.downloader import page_scraper\n",
    "from utils.tester import test_learners\n",
    "\n",
    "# \"https://aiartists.org/generative-art-design\"\n",
    "# \"https://unsplash.com\"\n",
    "# \"https://www.metmuseum.org/art/collection/search?showOnly=openAccess\"\n",
    "# \"https://www.gettyimages.com\"\n",
    "\n",
    "internet = [\n",
    "    *page_scraper(\"https://www.gettyimages.com\"),\n",
    "]\n",
    "\n",
    "# \"https://tse2.mm.bing.net/th?id=OIP.UPZ1-G8gpc5FkNIC2RCWSgHaFj&pid=Api\",\n",
    "# \"https://tse2.mm.bing.net/th?id=OIP.if_cidFAKZ49wY7BLA3feQHaGE&pid=Api\",\n",
    "# \"https://tse4.mm.bing.net/th?id=OIP.Px4ySbgcqEgFJOhOq8k5mAHaEo&pid=Api\",\n",
    "# \"https://tse4.mm.bing.net/th?id=OIP.eNfpYf9Oqyh0u3_b1Eu20wHaGL&pid=Api\",\n",
    "# \"https://tse3.mm.bing.net/th?id=OIP.NEkbbYyu56hdqekgPKxmoQAAAA&pid=Api\",\n",
    "# \"https://tse3.mm.bing.net/th?id=OIF.jw1Qziy4XGJbDtTYtrBY3Q&pid=Api\",\n",
    "# \"https://tse2.mm.bing.net/th?id=OIP.pJwVOqij6rPFrOjcHc1jbAHaKj&pid=Api\",\n",
    "# \"https://tse1.mm.bing.net/th?id=OIP.-Hy08hdnnfvCwor0Y_fyGAHaLA&pid=Api\",\n",
    "# \"https://tse4.mm.bing.net/th?id=OIP.mUVhO-Zld2qEJKe_r9tJaAHaHn&pid=Api\",\n",
    "# \"https://tse2.mm.bing.net/th?id=OIP.DqjuCxnocoFQ0hvIH_Cm8wHaEK&pid=Api\",\n",
    "# \"https://tse1.mm.bing.net/th?id=OIP.EFoByYTKu1KbZgoVfocCDAHaFU&pid=Api\",\n",
    "# \"https://tse2.mm.bing.net/th?id=OIP.BFRcQqZ5Bpw1a-6u_XoBrwHaFj&pid=Api\",\n",
    "# \"https://tse2.mm.bing.net/th?id=OIP.2qqjQQ0wW37Lbvkx50zPxgHaEB&pid=Api\"\n",
    "\n",
    "for model_name, testee in testees.items():\n",
    "    test_learners(testee, test_set=internet, model_name=model_name, root=root/\"artefacts\", preview=False)"
   ]
  },
  {
   "cell_type": "code",
   "execution_count": null,
   "metadata": {},
   "outputs": [],
   "source": [
    "import re \n",
    "\n",
    "html = 'aaa a ad <img image=\"tupo-_&$banana.jpeg 300w, milica0087Pilica.png 120w\" /> safdsaf saf\\\n",
    "    \\safdafa <img asf afasf srcset=\"data:image/bmp jJAJBDADHHANDKNDKAKNNDDMNANDMND\" src=\"345a\"/> \\\n",
    "    saf sa<img data-stretch=\"false\" data-src=\"https://images.squarespace-cdn.com/content/v1/5c77350965a707ed1710a1bc/1588698548907-RADZYUVD1S7R2R7I0JMM/Generative+Software+Design+Example+-+Procedural+Modeling.jpeg\" data-image=\"https://images.squarespace-cdn.com/content/v1/5c77350965a707ed1710a1bc/1588698548907-RADZYUVD1S7R2R7I0JMM/Generative+Software+Design+Example+-+Procedural+Modeling.jpeg\" data-image-dimensions=\"1500x842\" data-image-focal-point=\"0.5,0.5\" alt=\"Generative Software Design Example - Procedural Modeling.jpeg\" data-load=\"false\" src=\"https://images.squarespace-cdn.com/content/v1/5c77350965a707ed1710a1bc/1588698548907-RADZYUVD1S7R2R7I0JMM/Generative+Software+Design+Example+-+Procedural+Modeling.jpeg\" width=\"1500\" height=\"842\" alt=\"\" sizes=\"100vw\" style=\"display:block;object-fit: cover; width: 100%; height: 100%; object-position: 50% 50%\" srcset=\"https://images.squarespace-cdn.com/content/v1/5c77350965a707ed1710a1bc/1588698548907-RADZYUVD1S7R2R7I0JMM/Generative+Software+Design+Example+-+Procedural+Modeling.jpeg?format=100w 100w, https://images.squarespace-cdn.com/content/v1/5c77350965a707ed1710a1bc/1588698548907-RADZYUVD1S7R2R7I0JMM/Generative+Software+Design+Example+-+Procedural+Modeling.jpeg?format=300w 300w, https://images.squarespace-cdn.com/content/v1/5c77350965a707ed1710a1bc/1588698548907-RADZYUVD1S7R2R7I0JMM/Generative+Software+Design+Example+-+Procedural+Modeling.jpeg?format=500w 500w, https://images.squarespace-cdn.com/content/v1/5c77350965a707ed1710a1bc/1588698548907-RADZYUVD1S7R2R7I0JMM/Generative+Software+Design+Example+-+Procedural+Modeling.jpeg?format=750w 750w, https://images.squarespace-cdn.com/content/v1/5c77350965a707ed1710a1bc/1588698548907-RADZYUVD1S7R2R7I0JMM/Generative+Software+Design+Example+-+Procedural+Modeling.jpeg?format=1000w 1000w, https://images.squarespace-cdn.com/content/v1/5c77350965a707ed1710a1bc/1588698548907-RADZYUVD1S7R2R7I0JMM/Generative+Software+Design+Example+-+Procedural+Modeling.jpeg?format=1500w 1500w, https://images.squarespace-cdn.com/content/v1/5c77350965a707ed1710a1bc/1588698548907-RADZYUVD1S7R2R7I0JMM/Generative+Software+Design+Example+-+Procedural+Modeling.jpeg?format=2500w 2500w\" loading=\"lazy\" decoding=\"async\" data-loader=\"sqs\">\\\n",
    "     ffasf asf asf <figure srcset= \"https://pili?ćsss3245i.png\" =src=><div style=\"background-image: url(http://vilinkonjic.jpeg )\" >saf </div> \\\n",
    "        <img data-stretch=\"false\" data-src=\"https://images.squarespace-cdn.com/content/v1/5c77350965a707ed1710a1bc/1588703003192-B8US29YF5NDQZQK6WPUN/Silk+Interactive+Generative+Art.jpg\" data-image=\"https://images.squarespace-cdn.com/content/v1/5c77350965a707ed1710a1bc/1588703003192-B8US29YF5NDQZQK6WPUN/Silk+Interactive+Generative+Art.jpg\" data-image-dimensions=\"1958x720\" data-image-focal-point=\"0.5,0.5\" alt=\"Silk Interactive Generative Art.jpg\" data-load=\"false\" src=\"https://images.squarespace-cdn.com/content/v1/5c77350965a707ed1710a1bc/1588703003192-B8US29YF5NDQZQK6WPUN/Silk+Interactive+Generative+Art.jpg\" width=\"1958\" height=\"720\" alt=\"\" sizes=\"100vw\" style=\"display:block;object-fit: cover; width: 100%; height: 100%; object-position: 50% 50%\" srcset=\"https://images.squarespace-cdn.com/content/v1/5c77350965a707ed1710a1bc/1588703003192-B8US29YF5NDQZQK6WPUN/Silk+Interactive+Generative+Art.jpg?format=100w 100w, https://images.squarespace-cdn.com/content/v1/5c77350965a707ed1710a1bc/1588703003192-B8US29YF5NDQZQK6WPUN/Silk+Interactive+Generative+Art.jpg?format=300w 300w, https://images.squarespace-cdn.com/content/v1/5c77350965a707ed1710a1bc/1588703003192-B8US29YF5NDQZQK6WPUN/Silk+Interactive+Generative+Art.jpg?format=500w 500w, https://images.squarespace-cdn.com/content/v1/5c77350965a707ed1710a1bc/1588703003192-B8US29YF5NDQZQK6WPUN/Silk+Interactive+Generative+Art.jpg?format=750w 750w, https://images.squarespace-cdn.com/content/v1/5c77350965a707ed1710a1bc/1588703003192-B8US29YF5NDQZQK6WPUN/Silk+Interactive+Generative+Art.jpg?format=1000w 1000w, https://images.squarespace-cdn.com/content/v1/5c77350965a707ed1710a1bc/1588703003192-B8US29YF5NDQZQK6WPUN/Silk+Interactive+Generative+Art.jpg?format=1500w 1500w, https://images.squarespace-cdn.com/content/v1/5c77350965a707ed1710a1bc/1588703003192-B8US29YF5NDQZQK6WPUN/Silk+Interactive+Generative+Art.jpg?format=2500w 2500w\" loading=\"lazy\" decoding=\"async\" data-loader=\"sqs\">'\n",
    "\n",
    "src = \"<(?:img|figure)[\\s]*.*?(?:src|image)(?:set)?=[\\\"'\\s]+((?:http)[^'\\\"\\s]+(?:.jpg|.jpeg|.png|.gif|,))[^'\\\"]*?[\\\"']+.*?>\"\n",
    "bgurl = \"url\\([\\s]*?((?:http)[^\\\"'\\s]+(?:.jpg|.jpeg|.png))[^\\\"']*?\\)\"\n",
    "\n",
    "\n",
    "re.findall(src, html, re.IGNORECASE), re.findall(bgurl, html, re.IGNORECASE)"
   ]
  }
 ],
 "metadata": {
  "kernelspec": {
   "display_name": "fastai",
   "language": "python",
   "name": "python3"
  },
  "language_info": {
   "codemirror_mode": {
    "name": "ipython",
    "version": 3
   },
   "file_extension": ".py",
   "mimetype": "text/x-python",
   "name": "python",
   "nbconvert_exporter": "python",
   "pygments_lexer": "ipython3",
   "version": "3.11.6"
  }
 },
 "nbformat": 4,
 "nbformat_minor": 2
}
