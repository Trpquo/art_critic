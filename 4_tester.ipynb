{
 "cells": [
  {
   "cell_type": "markdown",
   "metadata": {},
   "source": [
    "## Testiranje modela\n"
   ]
  },
  {
   "cell_type": "code",
   "execution_count": 1,
   "metadata": {},
   "outputs": [
    {
     "name": "stdout",
     "output_type": "stream",
     "text": [
      "models/googlenet_10x\n",
      "models/alexnet_1x\n",
      "models/googlenet_1x\n",
      "models/googlenet_3x\n",
      "models/alexnet_3x\n",
      "models/alexnet_10x\n"
     ]
    },
    {
     "data": {
      "text/plain": [
       "{'googlenet_10x': {'breath': <fastai.learner.Learner at 0x7f18d74b68d0>,\n",
       "  'depth': <fastai.learner.Learner at 0x7f18d74b6a50>},\n",
       " 'alexnet_1x': {'breath': <fastai.learner.Learner at 0x7f18d93f1a90>,\n",
       "  'depth': <fastai.learner.Learner at 0x7f18d739ead0>},\n",
       " 'googlenet_1x': {'breath': <fastai.learner.Learner at 0x7f18d725e790>,\n",
       "  'depth': <fastai.learner.Learner at 0x7f18d739f350>},\n",
       " 'googlenet_3x': {'breath': <fastai.learner.Learner at 0x7f18d6abdad0>,\n",
       "  'depth': <fastai.learner.Learner at 0x7f18d738c2d0>},\n",
       " 'alexnet_3x': {'breath': <fastai.learner.Learner at 0x7f18d74b4850>,\n",
       "  'depth': <fastai.learner.Learner at 0x7f18d53a3bd0>},\n",
       " 'alexnet_10x': {'breath': <fastai.learner.Learner at 0x7f18d536dcd0>,\n",
       "  'depth': <fastai.learner.Learner at 0x7f18d7e05d90>}}"
      ]
     },
     "execution_count": 1,
     "metadata": {},
     "output_type": "execute_result"
    }
   ],
   "source": [
    "from settings import *\n",
    "from pprint import pformat\n",
    "from fastai.vision.all import load_learner\n",
    "import os\n",
    "\n",
    "\n",
    "model_picks = next(os.walk(\"./models\"))[1]\n",
    "seen = set()\n",
    "testees = {}\n",
    "\n",
    "\n",
    "for model in model_picks:\n",
    "    spot = Path(garage / model_picks[0])\n",
    "    try: \n",
    "        spot = Path(garage / model)\n",
    "        print(spot)\n",
    "    except NameError:\n",
    "        print(f\"model was not defined. Going with {model_picks[0]}.\")\n",
    "    signature = pformat(spot)\n",
    "    if signature not in seen:\n",
    "        seen.add(signature)\n",
    "        try:\n",
    "            testees[model] = {\n",
    "                \"breath\": load_learner(spot/\"breath.pkl\"),\n",
    "                \"depth\": load_learner(spot/\"depth.pkl\")\n",
    "            }\n",
    "        except Exception as ex:\n",
    "            print(f\"Model {model} is not trained yet!\")\n",
    "            print(ex)\n",
    "\n",
    "testees"
   ]
  },
  {
   "cell_type": "markdown",
   "metadata": {},
   "source": [
    "### Testiranje na bazi\n"
   ]
  },
  {
   "cell_type": "code",
   "execution_count": null,
   "metadata": {},
   "outputs": [],
   "source": [
    "import pandas as pd\n",
    "\n",
    "df = pd.read_parquet(\"data/wikiart_composed.parquet\")\n",
    "df.head()"
   ]
  },
  {
   "cell_type": "code",
   "execution_count": null,
   "metadata": {},
   "outputs": [],
   "source": [
    "from utils.tester import predict_columns\n",
    "\n",
    "# prođi kroz bazu u malim batchevima i spremi u datoteke\n",
    "dataset = df.loc[~df[\"artemis\"].isna() | ~df[\"emotions\"].isna()].sample(1000)\n",
    "datafiles = {}\n",
    "%%capture\n",
    "for model_name, testee in testees.items(): \n",
    "    datafiles[model_name] = predict_columns(testee, dataset, model_name, root);"
   ]
  },
  {
   "cell_type": "code",
   "execution_count": null,
   "metadata": {},
   "outputs": [],
   "source": [
    "# spoji kreirane batch datoteke u jednu (ako je gore uzeti uzorak bio do 1000 jedinica, onda se ova čelija može preskočiti)\n",
    "for model_name, addresses in datafiles.items():\n",
    "    result = pd.DataFrame()\n",
    "    for adress in addresses:\n",
    "        data = pd.read_parquet(adress)\n",
    "        result = pd.concat((result, data))\n",
    "\n",
    "    result[[\"artistName\", \"title\", \"year\", \"style\", f\"{model_name}_breath\", f\"{model_name}_breath_probs0\", f\"{model_name}_breath_probs1\", f\"{model_name}_depth\", f\"{model_name}_depth_probs0\", f\"{model_name}_depth_probs1\", \"genre\", \"artemis\", \"emotions\", \"webUrl\"]].to_parquet(f\"data/{model_name}/critic_full.parquet\")"
   ]
  },
  {
   "cell_type": "code",
   "execution_count": 12,
   "metadata": {},
   "outputs": [
    {
     "data": {
      "text/html": [
       "<div>\n",
       "<style scoped>\n",
       "    .dataframe tbody tr th:only-of-type {\n",
       "        vertical-align: middle;\n",
       "    }\n",
       "\n",
       "    .dataframe tbody tr th {\n",
       "        vertical-align: top;\n",
       "    }\n",
       "\n",
       "    .dataframe thead th {\n",
       "        text-align: right;\n",
       "    }\n",
       "</style>\n",
       "<table border=\"1\" class=\"dataframe\">\n",
       "  <thead>\n",
       "    <tr style=\"text-align: right;\">\n",
       "      <th></th>\n",
       "      <th>artistName</th>\n",
       "      <th>title</th>\n",
       "      <th>year</th>\n",
       "      <th>style</th>\n",
       "      <th>breath</th>\n",
       "      <th>breath_probs</th>\n",
       "      <th>depth</th>\n",
       "      <th>depth_probs</th>\n",
       "      <th>genre</th>\n",
       "      <th>artemis</th>\n",
       "      <th>emotions</th>\n",
       "      <th>webUrl</th>\n",
       "    </tr>\n",
       "  </thead>\n",
       "  <tbody>\n",
       "    <tr>\n",
       "      <th>233761</th>\n",
       "      <td>Utagawa Kuniyoshi</td>\n",
       "      <td>Women</td>\n",
       "      <td>NaN</td>\n",
       "      <td>Ukiyo-e</td>\n",
       "      <td>concrete</td>\n",
       "      <td>4.757788e-01</td>\n",
       "      <td>iconic</td>\n",
       "      <td>0.999552</td>\n",
       "      <td>portrait</td>\n",
       "      <td>amusement, fear, contentment, awe</td>\n",
       "      <td>None</td>\n",
       "      <td>https://uploads6.wikiart.org/images/utagawa-kuniyoshi/women-23.jpg</td>\n",
       "    </tr>\n",
       "    <tr>\n",
       "      <th>275862</th>\n",
       "      <td>Adriaen van Ostade</td>\n",
       "      <td>Country Concert</td>\n",
       "      <td>1636.0</td>\n",
       "      <td>Baroque</td>\n",
       "      <td>concrete</td>\n",
       "      <td>7.887672e-13</td>\n",
       "      <td>symbolic</td>\n",
       "      <td>0.168697</td>\n",
       "      <td>genre painting</td>\n",
       "      <td>None</td>\n",
       "      <td>happiness</td>\n",
       "      <td>https://uploads5.wikiart.org/images/adriaen-van-ostade/country-concert.jpg</td>\n",
       "    </tr>\n",
       "    <tr>\n",
       "      <th>294356</th>\n",
       "      <td>Giorgio Morandi</td>\n",
       "      <td>Still Life</td>\n",
       "      <td>1925.0</td>\n",
       "      <td>Magic Realism</td>\n",
       "      <td>concrete</td>\n",
       "      <td>8.668041e-06</td>\n",
       "      <td>symbolic</td>\n",
       "      <td>0.299060</td>\n",
       "      <td>still life</td>\n",
       "      <td>None</td>\n",
       "      <td></td>\n",
       "      <td>https://uploads2.wikiart.org/images/giorgio-morandi/still-life-1925.jpg</td>\n",
       "    </tr>\n",
       "  </tbody>\n",
       "</table>\n",
       "</div>"
      ],
      "text/plain": [
       "                artistName            title    year          style    breath  \\\n",
       "233761   Utagawa Kuniyoshi            Women     NaN        Ukiyo-e  concrete   \n",
       "275862  Adriaen van Ostade  Country Concert  1636.0        Baroque  concrete   \n",
       "294356     Giorgio Morandi       Still Life  1925.0  Magic Realism  concrete   \n",
       "\n",
       "        breath_probs     depth  depth_probs           genre  \\\n",
       "233761  4.757788e-01    iconic     0.999552        portrait   \n",
       "275862  7.887672e-13  symbolic     0.168697  genre painting   \n",
       "294356  8.668041e-06  symbolic     0.299060      still life   \n",
       "\n",
       "                                  artemis   emotions  \\\n",
       "233761  amusement, fear, contentment, awe       None   \n",
       "275862                               None  happiness   \n",
       "294356                               None              \n",
       "\n",
       "                                                                            webUrl  \n",
       "233761          https://uploads6.wikiart.org/images/utagawa-kuniyoshi/women-23.jpg  \n",
       "275862  https://uploads5.wikiart.org/images/adriaen-van-ostade/country-concert.jpg  \n",
       "294356     https://uploads2.wikiart.org/images/giorgio-morandi/still-life-1925.jpg  "
      ]
     },
     "execution_count": 12,
     "metadata": {},
     "output_type": "execute_result"
    }
   ],
   "source": [
    "# import pandas as pd\n",
    "\n",
    "model_predictions = {}\n",
    "for model in model_picks:\n",
    "    model_predictions[model] = pd.read_parquet(Path(\"./data\")/model/\"critic_output1.parquet\")\n",
    "model_predictions[list(model_predictions.keys())[0]].sample(3)"
   ]
  },
  {
   "cell_type": "code",
   "execution_count": null,
   "metadata": {},
   "outputs": [],
   "source": []
  },
  {
   "cell_type": "markdown",
   "metadata": {},
   "source": [
    "### Testiranje na web stranicama\n"
   ]
  },
  {
   "cell_type": "code",
   "execution_count": null,
   "metadata": {},
   "outputs": [],
   "source": [
    "from utils.downloader import page_scraper\n",
    "from utils.tester import test_learners\n",
    "\n",
    "# \"https://aiartists.org/generative-art-design\"\n",
    "# \"https://unsplash.com\"\n",
    "# \"https://www.metmuseum.org/art/collection/search?showOnly=openAccess\"\n",
    "# \"https://www.gettyimages.com\"\n",
    "\n",
    "internet = [\n",
    "    *page_scraper(\"https://www.gettyimages.com\"),\n",
    "]\n",
    "\n",
    "# \"https://tse2.mm.bing.net/th?id=OIP.UPZ1-G8gpc5FkNIC2RCWSgHaFj&pid=Api\",\n",
    "# \"https://tse2.mm.bing.net/th?id=OIP.if_cidFAKZ49wY7BLA3feQHaGE&pid=Api\",\n",
    "# \"https://tse4.mm.bing.net/th?id=OIP.Px4ySbgcqEgFJOhOq8k5mAHaEo&pid=Api\",\n",
    "# \"https://tse4.mm.bing.net/th?id=OIP.eNfpYf9Oqyh0u3_b1Eu20wHaGL&pid=Api\",\n",
    "# \"https://tse3.mm.bing.net/th?id=OIP.NEkbbYyu56hdqekgPKxmoQAAAA&pid=Api\",\n",
    "# \"https://tse3.mm.bing.net/th?id=OIF.jw1Qziy4XGJbDtTYtrBY3Q&pid=Api\",\n",
    "# \"https://tse2.mm.bing.net/th?id=OIP.pJwVOqij6rPFrOjcHc1jbAHaKj&pid=Api\",\n",
    "# \"https://tse1.mm.bing.net/th?id=OIP.-Hy08hdnnfvCwor0Y_fyGAHaLA&pid=Api\",\n",
    "# \"https://tse4.mm.bing.net/th?id=OIP.mUVhO-Zld2qEJKe_r9tJaAHaHn&pid=Api\",\n",
    "# \"https://tse2.mm.bing.net/th?id=OIP.DqjuCxnocoFQ0hvIH_Cm8wHaEK&pid=Api\",\n",
    "# \"https://tse1.mm.bing.net/th?id=OIP.EFoByYTKu1KbZgoVfocCDAHaFU&pid=Api\",\n",
    "# \"https://tse2.mm.bing.net/th?id=OIP.BFRcQqZ5Bpw1a-6u_XoBrwHaFj&pid=Api\",\n",
    "# \"https://tse2.mm.bing.net/th?id=OIP.2qqjQQ0wW37Lbvkx50zPxgHaEB&pid=Api\"\n",
    "\n",
    "for model_name, testee in testees.items():\n",
    "    test_learners(testee, test_set=internet, model_name=model_name, root=root/\"artefacts\", preview=False)"
   ]
  },
  {
   "cell_type": "code",
   "execution_count": null,
   "metadata": {},
   "outputs": [],
   "source": [
    "import re \n",
    "\n",
    "html = 'aaa a ad <img image=\"tupo-_&$banana.jpeg 300w, milica0087Pilica.png 120w\" /> safdsaf saf\\\n",
    "    \\safdafa <img asf afasf srcset=\"data:image/bmp jJAJBDADHHANDKNDKAKNNDDMNANDMND\" src=\"345a\"/> \\\n",
    "    saf sa<img data-stretch=\"false\" data-src=\"https://images.squarespace-cdn.com/content/v1/5c77350965a707ed1710a1bc/1588698548907-RADZYUVD1S7R2R7I0JMM/Generative+Software+Design+Example+-+Procedural+Modeling.jpeg\" data-image=\"https://images.squarespace-cdn.com/content/v1/5c77350965a707ed1710a1bc/1588698548907-RADZYUVD1S7R2R7I0JMM/Generative+Software+Design+Example+-+Procedural+Modeling.jpeg\" data-image-dimensions=\"1500x842\" data-image-focal-point=\"0.5,0.5\" alt=\"Generative Software Design Example - Procedural Modeling.jpeg\" data-load=\"false\" src=\"https://images.squarespace-cdn.com/content/v1/5c77350965a707ed1710a1bc/1588698548907-RADZYUVD1S7R2R7I0JMM/Generative+Software+Design+Example+-+Procedural+Modeling.jpeg\" width=\"1500\" height=\"842\" alt=\"\" sizes=\"100vw\" style=\"display:block;object-fit: cover; width: 100%; height: 100%; object-position: 50% 50%\" srcset=\"https://images.squarespace-cdn.com/content/v1/5c77350965a707ed1710a1bc/1588698548907-RADZYUVD1S7R2R7I0JMM/Generative+Software+Design+Example+-+Procedural+Modeling.jpeg?format=100w 100w, https://images.squarespace-cdn.com/content/v1/5c77350965a707ed1710a1bc/1588698548907-RADZYUVD1S7R2R7I0JMM/Generative+Software+Design+Example+-+Procedural+Modeling.jpeg?format=300w 300w, https://images.squarespace-cdn.com/content/v1/5c77350965a707ed1710a1bc/1588698548907-RADZYUVD1S7R2R7I0JMM/Generative+Software+Design+Example+-+Procedural+Modeling.jpeg?format=500w 500w, https://images.squarespace-cdn.com/content/v1/5c77350965a707ed1710a1bc/1588698548907-RADZYUVD1S7R2R7I0JMM/Generative+Software+Design+Example+-+Procedural+Modeling.jpeg?format=750w 750w, https://images.squarespace-cdn.com/content/v1/5c77350965a707ed1710a1bc/1588698548907-RADZYUVD1S7R2R7I0JMM/Generative+Software+Design+Example+-+Procedural+Modeling.jpeg?format=1000w 1000w, https://images.squarespace-cdn.com/content/v1/5c77350965a707ed1710a1bc/1588698548907-RADZYUVD1S7R2R7I0JMM/Generative+Software+Design+Example+-+Procedural+Modeling.jpeg?format=1500w 1500w, https://images.squarespace-cdn.com/content/v1/5c77350965a707ed1710a1bc/1588698548907-RADZYUVD1S7R2R7I0JMM/Generative+Software+Design+Example+-+Procedural+Modeling.jpeg?format=2500w 2500w\" loading=\"lazy\" decoding=\"async\" data-loader=\"sqs\">\\\n",
    "     ffasf asf asf <figure srcset= \"https://pili?ćsss3245i.png\" =src=><div style=\"background-image: url(http://vilinkonjic.jpeg )\" >saf </div> \\\n",
    "        <img data-stretch=\"false\" data-src=\"https://images.squarespace-cdn.com/content/v1/5c77350965a707ed1710a1bc/1588703003192-B8US29YF5NDQZQK6WPUN/Silk+Interactive+Generative+Art.jpg\" data-image=\"https://images.squarespace-cdn.com/content/v1/5c77350965a707ed1710a1bc/1588703003192-B8US29YF5NDQZQK6WPUN/Silk+Interactive+Generative+Art.jpg\" data-image-dimensions=\"1958x720\" data-image-focal-point=\"0.5,0.5\" alt=\"Silk Interactive Generative Art.jpg\" data-load=\"false\" src=\"https://images.squarespace-cdn.com/content/v1/5c77350965a707ed1710a1bc/1588703003192-B8US29YF5NDQZQK6WPUN/Silk+Interactive+Generative+Art.jpg\" width=\"1958\" height=\"720\" alt=\"\" sizes=\"100vw\" style=\"display:block;object-fit: cover; width: 100%; height: 100%; object-position: 50% 50%\" srcset=\"https://images.squarespace-cdn.com/content/v1/5c77350965a707ed1710a1bc/1588703003192-B8US29YF5NDQZQK6WPUN/Silk+Interactive+Generative+Art.jpg?format=100w 100w, https://images.squarespace-cdn.com/content/v1/5c77350965a707ed1710a1bc/1588703003192-B8US29YF5NDQZQK6WPUN/Silk+Interactive+Generative+Art.jpg?format=300w 300w, https://images.squarespace-cdn.com/content/v1/5c77350965a707ed1710a1bc/1588703003192-B8US29YF5NDQZQK6WPUN/Silk+Interactive+Generative+Art.jpg?format=500w 500w, https://images.squarespace-cdn.com/content/v1/5c77350965a707ed1710a1bc/1588703003192-B8US29YF5NDQZQK6WPUN/Silk+Interactive+Generative+Art.jpg?format=750w 750w, https://images.squarespace-cdn.com/content/v1/5c77350965a707ed1710a1bc/1588703003192-B8US29YF5NDQZQK6WPUN/Silk+Interactive+Generative+Art.jpg?format=1000w 1000w, https://images.squarespace-cdn.com/content/v1/5c77350965a707ed1710a1bc/1588703003192-B8US29YF5NDQZQK6WPUN/Silk+Interactive+Generative+Art.jpg?format=1500w 1500w, https://images.squarespace-cdn.com/content/v1/5c77350965a707ed1710a1bc/1588703003192-B8US29YF5NDQZQK6WPUN/Silk+Interactive+Generative+Art.jpg?format=2500w 2500w\" loading=\"lazy\" decoding=\"async\" data-loader=\"sqs\">'\n",
    "\n",
    "src = \"<(?:img|figure)[\\s]*.*?(?:src|image)(?:set)?=[\\\"'\\s]+((?:http)[^'\\\"\\s]+(?:.jpg|.jpeg|.png|.gif|,))[^'\\\"]*?[\\\"']+.*?>\"\n",
    "bgurl = \"url\\([\\s]*?((?:http)[^\\\"'\\s]+(?:.jpg|.jpeg|.png))[^\\\"']*?\\)\"\n",
    "\n",
    "\n",
    "re.findall(src, html, re.IGNORECASE), re.findall(bgurl, html, re.IGNORECASE)"
   ]
  }
 ],
 "metadata": {
  "kernelspec": {
   "display_name": "fastai",
   "language": "python",
   "name": "python3"
  },
  "language_info": {
   "codemirror_mode": {
    "name": "ipython",
    "version": 3
   },
   "file_extension": ".py",
   "mimetype": "text/x-python",
   "name": "python",
   "nbconvert_exporter": "python",
   "pygments_lexer": "ipython3",
   "version": "3.11.6"
  }
 },
 "nbformat": 4,
 "nbformat_minor": 2
}
