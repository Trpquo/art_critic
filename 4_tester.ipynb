{
 "cells": [
  {
   "cell_type": "markdown",
   "metadata": {},
   "source": [
    "## Testiranje modela\n"
   ]
  },
  {
   "cell_type": "code",
   "execution_count": 1,
   "metadata": {},
   "outputs": [
    {
     "name": "stdout",
     "output_type": "stream",
     "text": [
      "models/alexnet_10x\n",
      "models/alexnet_1x\n",
      "models/alexnet_3x\n",
      "models/googlenet_10x\n",
      "models/googlenet_1x\n",
      "models/googlenet_3x\n",
      "models/vgg11_bn_10x\n",
      "models/vgg11_bn_1x\n",
      "models/vgg11_bn_3x\n"
     ]
    },
    {
     "data": {
      "text/plain": [
       "{'alexnet_10x': {'breadth': <fastai.learner.Learner at 0x7ff2c113f250>,\n",
       "  'depth': <fastai.learner.Learner at 0x7ff2c1148590>},\n",
       " 'alexnet_1x': {'breadth': <fastai.learner.Learner at 0x7ff2c0f74110>,\n",
       "  'depth': <fastai.learner.Learner at 0x7ff2c0fd38d0>},\n",
       " 'alexnet_3x': {'breadth': <fastai.learner.Learner at 0x7ff2c113f810>,\n",
       "  'depth': <fastai.learner.Learner at 0x7ff2c0fa9850>},\n",
       " 'googlenet_10x': {'breadth': <fastai.learner.Learner at 0x7ff2c10217d0>,\n",
       "  'depth': <fastai.learner.Learner at 0x7ff2be47de90>},\n",
       " 'googlenet_1x': {'breadth': <fastai.learner.Learner at 0x7ff2be4b1110>,\n",
       "  'depth': <fastai.learner.Learner at 0x7ff2c121c790>},\n",
       " 'googlenet_3x': {'breadth': <fastai.learner.Learner at 0x7ff2c0fbded0>,\n",
       "  'depth': <fastai.learner.Learner at 0x7ff2c120de10>},\n",
       " 'vgg11_bn_10x': {'breadth': <fastai.learner.Learner at 0x7ff2bdbe7f90>,\n",
       "  'depth': <fastai.learner.Learner at 0x7ff2bcc8edd0>},\n",
       " 'vgg11_bn_1x': {'breadth': <fastai.learner.Learner at 0x7ff2bd416810>,\n",
       "  'depth': <fastai.learner.Learner at 0x7ff2c17870d0>},\n",
       " 'vgg11_bn_3x': {'breadth': <fastai.learner.Learner at 0x7ff2bdbe4e90>,\n",
       "  'depth': <fastai.learner.Learner at 0x7ff2bb67d310>}}"
      ]
     },
     "execution_count": 1,
     "metadata": {},
     "output_type": "execute_result"
    }
   ],
   "source": [
    "from settings import *\n",
    "from pprint import pformat\n",
    "from fastai.vision.all import load_learner\n",
    "import os\n",
    "\n",
    "\n",
    "model_picks = next(os.walk(\"./models\"))[1]\n",
    "# model_picks = [\"alexnet_3x\"]\n",
    "seen = set()\n",
    "testees = {}\n",
    "\n",
    "\n",
    "for model in sorted(model_picks):\n",
    "    spot = Path(garage / model_picks[0])\n",
    "    try: \n",
    "        spot = Path(garage / model)\n",
    "        print(spot)\n",
    "    except NameError:\n",
    "        print(f\"model was not defined. Going with {model_picks[0]}.\")\n",
    "    signature = pformat(spot)\n",
    "    if signature not in seen:\n",
    "        seen.add(signature)\n",
    "        try:\n",
    "            testees[model] = {\n",
    "                \"breadth\": load_learner(spot/\"breadth.pkl\"),\n",
    "                \"depth\": load_learner(spot/\"depth.pkl\")\n",
    "            }\n",
    "        except Exception as ex:\n",
    "            print(f\"Model {model} is not trained yet!\")\n",
    "            print(ex)\n",
    "\n",
    "testees"
   ]
  },
  {
   "cell_type": "markdown",
   "metadata": {},
   "source": [
    "### Testiranje na bazi\n"
   ]
  },
  {
   "cell_type": "code",
   "execution_count": 4,
   "metadata": {},
   "outputs": [
    {
     "data": {
      "text/html": [
       "<div>\n",
       "<style scoped>\n",
       "    .dataframe tbody tr th:only-of-type {\n",
       "        vertical-align: middle;\n",
       "    }\n",
       "\n",
       "    .dataframe tbody tr th {\n",
       "        vertical-align: top;\n",
       "    }\n",
       "\n",
       "    .dataframe thead th {\n",
       "        text-align: right;\n",
       "    }\n",
       "</style>\n",
       "<table border=\"1\" class=\"dataframe\">\n",
       "  <thead>\n",
       "    <tr style=\"text-align: right;\">\n",
       "      <th></th>\n",
       "      <th>artistName</th>\n",
       "      <th>title</th>\n",
       "      <th>year</th>\n",
       "      <th>style</th>\n",
       "      <th>genre</th>\n",
       "      <th>photography</th>\n",
       "      <th>artemis</th>\n",
       "      <th>emotions</th>\n",
       "      <th>Is painting</th>\n",
       "      <th>Face/body</th>\n",
       "      <th>Rating</th>\n",
       "      <th>artistContentId</th>\n",
       "      <th>artistUrl</th>\n",
       "      <th>paintingUrl</th>\n",
       "      <th>localUrl</th>\n",
       "      <th>webUrl</th>\n",
       "      <th>webUrl2</th>\n",
       "    </tr>\n",
       "    <tr>\n",
       "      <th>contentId</th>\n",
       "      <th></th>\n",
       "      <th></th>\n",
       "      <th></th>\n",
       "      <th></th>\n",
       "      <th></th>\n",
       "      <th></th>\n",
       "      <th></th>\n",
       "      <th></th>\n",
       "      <th></th>\n",
       "      <th></th>\n",
       "      <th></th>\n",
       "      <th></th>\n",
       "      <th></th>\n",
       "      <th></th>\n",
       "      <th></th>\n",
       "      <th></th>\n",
       "      <th></th>\n",
       "    </tr>\n",
       "  </thead>\n",
       "  <tbody>\n",
       "    <tr>\n",
       "      <th>314345</th>\n",
       "      <td>Hans von Aachen</td>\n",
       "      <td>Augustus and the Tiburtine Sibyl</td>\n",
       "      <td>1580</td>\n",
       "      <td>Mannerism (Late Renaissance)</td>\n",
       "      <td>mythological painting</td>\n",
       "      <td>0</td>\n",
       "      <td>None</td>\n",
       "      <td>None</td>\n",
       "      <td>NaN</td>\n",
       "      <td>NaN</td>\n",
       "      <td>NaN</td>\n",
       "      <td>314332</td>\n",
       "      <td>hans-von-aachen</td>\n",
       "      <td>augustus-and-the-tiburtine-sibyl-1580</td>\n",
       "      <td>./wikiart/wikidata/images/hans-von-aachen/1580/314345.jpg</td>\n",
       "      <td>https://uploads6.wikiart.org/images/hans-von-aachen/augustus-and-the-tiburtine-sibyl-1580.jpg!Large.jpg</td>\n",
       "      <td>None</td>\n",
       "    </tr>\n",
       "    <tr>\n",
       "      <th>314363</th>\n",
       "      <td>Hans von Aachen</td>\n",
       "      <td>Portrait of Jacopo Biliverti</td>\n",
       "      <td>1585</td>\n",
       "      <td>Mannerism (Late Renaissance)</td>\n",
       "      <td>portrait</td>\n",
       "      <td>0</td>\n",
       "      <td>None</td>\n",
       "      <td>None</td>\n",
       "      <td>NaN</td>\n",
       "      <td>NaN</td>\n",
       "      <td>NaN</td>\n",
       "      <td>314332</td>\n",
       "      <td>hans-von-aachen</td>\n",
       "      <td>portrait-of-jacopo-biliverti-1585</td>\n",
       "      <td>./wikiart/wikidata/images/hans-von-aachen/1585/314363.jpg</td>\n",
       "      <td>https://uploads2.wikiart.org/images/hans-von-aachen/portrait-of-jacopo-biliverti-1585.jpg!Large.jpg</td>\n",
       "      <td>None</td>\n",
       "    </tr>\n",
       "    <tr>\n",
       "      <th>314364</th>\n",
       "      <td>Hans von Aachen</td>\n",
       "      <td>Portrait of Joseph Heintz</td>\n",
       "      <td>1585</td>\n",
       "      <td>Mannerism (Late Renaissance)</td>\n",
       "      <td>portrait</td>\n",
       "      <td>0</td>\n",
       "      <td>None</td>\n",
       "      <td>None</td>\n",
       "      <td>NaN</td>\n",
       "      <td>NaN</td>\n",
       "      <td>NaN</td>\n",
       "      <td>314332</td>\n",
       "      <td>hans-von-aachen</td>\n",
       "      <td>portrait-of-joseph-heintz-1585</td>\n",
       "      <td>./wikiart/wikidata/images/hans-von-aachen/1585/314364.jpg</td>\n",
       "      <td>https://uploads8.wikiart.org/images/hans-von-aachen/portrait-of-joseph-heintz-1585.jpg!Large.jpg</td>\n",
       "      <td>None</td>\n",
       "    </tr>\n",
       "    <tr>\n",
       "      <th>314371</th>\n",
       "      <td>Hans von Aachen</td>\n",
       "      <td>The rape of Proserpine</td>\n",
       "      <td>1587</td>\n",
       "      <td>Mannerism (Late Renaissance)</td>\n",
       "      <td>mythological painting</td>\n",
       "      <td>0</td>\n",
       "      <td>None</td>\n",
       "      <td>None</td>\n",
       "      <td>NaN</td>\n",
       "      <td>NaN</td>\n",
       "      <td>NaN</td>\n",
       "      <td>314332</td>\n",
       "      <td>hans-von-aachen</td>\n",
       "      <td>the-rape-of-proserpine-1587</td>\n",
       "      <td>./wikiart/wikidata/images/hans-von-aachen/1587/314371.jpg</td>\n",
       "      <td>https://uploads5.wikiart.org/images/hans-von-aachen/the-rape-of-proserpine-1587.jpg!Large.jpg</td>\n",
       "      <td>None</td>\n",
       "    </tr>\n",
       "    <tr>\n",
       "      <th>314369</th>\n",
       "      <td>Hans von Aachen</td>\n",
       "      <td>The judgment of Paris</td>\n",
       "      <td>1588</td>\n",
       "      <td>Mannerism (Late Renaissance)</td>\n",
       "      <td>mythological painting</td>\n",
       "      <td>0</td>\n",
       "      <td>None</td>\n",
       "      <td>None</td>\n",
       "      <td>NaN</td>\n",
       "      <td>NaN</td>\n",
       "      <td>NaN</td>\n",
       "      <td>314332</td>\n",
       "      <td>hans-von-aachen</td>\n",
       "      <td>the-judgment-of-paris-1588</td>\n",
       "      <td>./wikiart/wikidata/images/hans-von-aachen/1588/314369.jpg</td>\n",
       "      <td>https://uploads4.wikiart.org/images/hans-von-aachen/the-judgment-of-paris-1588.jpg!Large.jpg</td>\n",
       "      <td>None</td>\n",
       "    </tr>\n",
       "  </tbody>\n",
       "</table>\n",
       "</div>"
      ],
      "text/plain": [
       "                artistName                             title  year  \\\n",
       "contentId                                                            \n",
       "314345     Hans von Aachen  Augustus and the Tiburtine Sibyl  1580   \n",
       "314363     Hans von Aachen      Portrait of Jacopo Biliverti  1585   \n",
       "314364     Hans von Aachen         Portrait of Joseph Heintz  1585   \n",
       "314371     Hans von Aachen            The rape of Proserpine  1587   \n",
       "314369     Hans von Aachen             The judgment of Paris  1588   \n",
       "\n",
       "                                  style                  genre  photography  \\\n",
       "contentId                                                                     \n",
       "314345     Mannerism (Late Renaissance)  mythological painting            0   \n",
       "314363     Mannerism (Late Renaissance)               portrait            0   \n",
       "314364     Mannerism (Late Renaissance)               portrait            0   \n",
       "314371     Mannerism (Late Renaissance)  mythological painting            0   \n",
       "314369     Mannerism (Late Renaissance)  mythological painting            0   \n",
       "\n",
       "          artemis emotions Is painting Face/body  Rating  artistContentId  \\\n",
       "contentId                                                                   \n",
       "314345       None     None         NaN       NaN     NaN           314332   \n",
       "314363       None     None         NaN       NaN     NaN           314332   \n",
       "314364       None     None         NaN       NaN     NaN           314332   \n",
       "314371       None     None         NaN       NaN     NaN           314332   \n",
       "314369       None     None         NaN       NaN     NaN           314332   \n",
       "\n",
       "                 artistUrl                            paintingUrl  \\\n",
       "contentId                                                           \n",
       "314345     hans-von-aachen  augustus-and-the-tiburtine-sibyl-1580   \n",
       "314363     hans-von-aachen      portrait-of-jacopo-biliverti-1585   \n",
       "314364     hans-von-aachen         portrait-of-joseph-heintz-1585   \n",
       "314371     hans-von-aachen            the-rape-of-proserpine-1587   \n",
       "314369     hans-von-aachen             the-judgment-of-paris-1588   \n",
       "\n",
       "                                                            localUrl  \\\n",
       "contentId                                                              \n",
       "314345     ./wikiart/wikidata/images/hans-von-aachen/1580/314345.jpg   \n",
       "314363     ./wikiart/wikidata/images/hans-von-aachen/1585/314363.jpg   \n",
       "314364     ./wikiart/wikidata/images/hans-von-aachen/1585/314364.jpg   \n",
       "314371     ./wikiart/wikidata/images/hans-von-aachen/1587/314371.jpg   \n",
       "314369     ./wikiart/wikidata/images/hans-von-aachen/1588/314369.jpg   \n",
       "\n",
       "                                                                                                            webUrl  \\\n",
       "contentId                                                                                                            \n",
       "314345     https://uploads6.wikiart.org/images/hans-von-aachen/augustus-and-the-tiburtine-sibyl-1580.jpg!Large.jpg   \n",
       "314363         https://uploads2.wikiart.org/images/hans-von-aachen/portrait-of-jacopo-biliverti-1585.jpg!Large.jpg   \n",
       "314364            https://uploads8.wikiart.org/images/hans-von-aachen/portrait-of-joseph-heintz-1585.jpg!Large.jpg   \n",
       "314371               https://uploads5.wikiart.org/images/hans-von-aachen/the-rape-of-proserpine-1587.jpg!Large.jpg   \n",
       "314369                https://uploads4.wikiart.org/images/hans-von-aachen/the-judgment-of-paris-1588.jpg!Large.jpg   \n",
       "\n",
       "          webUrl2  \n",
       "contentId          \n",
       "314345       None  \n",
       "314363       None  \n",
       "314364       None  \n",
       "314371       None  \n",
       "314369       None  "
      ]
     },
     "execution_count": 4,
     "metadata": {},
     "output_type": "execute_result"
    }
   ],
   "source": [
    "import pandas as pd\n",
    "\n",
    "df = pd.read_parquet(\"data/wikiart_composed.parquet\")\n",
    "df.head()"
   ]
  },
  {
   "cell_type": "code",
   "execution_count": null,
   "metadata": {},
   "outputs": [],
   "source": [
    "from utils.tester import predict_columns\n",
    "\n",
    "# prođi kroz bazu u malim batchevima i spremi u datoteke\n",
    "dataset = df.loc[~df[\"artemis\"].isna() | ~df[\"emotions\"].isna()].sample(1000)\n",
    "datafiles = {}\n",
    "for model_name, testee in testees.items(): \n",
    "    datafiles[model_name] = predict_columns(testee, dataset, model_name, root);"
   ]
  },
  {
   "cell_type": "code",
   "execution_count": 4,
   "metadata": {},
   "outputs": [],
   "source": [
    "# spoji kreirane batch datoteke u jednu (ako je gore uzeti uzorak bio do 1000 jedinica, onda se ova čelija može preskočiti)\n",
    "for model_name, addresses in datafiles.items():\n",
    "    result = pd.DataFrame()\n",
    "    for adress in addresses:\n",
    "        data = pd.read_parquet(adress)\n",
    "        result = pd.concat((result, data))\n",
    "\n",
    "    result[[\"artistName\", \"title\", \"year\", \"style\", \"breadth\", \"breadth_probs\", \"depth\", \"depth_probs\", \"genre\", \"artemis\", \"emotions\", \"webUrl\"]].to_parquet(f\"data/{model_name}/critic_full.parquet\")"
   ]
  },
  {
   "cell_type": "markdown",
   "metadata": {},
   "source": [
    "## Analiza predviđanja na neviđenom uzorku"
   ]
  },
  {
   "cell_type": "code",
   "execution_count": 2,
   "metadata": {},
   "outputs": [
    {
     "data": {
      "text/plain": [
       "['alexnet_10x',\n",
       " 'alexnet_1x',\n",
       " 'alexnet_3x',\n",
       " 'googlenet_10x',\n",
       " 'googlenet_1x',\n",
       " 'googlenet_3x',\n",
       " 'vgg11_bn_10x',\n",
       " 'vgg11_bn_1x',\n",
       " 'vgg11_bn_3x']"
      ]
     },
     "execution_count": 2,
     "metadata": {},
     "output_type": "execute_result"
    }
   ],
   "source": [
    "model_picks.sort()\n",
    "model_picks"
   ]
  },
  {
   "cell_type": "code",
   "execution_count": 5,
   "metadata": {},
   "outputs": [
    {
     "data": {
      "text/html": [
       "<div>\n",
       "<style scoped>\n",
       "    .dataframe tbody tr th:only-of-type {\n",
       "        vertical-align: middle;\n",
       "    }\n",
       "\n",
       "    .dataframe tbody tr th {\n",
       "        vertical-align: top;\n",
       "    }\n",
       "\n",
       "    .dataframe thead th {\n",
       "        text-align: right;\n",
       "    }\n",
       "</style>\n",
       "<table border=\"1\" class=\"dataframe\">\n",
       "  <thead>\n",
       "    <tr style=\"text-align: right;\">\n",
       "      <th></th>\n",
       "      <th>artistName</th>\n",
       "      <th>title</th>\n",
       "      <th>year</th>\n",
       "      <th>style</th>\n",
       "      <th>breadth</th>\n",
       "      <th>breadth_probs</th>\n",
       "      <th>depth</th>\n",
       "      <th>depth_probs</th>\n",
       "      <th>genre</th>\n",
       "      <th>artemis</th>\n",
       "      <th>emotions</th>\n",
       "      <th>webUrl</th>\n",
       "    </tr>\n",
       "  </thead>\n",
       "  <tbody>\n",
       "    <tr>\n",
       "      <th>242455</th>\n",
       "      <td>Tsukioka Yoshitoshi</td>\n",
       "      <td>Yoshitsune with benkei</td>\n",
       "      <td>NaN</td>\n",
       "      <td>Ukiyo-e</td>\n",
       "      <td>abstract</td>\n",
       "      <td>0.950879</td>\n",
       "      <td>symbolic</td>\n",
       "      <td>0.043033</td>\n",
       "      <td>genre painting</td>\n",
       "      <td>excitement, contentment, amusement</td>\n",
       "      <td>None</td>\n",
       "      <td>https://uploads4.wikiart.org/images/tsukioka-yoshitoshi/yoshitsune-with-benkei.jpg</td>\n",
       "    </tr>\n",
       "    <tr>\n",
       "      <th>304835</th>\n",
       "      <td>Auguste Herbin</td>\n",
       "      <td>Composition monumentale</td>\n",
       "      <td>1919.0</td>\n",
       "      <td>Abstract Art, Cubism</td>\n",
       "      <td>abstract</td>\n",
       "      <td>1.000000</td>\n",
       "      <td>symbolic</td>\n",
       "      <td>0.000003</td>\n",
       "      <td>abstract</td>\n",
       "      <td>None</td>\n",
       "      <td>surprise</td>\n",
       "      <td>https://uploads5.wikiart.org/images/auguste-herbin/composition-monumentale-1919.jpg</td>\n",
       "    </tr>\n",
       "    <tr>\n",
       "      <th>271534</th>\n",
       "      <td>Dimitris Mytaras</td>\n",
       "      <td>Untitled</td>\n",
       "      <td>NaN</td>\n",
       "      <td>Expressionism</td>\n",
       "      <td>abstract</td>\n",
       "      <td>0.881052</td>\n",
       "      <td>symbolic</td>\n",
       "      <td>0.007679</td>\n",
       "      <td>portrait</td>\n",
       "      <td>excitement, fear, something else, awe</td>\n",
       "      <td>None</td>\n",
       "      <td>https://uploads8.wikiart.org/images/dimitris-mytaras/untitled(7).jpg</td>\n",
       "    </tr>\n",
       "  </tbody>\n",
       "</table>\n",
       "</div>"
      ],
      "text/plain": [
       "                 artistName                    title    year  \\\n",
       "242455  Tsukioka Yoshitoshi   Yoshitsune with benkei     NaN   \n",
       "304835       Auguste Herbin  Composition monumentale  1919.0   \n",
       "271534     Dimitris Mytaras                 Untitled     NaN   \n",
       "\n",
       "                       style    breadth  breadth_probs     depth  depth_probs  \\\n",
       "242455               Ukiyo-e  abstract      0.950879  symbolic     0.043033   \n",
       "304835  Abstract Art, Cubism  abstract      1.000000  symbolic     0.000003   \n",
       "271534         Expressionism  abstract      0.881052  symbolic     0.007679   \n",
       "\n",
       "                 genre                                artemis  emotions  \\\n",
       "242455  genre painting     excitement, contentment, amusement      None   \n",
       "304835        abstract                                   None  surprise   \n",
       "271534        portrait  excitement, fear, something else, awe      None   \n",
       "\n",
       "                                                                                     webUrl  \n",
       "242455   https://uploads4.wikiart.org/images/tsukioka-yoshitoshi/yoshitsune-with-benkei.jpg  \n",
       "304835  https://uploads5.wikiart.org/images/auguste-herbin/composition-monumentale-1919.jpg  \n",
       "271534                 https://uploads8.wikiart.org/images/dimitris-mytaras/untitled(7).jpg  "
      ]
     },
     "execution_count": 5,
     "metadata": {},
     "output_type": "execute_result"
    }
   ],
   "source": [
    "model_predictions = {}\n",
    "for model in model_picks:\n",
    "    model_predictions[model] = pd.read_parquet(Path(\"./data\")/model/\"critic_output1.parquet\")\n",
    "model = model_picks[3]\n",
    "preds = model_predictions[model]\n",
    "preds.sample(3)"
   ]
  },
  {
   "cell_type": "code",
   "execution_count": 6,
   "metadata": {},
   "outputs": [
    {
     "data": {
      "text/html": [
       "<div>\n",
       "<style scoped>\n",
       "    .dataframe tbody tr th:only-of-type {\n",
       "        vertical-align: middle;\n",
       "    }\n",
       "\n",
       "    .dataframe tbody tr th {\n",
       "        vertical-align: top;\n",
       "    }\n",
       "\n",
       "    .dataframe thead th {\n",
       "        text-align: right;\n",
       "    }\n",
       "</style>\n",
       "<table border=\"1\" class=\"dataframe\">\n",
       "  <thead>\n",
       "    <tr style=\"text-align: right;\">\n",
       "      <th></th>\n",
       "      <th>year</th>\n",
       "      <th>breadth_probs</th>\n",
       "      <th>depth_probs</th>\n",
       "    </tr>\n",
       "  </thead>\n",
       "  <tbody>\n",
       "    <tr>\n",
       "      <th>count</th>\n",
       "      <td>683.000000</td>\n",
       "      <td>1.000000e+03</td>\n",
       "      <td>1.000000e+03</td>\n",
       "    </tr>\n",
       "    <tr>\n",
       "      <th>mean</th>\n",
       "      <td>1879.989751</td>\n",
       "      <td>4.733908e-01</td>\n",
       "      <td>6.191473e-01</td>\n",
       "    </tr>\n",
       "    <tr>\n",
       "      <th>std</th>\n",
       "      <td>137.908906</td>\n",
       "      <td>4.694516e-01</td>\n",
       "      <td>4.122708e-01</td>\n",
       "    </tr>\n",
       "    <tr>\n",
       "      <th>min</th>\n",
       "      <td>1436.000000</td>\n",
       "      <td>1.037809e-11</td>\n",
       "      <td>7.260302e-07</td>\n",
       "    </tr>\n",
       "    <tr>\n",
       "      <th>25%</th>\n",
       "      <td>1885.000000</td>\n",
       "      <td>2.992939e-04</td>\n",
       "      <td>1.252313e-01</td>\n",
       "    </tr>\n",
       "    <tr>\n",
       "      <th>50%</th>\n",
       "      <td>1925.000000</td>\n",
       "      <td>2.993215e-01</td>\n",
       "      <td>8.497476e-01</td>\n",
       "    </tr>\n",
       "    <tr>\n",
       "      <th>75%</th>\n",
       "      <td>1961.000000</td>\n",
       "      <td>9.999173e-01</td>\n",
       "      <td>9.952635e-01</td>\n",
       "    </tr>\n",
       "    <tr>\n",
       "      <th>max</th>\n",
       "      <td>2007.000000</td>\n",
       "      <td>1.000000e+00</td>\n",
       "      <td>1.000000e+00</td>\n",
       "    </tr>\n",
       "  </tbody>\n",
       "</table>\n",
       "</div>"
      ],
      "text/plain": [
       "              year  breadth_probs   depth_probs\n",
       "count   683.000000  1.000000e+03  1.000000e+03\n",
       "mean   1879.989751  4.733908e-01  6.191473e-01\n",
       "std     137.908906  4.694516e-01  4.122708e-01\n",
       "min    1436.000000  1.037809e-11  7.260302e-07\n",
       "25%    1885.000000  2.992939e-04  1.252313e-01\n",
       "50%    1925.000000  2.993215e-01  8.497476e-01\n",
       "75%    1961.000000  9.999173e-01  9.952635e-01\n",
       "max    2007.000000  1.000000e+00  1.000000e+00"
      ]
     },
     "execution_count": 6,
     "metadata": {},
     "output_type": "execute_result"
    }
   ],
   "source": [
    "preds.describe()"
   ]
  },
  {
   "cell_type": "code",
   "execution_count": 23,
   "metadata": {},
   "outputs": [
    {
     "data": {
      "image/png": "[encoded data removed]",
      "text/plain": [
       "<Figure size 600x600 with 1 Axes>"
      ]
     },
     "metadata": {},
     "output_type": "display_data"
    }
   ],
   "source": [
    "from fastai.vision.all import *\n",
    "from adjustText import adjust_text\n",
    "\n",
    "norm = plt.Normalize(1,4)\n",
    "fig, ax = plt.subplots(figsize=(6,6))\n",
    "cmap = plt.cm.RdYlGn\n",
    "c = preds[\"year\"]\n",
    "\n",
    "def coord(prob):\n",
    "    return ((1-prob)**2 - .5)*2\n",
    "x, y = coord(preds.breadth_probs), coord(preds.depth_probs) \n",
    "sc = plt.scatter(x=x, y=y, c=c, cmap=cmap, alpha=.25)\n",
    "plt.title(f\"{model} WikiArt predictions\")\n",
    "plt.xlabel(\"abstract <---> concrete\")\n",
    "plt.ylabel(\"iconic <---> symbolic\")\n",
    "\n",
    "# samples = preds.loc[(preds.breadth_probs > .05) & (preds.breadth_probs < .95)].sample(16)\n",
    "samples = preds.sample(45)\n",
    "annotations = []\n",
    "for _, sample in samples.iterrows():\n",
    "    # print(sample[\"style\"])\n",
    "    # plt.annotate(sample['style'], (coord(sample.breadth_probs), coord(sample.depth_probs)), fontsize=6)\n",
    "    annotations.append(plt.text(coord(sample.breadth_probs), coord(sample.depth_probs), sample['style'], size=6))\n",
    "\n",
    "adjust_text(annotations, x=samples[\"breadth_probs\"].apply(coord).values, y=samples[\"depth_probs\"].apply(coord).values, \n",
    "            only_move={'points':'y', 'text':'y'}, \n",
    "            arrowprops=dict(arrowstyle=\"->\", color=\"r\", lw=.5)\n",
    "            )\n",
    "\n",
    "plt.show()"
   ]
  },
  {
   "cell_type": "code",
   "execution_count": 24,
   "metadata": {},
   "outputs": [
    {
     "data": {
      "text/plain": [
       "<seaborn.axisgrid.JointGrid at 0x7ff25c4d8c90>"
      ]
     },
     "execution_count": 24,
     "metadata": {},
     "output_type": "execute_result"
    },
    {
     "data": {
      "image/png": "[encoded data removed]",
      "text/plain": [
       "<Figure size 600x600 with 3 Axes>"
      ]
     },
     "metadata": {},
     "output_type": "display_data"
    }
   ],
   "source": [
    "import seaborn as sns\n",
    "\n",
    "new_df = preds.copy()\n",
    "new_df = new_df.dropna(subset=['year'])\n",
    "# new_df = new_df.rename(columns={\"year\": \"target\"})\n",
    "x, y = new_df[\"breadth_probs\"].apply(coord), new_df[\"depth_probs\"].apply(coord)\n",
    "\n",
    "g = sns.JointGrid(data=new_df, x=x, y=y)\n",
    "g.set_axis_labels(xlabel=\"abstract <---> concrete\", ylabel=\"iconic <---> symbolic\")\n",
    "g.plot(sns.regplot, sns.histplot)"
   ]
  },
  {
   "cell_type": "code",
   "execution_count": 25,
   "metadata": {},
   "outputs": [
    {
     "data": {
      "text/html": [
       "<div>\n",
       "<style scoped>\n",
       "    .dataframe tbody tr th:only-of-type {\n",
       "        vertical-align: middle;\n",
       "    }\n",
       "\n",
       "    .dataframe tbody tr th {\n",
       "        vertical-align: top;\n",
       "    }\n",
       "\n",
       "    .dataframe thead th {\n",
       "        text-align: right;\n",
       "    }\n",
       "</style>\n",
       "<table border=\"1\" class=\"dataframe\">\n",
       "  <thead>\n",
       "    <tr style=\"text-align: right;\">\n",
       "      <th></th>\n",
       "      <th>artistName</th>\n",
       "      <th>title</th>\n",
       "      <th>year</th>\n",
       "      <th>style</th>\n",
       "      <th>breadth</th>\n",
       "      <th>breadth_probs</th>\n",
       "      <th>depth</th>\n",
       "      <th>depth_probs</th>\n",
       "      <th>genre</th>\n",
       "      <th>artemis</th>\n",
       "      <th>emotions</th>\n",
       "      <th>webUrl</th>\n",
       "    </tr>\n",
       "  </thead>\n",
       "  <tbody>\n",
       "    <tr>\n",
       "      <th>222130</th>\n",
       "      <td>Paul Klee</td>\n",
       "      <td>Death for the Idea</td>\n",
       "      <td>1915.0</td>\n",
       "      <td>Expressionism</td>\n",
       "      <td>abstract</td>\n",
       "      <td>0.999959</td>\n",
       "      <td>iconic</td>\n",
       "      <td>0.999961</td>\n",
       "      <td>symbolic painting</td>\n",
       "      <td>None</td>\n",
       "      <td>surprise</td>\n",
       "      <td>https://uploads4.wikiart.org/images/paul-klee/death-for-the-idea-1915.jpg</td>\n",
       "    </tr>\n",
       "  </tbody>\n",
       "</table>\n",
       "</div>"
      ],
      "text/plain": [
       "       artistName               title    year          style    breadth  \\\n",
       "222130  Paul Klee  Death for the Idea  1915.0  Expressionism  abstract   \n",
       "\n",
       "        breadth_probs   depth  depth_probs              genre artemis  \\\n",
       "222130      0.999959  iconic     0.999961  symbolic painting    None   \n",
       "\n",
       "        emotions  \\\n",
       "222130  surprise   \n",
       "\n",
       "                                                                           webUrl  \n",
       "222130  https://uploads4.wikiart.org/images/paul-klee/death-for-the-idea-1915.jpg  "
      ]
     },
     "execution_count": 25,
     "metadata": {},
     "output_type": "execute_result"
    }
   ],
   "source": [
    "new_df.sample()"
   ]
  },
  {
   "cell_type": "markdown",
   "metadata": {},
   "source": [
    "#### Provjera zavisnosti ciljane varijable s semantičkim dimenzijama"
   ]
  },
  {
   "cell_type": "code",
   "execution_count": 62,
   "metadata": {},
   "outputs": [
    {
     "data": {
      "text/plain": [
       "<function matplotlib.pyplot.show(close=None, block=None)>"
      ]
     },
     "execution_count": 62,
     "metadata": {},
     "output_type": "execute_result"
    },
    {
     "data": {
      "image/png": "[encoded data removed]",
      "text/plain": [
       "<Figure size 600x600 with 1 Axes>"
      ]
     },
     "metadata": {},
     "output_type": "display_data"
    }
   ],
   "source": [
    "\n",
    "from sklearn.feature_selection import mutual_info_classif as mir\n",
    "import numpy as np\n",
    "\n",
    "new_df[\"random\"] = np.random.uniform(0,1, new_df.shape[0])\n",
    "features, target =  [\"breadth_probs\", \"depth_probs\", \"random\"], \"year\"\n",
    "# df_mi = pd.DataFrame([mir(new_df[feature], new_df[target]) for feature in features], index = target, columns = features.columns).apply(lambda x: x / x.max(), axis = 1)\n",
    "mi = mir(new_df[features], new_df[target])\n",
    "labels = [\"breadth\", \"depth\", \"random\"]\n",
    "\n",
    "fig, ax = subplots(figsize=(6,6))\n",
    "# pd.DataFrame({\"feature\": features, \"vimp\": mi}).set_index(\"feature\").plot.barh(ax=ax)\n",
    "mip = plt.bar(labels, mi, width=0.8)\n",
    "plt.show\n"
   ]
  },
  {
   "cell_type": "markdown",
   "metadata": {},
   "source": [
    "### Testiranje na web stranicama\n"
   ]
  },
  {
   "cell_type": "code",
   "execution_count": 6,
   "metadata": {},
   "outputs": [
    {
     "name": "stdout",
     "output_type": "stream",
     "text": [
      "['https://static.gettyimages.com/display-sets/creative-landing/images/GettyImages-2131911406.jpg', 'https://static.gettyimages.com/display-sets/creative-landing/images/GettyImages-1995304390.jpg', 'https://static.gettyimages.com/display-sets/creative-landing/images/GettyImages-2086233684.jpg', 'https://static.gettyimages.com/display-sets/creative-landing/images/GettyImages-1820574038.jpg', 'https://static.gettyimages.com/display-sets/creative-landing/images/GettyImages-2112002315.jpg', 'https://static.gettyimages.com/display-sets/creative-landing/images/GettyImages-1939317654.jpg', 'https://static.gettyimages.com/display-sets/creative-landing/images/GettyImages-2116292040.jpg', 'https://static.gettyimages.com/display-sets/creative-landing/images/GettyImages-1859049658.jpg', 'https://static.gettyimages.com/display-sets/creative-landing/images/GettyImages-2043042354.jpg', 'https://static.gettyimages.com/display-sets/creative-landing/images/GettyImages-2039536981.jpg', 'https://static.gettyimages.com/display-sets/creative-landing/images/GettyImages-1850113646.jpg', 'https://static.gettyimages.com/display-sets/creative-landing/images/GettyImages-2009624301.jpg', 'https://static.gettyimages.com/display-sets/creative-landing/images/GettyImages-2101683364.jpg', 'https://static.gettyimages.com/display-sets/creative-landing/images/GettyImages-1992890382.jpg', 'https://static.gettyimages.com/display-sets/creative-landing/images/GettyImages-1679740778.jpg', 'https://static.gettyimages.com/display-sets/creative-landing/images/GettyImages-1860589317.jpg', 'https://static.gettyimages.com/display-sets/creative-landing/images/GettyImages-1304783400.jpg', 'https://static.gettyimages.com/display-sets/creative-landing/images/GettyImages-1393755062.jpg', 'https://static.gettyimages.com/display-sets/creative-landing/images/GettyImages-1960914287.jpg', 'https://static.gettyimages.com/display-sets/creative-landing/images/GettyImages-2031835947.jpg', 'https://static.gettyimages.com/display-sets/creative-landing/images/GettyImages-2050786702.jpg', 'https://static.gettyimages.com/display-sets/creative-landing/images/GettyImages-1694035096.jpg', 'https://static.gettyimages.com/display-sets/creative-landing/images/GettyImages-1711839971.jpg', 'https://static.gettyimages.com/display-sets/creative-landing/images/GettyImages-1988636956.jpg', 'https://static.gettyimages.com/display-sets/creative-landing/images/GettyImages-2015585487.jpg', 'https://static.gettyimages.com/display-sets/creative-landing/images/GettyImages-1448734171.jpg', 'https://static.gettyimages.com/display-sets/creative-landing/images/GettyImages-1369119153.jpg', 'https://static.gettyimages.com/display-sets/creative-landing/images/GettyImages-2022350754.jpg', 'https://static.gettyimages.com/display-sets/creative-landing/images/GettyImages-1941901326.jpg', 'https://static.gettyimages.com/display-sets/creative-landing/images/GettyImages-1907862843.jpg', 'https://static.gettyimages.com/display-sets/creative-landing/images/GettyImages-1960868890.jpg', 'https://static.gettyimages.com/display-sets/creative-landing/images/GettyImages-1757252335.jpg', 'https://static.gettyimages.com/display-sets/creative-landing/images/GettyImages-1887887112.jpg', 'https://static.gettyimages.com/display-sets/creative-landing/images/GettyImages-1411160666.jpg', 'https://static.gettyimages.com/display-sets/creative-landing/images/GettyImages-1434721875.jpg', 'https://static.gettyimages.com/display-sets/creative-landing/images/GettyImages-1948262747.jpg', 'https://static.gettyimages.com/display-sets/creative-landing/images/GettyImages-1769797142.jpg', 'https://static.gettyimages.com/display-sets/creative-landing/images/GettyImages-1590916844.jpg', 'https://static.gettyimages.com/display-sets/creative-landing/images/GettyImages-1768691458.jpg', 'https://static.gettyimages.com/display-sets/creative-landing/images/GettyImages-1305309578.jpg', 'https://static.gettyimages.com/display-sets/creative-landing/images/GettyImages-1955240006.jpg', 'https://static.gettyimages.com/display-sets/creative-landing/images/GettyImages-1833644650.jpg', 'https://static.gettyimages.com/display-sets/creative-landing/images/GettyImages-1441548860.jpg', 'https://static.gettyimages.com/display-sets/creative-landing/images/GettyImages-1453636602.jpg', 'https://static.gettyimages.com/display-sets/creative-landing/images/GettyImages-1939203504.jpg', 'https://static.gettyimages.com/display-sets/creative-landing/images/GettyImages-1498694392.jpg', 'https://static.gettyimages.com/display-sets/creative-landing/images/GettyImages-1562926350.jpg', 'https://static.gettyimages.com/display-sets/creative-landing/images/GettyImages-1926074362.jpg', 'https://static.gettyimages.com/display-sets/creative-landing/images/GettyImages-1902476555.jpg', 'https://static.gettyimages.com/display-sets/creative-landing/images/GettyImages-1468223506.jpg', 'https://static.gettyimages.com/display-sets/creative-landing/images/GettyImages-1724600113.jpg', 'https://static.gettyimages.com/display-sets/creative-landing/images/GettyImages-1807510851.jpg', 'https://static.gettyimages.com/display-sets/creative-landing/images/GettyImages-1812244974.jpg', 'https://static.gettyimages.com/display-sets/creative-landing/images/GettyImages-1710200569.jpg', 'https://static.gettyimages.com/display-sets/creative-landing/images/GettyImages-1942933509.jpg', 'https://static.gettyimages.com/display-sets/creative-landing/images/GettyImages-1978616599.jpg', 'https://static.gettyimages.com/display-sets/creative-landing/images/GettyImages-1916864037.jpg', 'https://static.gettyimages.com/display-sets/creative-landing/carousel/HPCarousel_VisGPSReportGTM-desktop.jpg', 'https://static.gettyimages.com/display-sets/creative-landing/carousel/86dt5r77a_HPCarousel_April-desktop.jpg', 'https://static.gettyimages.com/display-sets/creative-landing/carousel/86dragr76-HPCarousel-GenAI-desktop.jpg', 'https://static.gettyimages.com/display-sets/creative-landing/carousel/HPCarousel_VisGPSReportGTM-desktop.jpg', 'https://static.gettyimages.com/display-sets/creative-landing/carousel/86dt5r77a_HPCarousel_April-desktop.jpg', 'https://static.gettyimages.com/display-sets/creative-landing/carousel/86dragr76-HPCarousel-GenAI-desktop.jpg', 'https://static.gettyimages.com/display-sets/creative-landing/carousel/HPCarousel_VisGPSReportGTM-desktop.jpg', 'https://static.gettyimages.com/display-sets/creative-landing/carousel/86dt5r77a_HPCarousel_April-desktop.jpg', 'https://static.gettyimages.com/display-sets/creative-landing/carousel/86dragr76-HPCarousel-GenAI-desktop.jpg']\n",
      "ajmo00oooooo!\n",
      "//////////////// VGG11_BN_3X ////////////////\n",
      "\n",
      "\n",
      "#%&%##%&%##%&%##%&%##%&%##%&%##%&%##%&%##%&%##%&%##%&%##%&%##%&%##%&%##%&%#\n",
      "- 1 - 1 - 1 - 1 - 1 - 1 - 1 - 1 - 1 - 1 - 1 - 1 - 1 - 1 - 1 - \n"
     ]
    },
    {
     "data": {
      "text/html": [
       "\n",
       "<style>\n",
       "    /* Turns off some styling */\n",
       "    progress {\n",
       "        /* gets rid of default border in Firefox and Opera. */\n",
       "        border: none;\n",
       "        /* Needs to be in here for Safari polyfill so background images work as expected. */\n",
       "        background-size: auto;\n",
       "    }\n",
       "    progress:not([value]), progress:not([value])::-webkit-progress-bar {\n",
       "        background: repeating-linear-gradient(45deg, #7e7e7e, #7e7e7e 10px, #5c5c5c 10px, #5c5c5c 20px);\n",
       "    }\n",
       "    .progress-bar-interrupted, .progress-bar-interrupted::-webkit-progress-bar {\n",
       "        background: #F44336;\n",
       "    }\n",
       "</style>\n"
      ],
      "text/plain": [
       "<IPython.core.display.HTML object>"
      ]
     },
     "metadata": {},
     "output_type": "display_data"
    },
    {
     "data": {
      "text/html": [],
      "text/plain": [
       "<IPython.core.display.HTML object>"
      ]
     },
     "metadata": {},
     "output_type": "display_data"
    },
    {
     "name": "stdout",
     "output_type": "stream",
     "text": [
      "Image test1.jpg is concrete.\n",
      "('abstract', 0.0010556999) ('concrete', 0.99894434)\n"
     ]
    },
    {
     "data": {
      "text/html": [
       "\n",
       "<style>\n",
       "    /* Turns off some styling */\n",
       "    progress {\n",
       "        /* gets rid of default border in Firefox and Opera. */\n",
       "        border: none;\n",
       "        /* Needs to be in here for Safari polyfill so background images work as expected. */\n",
       "        background-size: auto;\n",
       "    }\n",
       "    progress:not([value]), progress:not([value])::-webkit-progress-bar {\n",
       "        background: repeating-linear-gradient(45deg, #7e7e7e, #7e7e7e 10px, #5c5c5c 10px, #5c5c5c 20px);\n",
       "    }\n",
       "    .progress-bar-interrupted, .progress-bar-interrupted::-webkit-progress-bar {\n",
       "        background: #F44336;\n",
       "    }\n",
       "</style>\n"
      ],
      "text/plain": [
       "<IPython.core.display.HTML object>"
      ]
     },
     "metadata": {},
     "output_type": "display_data"
    },
    {
     "data": {
      "text/html": [],
      "text/plain": [
       "<IPython.core.display.HTML object>"
      ]
     },
     "metadata": {},
     "output_type": "display_data"
    },
    {
     "name": "stdout",
     "output_type": "stream",
     "text": [
      "Image test1.jpg is iconic.\n",
      "('iconic', 0.67403936) ('symbolic', 0.3259606)\n",
      "\n",
      "\n",
      "#%&%##%&%##%&%##%&%##%&%##%&%##%&%##%&%##%&%##%&%##%&%##%&%##%&%##%&%##%&%#\n",
      "- 2 - 2 - 2 - 2 - 2 - 2 - 2 - 2 - 2 - 2 - 2 - 2 - 2 - 2 - 2 - \n"
     ]
    },
    {
     "data": {
      "text/html": [
       "\n",
       "<style>\n",
       "    /* Turns off some styling */\n",
       "    progress {\n",
       "        /* gets rid of default border in Firefox and Opera. */\n",
       "        border: none;\n",
       "        /* Needs to be in here for Safari polyfill so background images work as expected. */\n",
       "        background-size: auto;\n",
       "    }\n",
       "    progress:not([value]), progress:not([value])::-webkit-progress-bar {\n",
       "        background: repeating-linear-gradient(45deg, #7e7e7e, #7e7e7e 10px, #5c5c5c 10px, #5c5c5c 20px);\n",
       "    }\n",
       "    .progress-bar-interrupted, .progress-bar-interrupted::-webkit-progress-bar {\n",
       "        background: #F44336;\n",
       "    }\n",
       "</style>\n"
      ],
      "text/plain": [
       "<IPython.core.display.HTML object>"
      ]
     },
     "metadata": {},
     "output_type": "display_data"
    },
    {
     "data": {
      "text/html": [],
      "text/plain": [
       "<IPython.core.display.HTML object>"
      ]
     },
     "metadata": {},
     "output_type": "display_data"
    },
    {
     "name": "stdout",
     "output_type": "stream",
     "text": [
      "Image test2.jpg is concrete.\n",
      "('abstract', 4.013242e-06) ('concrete', 0.99999595)\n"
     ]
    },
    {
     "data": {
      "text/html": [
       "\n",
       "<style>\n",
       "    /* Turns off some styling */\n",
       "    progress {\n",
       "        /* gets rid of default border in Firefox and Opera. */\n",
       "        border: none;\n",
       "        /* Needs to be in here for Safari polyfill so background images work as expected. */\n",
       "        background-size: auto;\n",
       "    }\n",
       "    progress:not([value]), progress:not([value])::-webkit-progress-bar {\n",
       "        background: repeating-linear-gradient(45deg, #7e7e7e, #7e7e7e 10px, #5c5c5c 10px, #5c5c5c 20px);\n",
       "    }\n",
       "    .progress-bar-interrupted, .progress-bar-interrupted::-webkit-progress-bar {\n",
       "        background: #F44336;\n",
       "    }\n",
       "</style>\n"
      ],
      "text/plain": [
       "<IPython.core.display.HTML object>"
      ]
     },
     "metadata": {},
     "output_type": "display_data"
    },
    {
     "data": {
      "text/html": [],
      "text/plain": [
       "<IPython.core.display.HTML object>"
      ]
     },
     "metadata": {},
     "output_type": "display_data"
    },
    {
     "name": "stdout",
     "output_type": "stream",
     "text": [
      "Image test2.jpg is symbolic.\n",
      "('iconic', 0.0764169) ('symbolic', 0.9235831)\n",
      "\n",
      "\n",
      "#%&%##%&%##%&%##%&%##%&%##%&%##%&%##%&%##%&%##%&%##%&%##%&%##%&%##%&%##%&%#\n",
      "- 3 - 3 - 3 - 3 - 3 - 3 - 3 - 3 - 3 - 3 - 3 - 3 - 3 - 3 - 3 - \n"
     ]
    },
    {
     "data": {
      "text/html": [
       "\n",
       "<style>\n",
       "    /* Turns off some styling */\n",
       "    progress {\n",
       "        /* gets rid of default border in Firefox and Opera. */\n",
       "        border: none;\n",
       "        /* Needs to be in here for Safari polyfill so background images work as expected. */\n",
       "        background-size: auto;\n",
       "    }\n",
       "    progress:not([value]), progress:not([value])::-webkit-progress-bar {\n",
       "        background: repeating-linear-gradient(45deg, #7e7e7e, #7e7e7e 10px, #5c5c5c 10px, #5c5c5c 20px);\n",
       "    }\n",
       "    .progress-bar-interrupted, .progress-bar-interrupted::-webkit-progress-bar {\n",
       "        background: #F44336;\n",
       "    }\n",
       "</style>\n"
      ],
      "text/plain": [
       "<IPython.core.display.HTML object>"
      ]
     },
     "metadata": {},
     "output_type": "display_data"
    },
    {
     "data": {
      "text/html": [],
      "text/plain": [
       "<IPython.core.display.HTML object>"
      ]
     },
     "metadata": {},
     "output_type": "display_data"
    },
    {
     "name": "stdout",
     "output_type": "stream",
     "text": [
      "Image test3.jpg is concrete.\n",
      "('abstract', 0.04495972) ('concrete', 0.95504034)\n"
     ]
    },
    {
     "data": {
      "text/html": [
       "\n",
       "<style>\n",
       "    /* Turns off some styling */\n",
       "    progress {\n",
       "        /* gets rid of default border in Firefox and Opera. */\n",
       "        border: none;\n",
       "        /* Needs to be in here for Safari polyfill so background images work as expected. */\n",
       "        background-size: auto;\n",
       "    }\n",
       "    progress:not([value]), progress:not([value])::-webkit-progress-bar {\n",
       "        background: repeating-linear-gradient(45deg, #7e7e7e, #7e7e7e 10px, #5c5c5c 10px, #5c5c5c 20px);\n",
       "    }\n",
       "    .progress-bar-interrupted, .progress-bar-interrupted::-webkit-progress-bar {\n",
       "        background: #F44336;\n",
       "    }\n",
       "</style>\n"
      ],
      "text/plain": [
       "<IPython.core.display.HTML object>"
      ]
     },
     "metadata": {},
     "output_type": "display_data"
    },
    {
     "data": {
      "text/html": [],
      "text/plain": [
       "<IPython.core.display.HTML object>"
      ]
     },
     "metadata": {},
     "output_type": "display_data"
    },
    {
     "name": "stdout",
     "output_type": "stream",
     "text": [
      "Image test3.jpg is symbolic.\n",
      "('iconic', 0.32102478) ('symbolic', 0.67897516)\n",
      "\n",
      "\n",
      "#%&%##%&%##%&%##%&%##%&%##%&%##%&%##%&%##%&%##%&%##%&%##%&%##%&%##%&%##%&%#\n",
      "- 4 - 4 - 4 - 4 - 4 - 4 - 4 - 4 - 4 - 4 - 4 - 4 - 4 - 4 - 4 - \n"
     ]
    },
    {
     "data": {
      "text/html": [
       "\n",
       "<style>\n",
       "    /* Turns off some styling */\n",
       "    progress {\n",
       "        /* gets rid of default border in Firefox and Opera. */\n",
       "        border: none;\n",
       "        /* Needs to be in here for Safari polyfill so background images work as expected. */\n",
       "        background-size: auto;\n",
       "    }\n",
       "    progress:not([value]), progress:not([value])::-webkit-progress-bar {\n",
       "        background: repeating-linear-gradient(45deg, #7e7e7e, #7e7e7e 10px, #5c5c5c 10px, #5c5c5c 20px);\n",
       "    }\n",
       "    .progress-bar-interrupted, .progress-bar-interrupted::-webkit-progress-bar {\n",
       "        background: #F44336;\n",
       "    }\n",
       "</style>\n"
      ],
      "text/plain": [
       "<IPython.core.display.HTML object>"
      ]
     },
     "metadata": {},
     "output_type": "display_data"
    },
    {
     "data": {
      "text/html": [],
      "text/plain": [
       "<IPython.core.display.HTML object>"
      ]
     },
     "metadata": {},
     "output_type": "display_data"
    },
    {
     "name": "stdout",
     "output_type": "stream",
     "text": [
      "Image test4.jpg is concrete.\n",
      "('abstract', 0.00617949) ('concrete', 0.9938205)\n"
     ]
    },
    {
     "data": {
      "text/html": [
       "\n",
       "<style>\n",
       "    /* Turns off some styling */\n",
       "    progress {\n",
       "        /* gets rid of default border in Firefox and Opera. */\n",
       "        border: none;\n",
       "        /* Needs to be in here for Safari polyfill so background images work as expected. */\n",
       "        background-size: auto;\n",
       "    }\n",
       "    progress:not([value]), progress:not([value])::-webkit-progress-bar {\n",
       "        background: repeating-linear-gradient(45deg, #7e7e7e, #7e7e7e 10px, #5c5c5c 10px, #5c5c5c 20px);\n",
       "    }\n",
       "    .progress-bar-interrupted, .progress-bar-interrupted::-webkit-progress-bar {\n",
       "        background: #F44336;\n",
       "    }\n",
       "</style>\n"
      ],
      "text/plain": [
       "<IPython.core.display.HTML object>"
      ]
     },
     "metadata": {},
     "output_type": "display_data"
    },
    {
     "data": {
      "text/html": [],
      "text/plain": [
       "<IPython.core.display.HTML object>"
      ]
     },
     "metadata": {},
     "output_type": "display_data"
    },
    {
     "name": "stdout",
     "output_type": "stream",
     "text": [
      "Image test4.jpg is iconic.\n",
      "('iconic', 0.989876) ('symbolic', 0.010123977)\n",
      "\n",
      "\n",
      "#%&%##%&%##%&%##%&%##%&%##%&%##%&%##%&%##%&%##%&%##%&%##%&%##%&%##%&%##%&%#\n",
      "- 5 - 5 - 5 - 5 - 5 - 5 - 5 - 5 - 5 - 5 - 5 - 5 - 5 - 5 - 5 - \n"
     ]
    },
    {
     "data": {
      "text/html": [
       "\n",
       "<style>\n",
       "    /* Turns off some styling */\n",
       "    progress {\n",
       "        /* gets rid of default border in Firefox and Opera. */\n",
       "        border: none;\n",
       "        /* Needs to be in here for Safari polyfill so background images work as expected. */\n",
       "        background-size: auto;\n",
       "    }\n",
       "    progress:not([value]), progress:not([value])::-webkit-progress-bar {\n",
       "        background: repeating-linear-gradient(45deg, #7e7e7e, #7e7e7e 10px, #5c5c5c 10px, #5c5c5c 20px);\n",
       "    }\n",
       "    .progress-bar-interrupted, .progress-bar-interrupted::-webkit-progress-bar {\n",
       "        background: #F44336;\n",
       "    }\n",
       "</style>\n"
      ],
      "text/plain": [
       "<IPython.core.display.HTML object>"
      ]
     },
     "metadata": {},
     "output_type": "display_data"
    },
    {
     "data": {
      "text/html": [],
      "text/plain": [
       "<IPython.core.display.HTML object>"
      ]
     },
     "metadata": {},
     "output_type": "display_data"
    },
    {
     "name": "stdout",
     "output_type": "stream",
     "text": [
      "Image test5.jpg is concrete.\n",
      "('abstract', 1.5874755e-07) ('concrete', 0.9999999)\n"
     ]
    },
    {
     "data": {
      "text/html": [
       "\n",
       "<style>\n",
       "    /* Turns off some styling */\n",
       "    progress {\n",
       "        /* gets rid of default border in Firefox and Opera. */\n",
       "        border: none;\n",
       "        /* Needs to be in here for Safari polyfill so background images work as expected. */\n",
       "        background-size: auto;\n",
       "    }\n",
       "    progress:not([value]), progress:not([value])::-webkit-progress-bar {\n",
       "        background: repeating-linear-gradient(45deg, #7e7e7e, #7e7e7e 10px, #5c5c5c 10px, #5c5c5c 20px);\n",
       "    }\n",
       "    .progress-bar-interrupted, .progress-bar-interrupted::-webkit-progress-bar {\n",
       "        background: #F44336;\n",
       "    }\n",
       "</style>\n"
      ],
      "text/plain": [
       "<IPython.core.display.HTML object>"
      ]
     },
     "metadata": {},
     "output_type": "display_data"
    },
    {
     "data": {
      "text/html": [],
      "text/plain": [
       "<IPython.core.display.HTML object>"
      ]
     },
     "metadata": {},
     "output_type": "display_data"
    },
    {
     "name": "stdout",
     "output_type": "stream",
     "text": [
      "Image test5.jpg is symbolic.\n",
      "('iconic', 0.31339446) ('symbolic', 0.6866055)\n",
      "\n",
      "\n",
      "#%&%##%&%##%&%##%&%##%&%##%&%##%&%##%&%##%&%##%&%##%&%##%&%##%&%##%&%##%&%#\n",
      "- 6 - 6 - 6 - 6 - 6 - 6 - 6 - 6 - 6 - 6 - 6 - 6 - 6 - 6 - 6 - \n"
     ]
    },
    {
     "data": {
      "text/html": [
       "\n",
       "<style>\n",
       "    /* Turns off some styling */\n",
       "    progress {\n",
       "        /* gets rid of default border in Firefox and Opera. */\n",
       "        border: none;\n",
       "        /* Needs to be in here for Safari polyfill so background images work as expected. */\n",
       "        background-size: auto;\n",
       "    }\n",
       "    progress:not([value]), progress:not([value])::-webkit-progress-bar {\n",
       "        background: repeating-linear-gradient(45deg, #7e7e7e, #7e7e7e 10px, #5c5c5c 10px, #5c5c5c 20px);\n",
       "    }\n",
       "    .progress-bar-interrupted, .progress-bar-interrupted::-webkit-progress-bar {\n",
       "        background: #F44336;\n",
       "    }\n",
       "</style>\n"
      ],
      "text/plain": [
       "<IPython.core.display.HTML object>"
      ]
     },
     "metadata": {},
     "output_type": "display_data"
    },
    {
     "data": {
      "text/html": [],
      "text/plain": [
       "<IPython.core.display.HTML object>"
      ]
     },
     "metadata": {},
     "output_type": "display_data"
    },
    {
     "name": "stdout",
     "output_type": "stream",
     "text": [
      "Image test6.jpg is concrete.\n",
      "('abstract', 0.33989784) ('concrete', 0.6601022)\n"
     ]
    },
    {
     "data": {
      "text/html": [
       "\n",
       "<style>\n",
       "    /* Turns off some styling */\n",
       "    progress {\n",
       "        /* gets rid of default border in Firefox and Opera. */\n",
       "        border: none;\n",
       "        /* Needs to be in here for Safari polyfill so background images work as expected. */\n",
       "        background-size: auto;\n",
       "    }\n",
       "    progress:not([value]), progress:not([value])::-webkit-progress-bar {\n",
       "        background: repeating-linear-gradient(45deg, #7e7e7e, #7e7e7e 10px, #5c5c5c 10px, #5c5c5c 20px);\n",
       "    }\n",
       "    .progress-bar-interrupted, .progress-bar-interrupted::-webkit-progress-bar {\n",
       "        background: #F44336;\n",
       "    }\n",
       "</style>\n"
      ],
      "text/plain": [
       "<IPython.core.display.HTML object>"
      ]
     },
     "metadata": {},
     "output_type": "display_data"
    },
    {
     "data": {
      "text/html": [],
      "text/plain": [
       "<IPython.core.display.HTML object>"
      ]
     },
     "metadata": {},
     "output_type": "display_data"
    },
    {
     "name": "stdout",
     "output_type": "stream",
     "text": [
      "Image test6.jpg is iconic.\n",
      "('iconic', 0.66484624) ('symbolic', 0.33515376)\n",
      "\n",
      "\n",
      "#%&%##%&%##%&%##%&%##%&%##%&%##%&%##%&%##%&%##%&%##%&%##%&%##%&%##%&%##%&%#\n",
      "- 7 - 7 - 7 - 7 - 7 - 7 - 7 - 7 - 7 - 7 - 7 - 7 - 7 - 7 - 7 - \n"
     ]
    },
    {
     "data": {
      "text/html": [
       "\n",
       "<style>\n",
       "    /* Turns off some styling */\n",
       "    progress {\n",
       "        /* gets rid of default border in Firefox and Opera. */\n",
       "        border: none;\n",
       "        /* Needs to be in here for Safari polyfill so background images work as expected. */\n",
       "        background-size: auto;\n",
       "    }\n",
       "    progress:not([value]), progress:not([value])::-webkit-progress-bar {\n",
       "        background: repeating-linear-gradient(45deg, #7e7e7e, #7e7e7e 10px, #5c5c5c 10px, #5c5c5c 20px);\n",
       "    }\n",
       "    .progress-bar-interrupted, .progress-bar-interrupted::-webkit-progress-bar {\n",
       "        background: #F44336;\n",
       "    }\n",
       "</style>\n"
      ],
      "text/plain": [
       "<IPython.core.display.HTML object>"
      ]
     },
     "metadata": {},
     "output_type": "display_data"
    },
    {
     "data": {
      "text/html": [],
      "text/plain": [
       "<IPython.core.display.HTML object>"
      ]
     },
     "metadata": {},
     "output_type": "display_data"
    },
    {
     "name": "stdout",
     "output_type": "stream",
     "text": [
      "Image test7.jpg is concrete.\n",
      "('abstract', 0.021127649) ('concrete', 0.97887236)\n"
     ]
    },
    {
     "data": {
      "text/html": [
       "\n",
       "<style>\n",
       "    /* Turns off some styling */\n",
       "    progress {\n",
       "        /* gets rid of default border in Firefox and Opera. */\n",
       "        border: none;\n",
       "        /* Needs to be in here for Safari polyfill so background images work as expected. */\n",
       "        background-size: auto;\n",
       "    }\n",
       "    progress:not([value]), progress:not([value])::-webkit-progress-bar {\n",
       "        background: repeating-linear-gradient(45deg, #7e7e7e, #7e7e7e 10px, #5c5c5c 10px, #5c5c5c 20px);\n",
       "    }\n",
       "    .progress-bar-interrupted, .progress-bar-interrupted::-webkit-progress-bar {\n",
       "        background: #F44336;\n",
       "    }\n",
       "</style>\n"
      ],
      "text/plain": [
       "<IPython.core.display.HTML object>"
      ]
     },
     "metadata": {},
     "output_type": "display_data"
    },
    {
     "data": {
      "text/html": [],
      "text/plain": [
       "<IPython.core.display.HTML object>"
      ]
     },
     "metadata": {},
     "output_type": "display_data"
    },
    {
     "name": "stdout",
     "output_type": "stream",
     "text": [
      "Image test7.jpg is iconic.\n",
      "('iconic', 0.98572135) ('symbolic', 0.014278632)\n",
      "\n",
      "\n",
      "#%&%##%&%##%&%##%&%##%&%##%&%##%&%##%&%##%&%##%&%##%&%##%&%##%&%##%&%##%&%#\n",
      "- 8 - 8 - 8 - 8 - 8 - 8 - 8 - 8 - 8 - 8 - 8 - 8 - 8 - 8 - 8 - \n"
     ]
    },
    {
     "data": {
      "text/html": [
       "\n",
       "<style>\n",
       "    /* Turns off some styling */\n",
       "    progress {\n",
       "        /* gets rid of default border in Firefox and Opera. */\n",
       "        border: none;\n",
       "        /* Needs to be in here for Safari polyfill so background images work as expected. */\n",
       "        background-size: auto;\n",
       "    }\n",
       "    progress:not([value]), progress:not([value])::-webkit-progress-bar {\n",
       "        background: repeating-linear-gradient(45deg, #7e7e7e, #7e7e7e 10px, #5c5c5c 10px, #5c5c5c 20px);\n",
       "    }\n",
       "    .progress-bar-interrupted, .progress-bar-interrupted::-webkit-progress-bar {\n",
       "        background: #F44336;\n",
       "    }\n",
       "</style>\n"
      ],
      "text/plain": [
       "<IPython.core.display.HTML object>"
      ]
     },
     "metadata": {},
     "output_type": "display_data"
    },
    {
     "data": {
      "text/html": [],
      "text/plain": [
       "<IPython.core.display.HTML object>"
      ]
     },
     "metadata": {},
     "output_type": "display_data"
    },
    {
     "name": "stdout",
     "output_type": "stream",
     "text": [
      "Image test8.jpg is concrete.\n",
      "('abstract', 0.0063189166) ('concrete', 0.9936811)\n"
     ]
    },
    {
     "data": {
      "text/html": [
       "\n",
       "<style>\n",
       "    /* Turns off some styling */\n",
       "    progress {\n",
       "        /* gets rid of default border in Firefox and Opera. */\n",
       "        border: none;\n",
       "        /* Needs to be in here for Safari polyfill so background images work as expected. */\n",
       "        background-size: auto;\n",
       "    }\n",
       "    progress:not([value]), progress:not([value])::-webkit-progress-bar {\n",
       "        background: repeating-linear-gradient(45deg, #7e7e7e, #7e7e7e 10px, #5c5c5c 10px, #5c5c5c 20px);\n",
       "    }\n",
       "    .progress-bar-interrupted, .progress-bar-interrupted::-webkit-progress-bar {\n",
       "        background: #F44336;\n",
       "    }\n",
       "</style>\n"
      ],
      "text/plain": [
       "<IPython.core.display.HTML object>"
      ]
     },
     "metadata": {},
     "output_type": "display_data"
    },
    {
     "data": {
      "text/html": [],
      "text/plain": [
       "<IPython.core.display.HTML object>"
      ]
     },
     "metadata": {},
     "output_type": "display_data"
    },
    {
     "name": "stdout",
     "output_type": "stream",
     "text": [
      "Image test8.jpg is symbolic.\n",
      "('iconic', 0.1629952) ('symbolic', 0.83700484)\n",
      "\n",
      "\n",
      "#%&%##%&%##%&%##%&%##%&%##%&%##%&%##%&%##%&%##%&%##%&%##%&%##%&%##%&%##%&%#\n",
      "- 9 - 9 - 9 - 9 - 9 - 9 - 9 - 9 - 9 - 9 - 9 - 9 - 9 - 9 - 9 - \n"
     ]
    },
    {
     "data": {
      "text/html": [
       "\n",
       "<style>\n",
       "    /* Turns off some styling */\n",
       "    progress {\n",
       "        /* gets rid of default border in Firefox and Opera. */\n",
       "        border: none;\n",
       "        /* Needs to be in here for Safari polyfill so background images work as expected. */\n",
       "        background-size: auto;\n",
       "    }\n",
       "    progress:not([value]), progress:not([value])::-webkit-progress-bar {\n",
       "        background: repeating-linear-gradient(45deg, #7e7e7e, #7e7e7e 10px, #5c5c5c 10px, #5c5c5c 20px);\n",
       "    }\n",
       "    .progress-bar-interrupted, .progress-bar-interrupted::-webkit-progress-bar {\n",
       "        background: #F44336;\n",
       "    }\n",
       "</style>\n"
      ],
      "text/plain": [
       "<IPython.core.display.HTML object>"
      ]
     },
     "metadata": {},
     "output_type": "display_data"
    },
    {
     "data": {
      "text/html": [],
      "text/plain": [
       "<IPython.core.display.HTML object>"
      ]
     },
     "metadata": {},
     "output_type": "display_data"
    },
    {
     "name": "stdout",
     "output_type": "stream",
     "text": [
      "Image test9.jpg is abstract.\n",
      "('abstract', 0.99998796) ('concrete', 1.2027528e-05)\n"
     ]
    },
    {
     "data": {
      "text/html": [
       "\n",
       "<style>\n",
       "    /* Turns off some styling */\n",
       "    progress {\n",
       "        /* gets rid of default border in Firefox and Opera. */\n",
       "        border: none;\n",
       "        /* Needs to be in here for Safari polyfill so background images work as expected. */\n",
       "        background-size: auto;\n",
       "    }\n",
       "    progress:not([value]), progress:not([value])::-webkit-progress-bar {\n",
       "        background: repeating-linear-gradient(45deg, #7e7e7e, #7e7e7e 10px, #5c5c5c 10px, #5c5c5c 20px);\n",
       "    }\n",
       "    .progress-bar-interrupted, .progress-bar-interrupted::-webkit-progress-bar {\n",
       "        background: #F44336;\n",
       "    }\n",
       "</style>\n"
      ],
      "text/plain": [
       "<IPython.core.display.HTML object>"
      ]
     },
     "metadata": {},
     "output_type": "display_data"
    },
    {
     "data": {
      "text/html": [],
      "text/plain": [
       "<IPython.core.display.HTML object>"
      ]
     },
     "metadata": {},
     "output_type": "display_data"
    },
    {
     "name": "stdout",
     "output_type": "stream",
     "text": [
      "Image test9.jpg is symbolic.\n",
      "('iconic', 0.17957522) ('symbolic', 0.8204248)\n"
     ]
    }
   ],
   "source": [
    "from utils.downloader import page_scraper\n",
    "from utils.tester import test_learners\n",
    "\n",
    "# \"https://aiartists.org/generative-art-design\"\n",
    "# \"https://unsplash.com\"\n",
    "# \"https://www.metmuseum.org/art/collection/search?showOnly=openAccess\"\n",
    "# \"https://www.gettyimages.com\"\n",
    "\n",
    "internet = [\n",
    "    *page_scraper(\"https://www.gettyimages.com\"),\n",
    "]\n",
    "\n",
    "# \"https://tse2.mm.bing.net/th?id=OIP.UPZ1-G8gpc5FkNIC2RCWSgHaFj&pid=Api\",\n",
    "# \"https://tse2.mm.bing.net/th?id=OIP.if_cidFAKZ49wY7BLA3feQHaGE&pid=Api\",\n",
    "# \"https://tse4.mm.bing.net/th?id=OIP.Px4ySbgcqEgFJOhOq8k5mAHaEo&pid=Api\",\n",
    "# \"https://tse4.mm.bing.net/th?id=OIP.eNfpYf9Oqyh0u3_b1Eu20wHaGL&pid=Api\",\n",
    "# \"https://tse3.mm.bing.net/th?id=OIP.NEkbbYyu56hdqekgPKxmoQAAAA&pid=Api\",\n",
    "# \"https://tse3.mm.bing.net/th?id=OIF.jw1Qziy4XGJbDtTYtrBY3Q&pid=Api\",\n",
    "# \"https://tse2.mm.bing.net/th?id=OIP.pJwVOqij6rPFrOjcHc1jbAHaKj&pid=Api\",\n",
    "# \"https://tse1.mm.bing.net/th?id=OIP.-Hy08hdnnfvCwor0Y_fyGAHaLA&pid=Api\",\n",
    "# \"https://tse4.mm.bing.net/th?id=OIP.mUVhO-Zld2qEJKe_r9tJaAHaHn&pid=Api\",\n",
    "# \"https://tse2.mm.bing.net/th?id=OIP.DqjuCxnocoFQ0hvIH_Cm8wHaEK&pid=Api\",\n",
    "# \"https://tse1.mm.bing.net/th?id=OIP.EFoByYTKu1KbZgoVfocCDAHaFU&pid=Api\",\n",
    "# \"https://tse2.mm.bing.net/th?id=OIP.BFRcQqZ5Bpw1a-6u_XoBrwHaFj&pid=Api\",\n",
    "# \"https://tse2.mm.bing.net/th?id=OIP.2qqjQQ0wW37Lbvkx50zPxgHaEB&pid=Api\"\n",
    "\n",
    "for model_name, testee in testees.items():\n",
    "    test_learners(testee, test_set=internet, model_name=model_name, root=root/\"artefacts\", preview=False)"
   ]
  },
  {
   "cell_type": "code",
   "execution_count": 7,
   "metadata": {},
   "outputs": [
    {
     "data": {
      "text/plain": [
       "(['https://images.squarespace-cdn.com/content/v1/5c77350965a707ed1710a1bc/1588698548907-RADZYUVD1S7R2R7I0JMM/Generative+Software+Design+Example+-+Procedural+Modeling.jpeg',\n",
       "  'https://pili?ćsss3245i.png',\n",
       "  'https://images.squarespace-cdn.com/content/v1/5c77350965a707ed1710a1bc/1588703003192-B8US29YF5NDQZQK6WPUN/Silk+Interactive+Generative+Art.jpg'],\n",
       " ['http://vilinkonjic.jpeg'])"
      ]
     },
     "execution_count": 7,
     "metadata": {},
     "output_type": "execute_result"
    }
   ],
   "source": [
    "import re \n",
    "\n",
    "html = 'aaa a ad <img image=\"tupo-_&$banana.jpeg 300w, milica0087Pilica.png 120w\" /> safdsaf saf\\\n",
    "    \\safdafa <img asf afasf srcset=\"data:image/bmp jJAJBDADHHANDKNDKAKNNDDMNANDMND\" src=\"345a\"/> \\\n",
    "    saf sa<img data-stretch=\"false\" data-src=\"https://images.squarespace-cdn.com/content/v1/5c77350965a707ed1710a1bc/1588698548907-RADZYUVD1S7R2R7I0JMM/Generative+Software+Design+Example+-+Procedural+Modeling.jpeg\" data-image=\"https://images.squarespace-cdn.com/content/v1/5c77350965a707ed1710a1bc/1588698548907-RADZYUVD1S7R2R7I0JMM/Generative+Software+Design+Example+-+Procedural+Modeling.jpeg\" data-image-dimensions=\"1500x842\" data-image-focal-point=\"0.5,0.5\" alt=\"Generative Software Design Example - Procedural Modeling.jpeg\" data-load=\"false\" src=\"https://images.squarespace-cdn.com/content/v1/5c77350965a707ed1710a1bc/1588698548907-RADZYUVD1S7R2R7I0JMM/Generative+Software+Design+Example+-+Procedural+Modeling.jpeg\" width=\"1500\" height=\"842\" alt=\"\" sizes=\"100vw\" style=\"display:block;object-fit: cover; width: 100%; height: 100%; object-position: 50% 50%\" srcset=\"https://images.squarespace-cdn.com/content/v1/5c77350965a707ed1710a1bc/1588698548907-RADZYUVD1S7R2R7I0JMM/Generative+Software+Design+Example+-+Procedural+Modeling.jpeg?format=100w 100w, https://images.squarespace-cdn.com/content/v1/5c77350965a707ed1710a1bc/1588698548907-RADZYUVD1S7R2R7I0JMM/Generative+Software+Design+Example+-+Procedural+Modeling.jpeg?format=300w 300w, https://images.squarespace-cdn.com/content/v1/5c77350965a707ed1710a1bc/1588698548907-RADZYUVD1S7R2R7I0JMM/Generative+Software+Design+Example+-+Procedural+Modeling.jpeg?format=500w 500w, https://images.squarespace-cdn.com/content/v1/5c77350965a707ed1710a1bc/1588698548907-RADZYUVD1S7R2R7I0JMM/Generative+Software+Design+Example+-+Procedural+Modeling.jpeg?format=750w 750w, https://images.squarespace-cdn.com/content/v1/5c77350965a707ed1710a1bc/1588698548907-RADZYUVD1S7R2R7I0JMM/Generative+Software+Design+Example+-+Procedural+Modeling.jpeg?format=1000w 1000w, https://images.squarespace-cdn.com/content/v1/5c77350965a707ed1710a1bc/1588698548907-RADZYUVD1S7R2R7I0JMM/Generative+Software+Design+Example+-+Procedural+Modeling.jpeg?format=1500w 1500w, https://images.squarespace-cdn.com/content/v1/5c77350965a707ed1710a1bc/1588698548907-RADZYUVD1S7R2R7I0JMM/Generative+Software+Design+Example+-+Procedural+Modeling.jpeg?format=2500w 2500w\" loading=\"lazy\" decoding=\"async\" data-loader=\"sqs\">\\\n",
    "     ffasf asf asf <figure srcset= \"https://pili?ćsss3245i.png\" =src=><div style=\"background-image: url(http://vilinkonjic.jpeg )\" >saf </div> \\\n",
    "        <img data-stretch=\"false\" data-src=\"https://images.squarespace-cdn.com/content/v1/5c77350965a707ed1710a1bc/1588703003192-B8US29YF5NDQZQK6WPUN/Silk+Interactive+Generative+Art.jpg\" data-image=\"https://images.squarespace-cdn.com/content/v1/5c77350965a707ed1710a1bc/1588703003192-B8US29YF5NDQZQK6WPUN/Silk+Interactive+Generative+Art.jpg\" data-image-dimensions=\"1958x720\" data-image-focal-point=\"0.5,0.5\" alt=\"Silk Interactive Generative Art.jpg\" data-load=\"false\" src=\"https://images.squarespace-cdn.com/content/v1/5c77350965a707ed1710a1bc/1588703003192-B8US29YF5NDQZQK6WPUN/Silk+Interactive+Generative+Art.jpg\" width=\"1958\" height=\"720\" alt=\"\" sizes=\"100vw\" style=\"display:block;object-fit: cover; width: 100%; height: 100%; object-position: 50% 50%\" srcset=\"https://images.squarespace-cdn.com/content/v1/5c77350965a707ed1710a1bc/1588703003192-B8US29YF5NDQZQK6WPUN/Silk+Interactive+Generative+Art.jpg?format=100w 100w, https://images.squarespace-cdn.com/content/v1/5c77350965a707ed1710a1bc/1588703003192-B8US29YF5NDQZQK6WPUN/Silk+Interactive+Generative+Art.jpg?format=300w 300w, https://images.squarespace-cdn.com/content/v1/5c77350965a707ed1710a1bc/1588703003192-B8US29YF5NDQZQK6WPUN/Silk+Interactive+Generative+Art.jpg?format=500w 500w, https://images.squarespace-cdn.com/content/v1/5c77350965a707ed1710a1bc/1588703003192-B8US29YF5NDQZQK6WPUN/Silk+Interactive+Generative+Art.jpg?format=750w 750w, https://images.squarespace-cdn.com/content/v1/5c77350965a707ed1710a1bc/1588703003192-B8US29YF5NDQZQK6WPUN/Silk+Interactive+Generative+Art.jpg?format=1000w 1000w, https://images.squarespace-cdn.com/content/v1/5c77350965a707ed1710a1bc/1588703003192-B8US29YF5NDQZQK6WPUN/Silk+Interactive+Generative+Art.jpg?format=1500w 1500w, https://images.squarespace-cdn.com/content/v1/5c77350965a707ed1710a1bc/1588703003192-B8US29YF5NDQZQK6WPUN/Silk+Interactive+Generative+Art.jpg?format=2500w 2500w\" loading=\"lazy\" decoding=\"async\" data-loader=\"sqs\">'\n",
    "\n",
    "src = \"<(?:img|figure)[\\s]*.*?(?:src|image)(?:set)?=[\\\"'\\s]+((?:http)[^'\\\"\\s]+(?:.jpg|.jpeg|.png|.gif|,))[^'\\\"]*?[\\\"']+.*?>\"\n",
    "bgurl = \"url\\([\\s]*?((?:http)[^\\\"'\\s]+(?:.jpg|.jpeg|.png))[^\\\"']*?\\)\"\n",
    "\n",
    "\n",
    "re.findall(src, html, re.IGNORECASE), re.findall(bgurl, html, re.IGNORECASE)"
   ]
  }
 ],
 "metadata": {
  "kernelspec": {
   "display_name": "fastai",
   "language": "python",
   "name": "python3"
  },
  "language_info": {
   "codemirror_mode": {
    "name": "ipython",
    "version": 3
   },
   "file_extension": ".py",
   "mimetype": "text/x-python",
   "name": "python",
   "nbconvert_exporter": "python",
   "pygments_lexer": "ipython3",
   "version": "3.11.6"
  }
 },
 "nbformat": 4,
 "nbformat_minor": 2
}
